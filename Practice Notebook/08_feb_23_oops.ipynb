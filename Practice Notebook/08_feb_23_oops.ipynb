{
 "cells": [
  {
   "cell_type": "markdown",
   "id": "370b159d-adad-4150-a751-f6dd8cddff06",
   "metadata": {},
   "source": [
    "## OPPS\n",
    "- Polymorphism\n",
    "- Encapsulation\n",
    "- Inheritance\n",
    "- Abstraction"
   ]
  },
  {
   "cell_type": "markdown",
   "id": "73a53da3-e2e8-49d0-9202-267dd5820f0c",
   "metadata": {},
   "source": [
    "### Polymorphism"
   ]
  },
  {
   "cell_type": "code",
   "execution_count": 1,
   "id": "c671ec8b-bfa4-4b4a-b843-8ace313a14cb",
   "metadata": {},
   "outputs": [],
   "source": [
    "def test(a,b):\n",
    "    return a+b"
   ]
  },
  {
   "cell_type": "code",
   "execution_count": 2,
   "id": "eed5c8b1-4e3f-4099-98eb-3a8eeea3536e",
   "metadata": {},
   "outputs": [
    {
     "data": {
      "text/plain": [
       "9"
      ]
     },
     "execution_count": 2,
     "metadata": {},
     "output_type": "execute_result"
    }
   ],
   "source": [
    "test(4,5)"
   ]
  },
  {
   "cell_type": "code",
   "execution_count": 3,
   "id": "23eadcf9-a463-49a0-ae2a-5bf20ec0be4a",
   "metadata": {},
   "outputs": [
    {
     "data": {
      "text/plain": [
       "'aaryan kaushik'"
      ]
     },
     "execution_count": 3,
     "metadata": {},
     "output_type": "execute_result"
    }
   ],
   "source": [
    "test(\"aaryan\",\" kaushik\")"
   ]
  },
  {
   "cell_type": "markdown",
   "id": "2b9c9e49-0ba9-46ba-9021-cc56c8262411",
   "metadata": {},
   "source": [
    "this function is an example of polymorphism because of multiple characteristics it is doing addition and it is doing concatination"
   ]
  },
  {
   "cell_type": "code",
   "execution_count": 4,
   "id": "8f77e9ee-5e45-405e-8439-f981cbe8bb56",
   "metadata": {},
   "outputs": [
    {
     "data": {
      "text/plain": [
       "[2, 3, 4, 5, 6, 4, 5, 6, 7]"
      ]
     },
     "execution_count": 4,
     "metadata": {},
     "output_type": "execute_result"
    }
   ],
   "source": [
    "test([2,3,4,5,6],[4,5,6,7])"
   ]
  },
  {
   "cell_type": "code",
   "execution_count": 5,
   "id": "59f41205-8bed-446d-8d7b-4df7384b69d0",
   "metadata": {},
   "outputs": [],
   "source": [
    "class data_science:\n",
    "    def syllabus(self):\n",
    "        print(\"this is my method for data science syllabus\")"
   ]
  },
  {
   "cell_type": "code",
   "execution_count": 6,
   "id": "5611e0c3-e827-4de0-9920-99afe9e6efd1",
   "metadata": {},
   "outputs": [],
   "source": [
    "class web_def:\n",
    "    def syllabus(self):\n",
    "        print(\"this is my method dor web dev\")"
   ]
  },
  {
   "cell_type": "code",
   "execution_count": 7,
   "id": "b93434a7-f47a-4755-bac1-5001f5d93720",
   "metadata": {},
   "outputs": [],
   "source": [
    "def class_parcer(class_obj):\n",
    "    for i in class_obj:\n",
    "        i.syllabus()"
   ]
  },
  {
   "cell_type": "code",
   "execution_count": 8,
   "id": "9de54df2-a115-45f4-99f4-23d49150f2f9",
   "metadata": {},
   "outputs": [],
   "source": [
    "obj_data_science = data_science()"
   ]
  },
  {
   "cell_type": "code",
   "execution_count": 9,
   "id": "54559685-6a4b-41c1-a56a-6081cda9c261",
   "metadata": {},
   "outputs": [],
   "source": [
    "obj_web_dev = web_def()"
   ]
  },
  {
   "cell_type": "code",
   "execution_count": 10,
   "id": "5550b45a-d113-485d-8b47-e9260549f76e",
   "metadata": {},
   "outputs": [],
   "source": [
    "class_obj = [obj_data_science,obj_web_dev]"
   ]
  },
  {
   "cell_type": "code",
   "execution_count": 11,
   "id": "9f19fd46-6b7a-4931-b7c4-f2da133f8851",
   "metadata": {},
   "outputs": [
    {
     "name": "stdout",
     "output_type": "stream",
     "text": [
      "this is my method for data science syllabus\n",
      "this is my method dor web dev\n"
     ]
    }
   ],
   "source": [
    "class_parcer(class_obj)"
   ]
  },
  {
   "cell_type": "markdown",
   "id": "6d9800b2-a507-4e62-96fa-c9a03b37cf3e",
   "metadata": {},
   "source": [
    "### Encapsulation"
   ]
  },
  {
   "cell_type": "code",
   "execution_count": 12,
   "id": "bff3a3e5-25bb-4f7e-a4a3-d4c4d29afe13",
   "metadata": {},
   "outputs": [],
   "source": [
    "class test:\n",
    "    def __init__(self,a,b):\n",
    "        self.a = a\n",
    "        self.b = b"
   ]
  },
  {
   "cell_type": "code",
   "execution_count": 13,
   "id": "9dacf4c1-69d6-44e0-b2eb-a835f6c0d523",
   "metadata": {},
   "outputs": [],
   "source": [
    "t = test(45,56)"
   ]
  },
  {
   "cell_type": "code",
   "execution_count": 14,
   "id": "c34fc14e-abcd-4e3a-8927-69b8839d2575",
   "metadata": {},
   "outputs": [
    {
     "data": {
      "text/plain": [
       "45"
      ]
     },
     "execution_count": 14,
     "metadata": {},
     "output_type": "execute_result"
    }
   ],
   "source": [
    "t.a"
   ]
  },
  {
   "cell_type": "code",
   "execution_count": 15,
   "id": "9f60a694-6565-4417-ab35-fed8e1b5b9ff",
   "metadata": {},
   "outputs": [
    {
     "data": {
      "text/plain": [
       "56"
      ]
     },
     "execution_count": 15,
     "metadata": {},
     "output_type": "execute_result"
    }
   ],
   "source": [
    "t.b"
   ]
  },
  {
   "cell_type": "code",
   "execution_count": 16,
   "id": "d07c0835-b25e-4d39-874a-bff799958159",
   "metadata": {},
   "outputs": [],
   "source": [
    "t.a = 3243"
   ]
  },
  {
   "cell_type": "code",
   "execution_count": 17,
   "id": "825aa632-148f-48ff-9b9f-cc0fa6ca0231",
   "metadata": {},
   "outputs": [
    {
     "data": {
      "text/plain": [
       "3243"
      ]
     },
     "execution_count": 17,
     "metadata": {},
     "output_type": "execute_result"
    }
   ],
   "source": [
    "t.a"
   ]
  },
  {
   "cell_type": "code",
   "execution_count": 18,
   "id": "bc89e496-ab5a-4bfd-886b-e2d2d8df5d66",
   "metadata": {},
   "outputs": [],
   "source": [
    "## \"self.__\" is private no one can access it\n",
    "class car:\n",
    "    \n",
    "    def __init__(self,year,make,model,speed):\n",
    "        self.__year = year\n",
    "        self.__make = make\n",
    "        self.__model = model\n",
    "        self.__speed = 0\n",
    "        \n",
    "    def set_speed(self,speed):\n",
    "        self.__speed = 0 if speed < 0 else speed\n",
    "        \n",
    "    def get_speed(self):\n",
    "        return self.__speed"
   ]
  },
  {
   "cell_type": "code",
   "execution_count": 19,
   "id": "981bb4b0-d203-4e16-b3b1-b125613e8ecb",
   "metadata": {},
   "outputs": [],
   "source": [
    "obj_car = car(2021,\"toyota\",\"innova\",12)"
   ]
  },
  {
   "cell_type": "code",
   "execution_count": 20,
   "id": "f5e0df00-85a3-4840-94d5-fbb65c2da8b2",
   "metadata": {},
   "outputs": [
    {
     "ename": "AttributeError",
     "evalue": "'car' object has no attribute '__year'",
     "output_type": "error",
     "traceback": [
      "\u001b[0;31m---------------------------------------------------------------------------\u001b[0m",
      "\u001b[0;31mAttributeError\u001b[0m                            Traceback (most recent call last)",
      "Cell \u001b[0;32mIn[20], line 1\u001b[0m\n\u001b[0;32m----> 1\u001b[0m \u001b[43mobj_car\u001b[49m\u001b[38;5;241;43m.\u001b[39;49m\u001b[43m__year\u001b[49m\n",
      "\u001b[0;31mAttributeError\u001b[0m: 'car' object has no attribute '__year'"
     ]
    }
   ],
   "source": [
    "obj_car.__year"
   ]
  },
  {
   "cell_type": "code",
   "execution_count": 21,
   "id": "ee3ede0b-14bf-4ce4-ba88-d77c989dd08d",
   "metadata": {},
   "outputs": [
    {
     "data": {
      "text/plain": [
       "2021"
      ]
     },
     "execution_count": 21,
     "metadata": {},
     "output_type": "execute_result"
    }
   ],
   "source": [
    "obj_car._car__year"
   ]
  },
  {
   "cell_type": "code",
   "execution_count": 22,
   "id": "a82cbbef-43d8-4ee9-9a6e-545957867190",
   "metadata": {},
   "outputs": [],
   "source": [
    "obj_car._car__year = 2023"
   ]
  },
  {
   "cell_type": "code",
   "execution_count": 23,
   "id": "715c7d0d-3426-419b-acbe-7c7bcd30acba",
   "metadata": {},
   "outputs": [
    {
     "data": {
      "text/plain": [
       "2023"
      ]
     },
     "execution_count": 23,
     "metadata": {},
     "output_type": "execute_result"
    }
   ],
   "source": [
    "obj_car._car__year"
   ]
  },
  {
   "cell_type": "code",
   "execution_count": 24,
   "id": "80e2f0ac-3e8a-4748-85e3-0a3a459d4da5",
   "metadata": {},
   "outputs": [],
   "source": [
    "obj_car.set_speed = -2028"
   ]
  },
  {
   "cell_type": "code",
   "execution_count": 25,
   "id": "336d9a0d-1ef2-461f-9258-d58f559439ab",
   "metadata": {},
   "outputs": [
    {
     "data": {
      "text/plain": [
       "-2028"
      ]
     },
     "execution_count": 25,
     "metadata": {},
     "output_type": "execute_result"
    }
   ],
   "source": [
    "obj_car.set_speed"
   ]
  },
  {
   "cell_type": "code",
   "execution_count": 26,
   "id": "c6426293-743c-43a9-b90e-fc7c81c2c5f3",
   "metadata": {},
   "outputs": [
    {
     "data": {
      "text/plain": [
       "2023"
      ]
     },
     "execution_count": 26,
     "metadata": {},
     "output_type": "execute_result"
    }
   ],
   "source": [
    "obj_car._car__year"
   ]
  },
  {
   "cell_type": "code",
   "execution_count": 27,
   "id": "23bb7423-c081-4024-aa8d-d235ffa8a699",
   "metadata": {},
   "outputs": [],
   "source": [
    "obj_car.set_speed = 2029"
   ]
  },
  {
   "cell_type": "code",
   "execution_count": 28,
   "id": "4adf86e7-b81d-4e15-a412-bb6ea12bd0b0",
   "metadata": {},
   "outputs": [
    {
     "data": {
      "text/plain": [
       "2029"
      ]
     },
     "execution_count": 28,
     "metadata": {},
     "output_type": "execute_result"
    }
   ],
   "source": [
    "obj_car.set_speed"
   ]
  },
  {
   "cell_type": "code",
   "execution_count": 29,
   "id": "2f24c1b8-dd52-4ad4-902e-f59b07049149",
   "metadata": {},
   "outputs": [
    {
     "data": {
      "text/plain": [
       "0"
      ]
     },
     "execution_count": 29,
     "metadata": {},
     "output_type": "execute_result"
    }
   ],
   "source": [
    "obj_car.get_speed()"
   ]
  },
  {
   "cell_type": "code",
   "execution_count": 30,
   "id": "d6895dda-a57d-45b5-b900-e882b5f25222",
   "metadata": {},
   "outputs": [],
   "source": [
    "class bank_account:\n",
    "    \n",
    "    def __init__(self,balance):\n",
    "        self.__balance = balance\n",
    "    \n",
    "    def deposit(self,amount):\n",
    "        self.__balance = self.__balance + amount\n",
    "        \n",
    "    def withdraw(self,amount):\n",
    "        if self.__balance >= amount:\n",
    "            self.__balance = self.__balance - amount\n",
    "            return True\n",
    "        else:\n",
    "            return False\n",
    "    \n",
    "    def get_balance(self):\n",
    "        return self.__balance"
   ]
  },
  {
   "cell_type": "code",
   "execution_count": 31,
   "id": "79ab7ca0-6318-41d1-84bd-1e6188cf1469",
   "metadata": {},
   "outputs": [],
   "source": [
    "obj_bank_account = bank_account(1000)"
   ]
  },
  {
   "cell_type": "code",
   "execution_count": 32,
   "id": "46731b9d-210c-47ec-a428-7cccaf729940",
   "metadata": {},
   "outputs": [
    {
     "data": {
      "text/plain": [
       "1000"
      ]
     },
     "execution_count": 32,
     "metadata": {},
     "output_type": "execute_result"
    }
   ],
   "source": [
    "obj_bank_account.get_balance()"
   ]
  },
  {
   "cell_type": "code",
   "execution_count": 33,
   "id": "1137356f-98c3-4297-b442-21ed0e11bd6c",
   "metadata": {},
   "outputs": [],
   "source": [
    "obj_bank_account.deposit(6000)"
   ]
  },
  {
   "cell_type": "code",
   "execution_count": 34,
   "id": "c153b3c4-96b0-4ded-9f9a-891067d51a5f",
   "metadata": {},
   "outputs": [
    {
     "data": {
      "text/plain": [
       "7000"
      ]
     },
     "execution_count": 34,
     "metadata": {},
     "output_type": "execute_result"
    }
   ],
   "source": [
    "obj_bank_account.get_balance()"
   ]
  },
  {
   "cell_type": "code",
   "execution_count": 35,
   "id": "001b7658-f9c9-474c-b230-132c6b751b23",
   "metadata": {},
   "outputs": [
    {
     "data": {
      "text/plain": [
       "False"
      ]
     },
     "execution_count": 35,
     "metadata": {},
     "output_type": "execute_result"
    }
   ],
   "source": [
    "obj_bank_account.withdraw(10000)"
   ]
  },
  {
   "cell_type": "code",
   "execution_count": 36,
   "id": "1f7df139-cdd4-41a7-9d08-044d409e70ec",
   "metadata": {},
   "outputs": [
    {
     "data": {
      "text/plain": [
       "True"
      ]
     },
     "execution_count": 36,
     "metadata": {},
     "output_type": "execute_result"
    }
   ],
   "source": [
    "obj_bank_account.withdraw(2000)"
   ]
  },
  {
   "cell_type": "code",
   "execution_count": 37,
   "id": "4786f0ee-d31b-4b0b-8b77-8d3409aa4686",
   "metadata": {},
   "outputs": [
    {
     "data": {
      "text/plain": [
       "5000"
      ]
     },
     "execution_count": 37,
     "metadata": {},
     "output_type": "execute_result"
    }
   ],
   "source": [
    "obj_bank_account.get_balance()"
   ]
  },
  {
   "cell_type": "markdown",
   "id": "684a5bbb-b969-4397-a617-d281d7e0866f",
   "metadata": {},
   "source": [
    "### Inheritance"
   ]
  },
  {
   "cell_type": "code",
   "execution_count": 38,
   "id": "d19ae714-6740-4c0f-b5e0-7604f3a26490",
   "metadata": {},
   "outputs": [],
   "source": [
    "class parent:\n",
    "    \n",
    "    def test_parent(self):\n",
    "        print(\"this is my parent class\")"
   ]
  },
  {
   "cell_type": "code",
   "execution_count": 39,
   "id": "fb53be4a-48ed-43bb-a8a7-211bed0fdb7b",
   "metadata": {},
   "outputs": [],
   "source": [
    "class child(parent):\n",
    "    pass"
   ]
  },
  {
   "cell_type": "code",
   "execution_count": 40,
   "id": "943ac726-7755-43bc-b101-e04376cabfa2",
   "metadata": {},
   "outputs": [],
   "source": [
    "child_obj = child()"
   ]
  },
  {
   "cell_type": "code",
   "execution_count": 41,
   "id": "904c378c-b437-4787-b825-5381b8e897a9",
   "metadata": {},
   "outputs": [
    {
     "name": "stdout",
     "output_type": "stream",
     "text": [
      "this is my parent class\n"
     ]
    }
   ],
   "source": [
    "child_obj.test_parent()"
   ]
  },
  {
   "cell_type": "code",
   "execution_count": 42,
   "id": "ae94665e-5618-4539-ab7e-dbbe5b3a9152",
   "metadata": {},
   "outputs": [],
   "source": [
    "# Multilabel Inheritance\n",
    "class class1:\n",
    "    def test_class1(self):\n",
    "        print(\"this is my class1\")"
   ]
  },
  {
   "cell_type": "code",
   "execution_count": 43,
   "id": "25fd5bf4-ef74-498a-8850-6c00a694302a",
   "metadata": {},
   "outputs": [],
   "source": [
    "class class2(class1):\n",
    "    def test_class2(self):\n",
    "        print(\"this is my class2\")"
   ]
  },
  {
   "cell_type": "code",
   "execution_count": 44,
   "id": "e5191a22-ee6c-40b6-b1db-f172927dc452",
   "metadata": {},
   "outputs": [],
   "source": [
    "class class3(class2):\n",
    "    def test_class3(self):\n",
    "        print(\"this is my class3\")"
   ]
  },
  {
   "cell_type": "code",
   "execution_count": 45,
   "id": "e42e700e-c0f4-4186-b9d8-acbb8e4bd055",
   "metadata": {},
   "outputs": [],
   "source": [
    "obj_class3 = class3()"
   ]
  },
  {
   "cell_type": "code",
   "execution_count": 46,
   "id": "ba6cd7ff-dcbb-43de-b0cc-575915051ec8",
   "metadata": {},
   "outputs": [
    {
     "name": "stdout",
     "output_type": "stream",
     "text": [
      "this is my class1\n"
     ]
    }
   ],
   "source": [
    "obj_class3.test_class1()"
   ]
  },
  {
   "cell_type": "code",
   "execution_count": 47,
   "id": "09075ed6-44fd-455c-bcba-15cefae49e01",
   "metadata": {},
   "outputs": [
    {
     "name": "stdout",
     "output_type": "stream",
     "text": [
      "this is my class2\n"
     ]
    }
   ],
   "source": [
    "obj_class3.test_class2()"
   ]
  },
  {
   "cell_type": "code",
   "execution_count": 48,
   "id": "3cf8adee-05b9-490f-8beb-2fe82be9aefb",
   "metadata": {},
   "outputs": [
    {
     "name": "stdout",
     "output_type": "stream",
     "text": [
      "this is my class3\n"
     ]
    }
   ],
   "source": [
    "obj_class3.test_class3()"
   ]
  },
  {
   "cell_type": "code",
   "execution_count": 49,
   "id": "d827a1a9-11df-4433-bc28-ea0fb802b6b2",
   "metadata": {},
   "outputs": [],
   "source": [
    "# Multiple Inheritance\n",
    "class class1:\n",
    "    def test_class1(self):\n",
    "        print(\"this is my class1\")"
   ]
  },
  {
   "cell_type": "code",
   "execution_count": 50,
   "id": "327b82cb-a383-482b-b514-2c1421c7a530",
   "metadata": {},
   "outputs": [],
   "source": [
    "class class2:\n",
    "    def test_class2(self):\n",
    "        print(\"this is my class2\")"
   ]
  },
  {
   "cell_type": "code",
   "execution_count": 51,
   "id": "0e1d755f-5e4b-4069-8c11-5010d022b78e",
   "metadata": {},
   "outputs": [],
   "source": [
    "class class3(class1, class2):\n",
    "    pass"
   ]
  },
  {
   "cell_type": "code",
   "execution_count": 52,
   "id": "35b57bb2-ae4c-4ded-a3ce-256d5c586b4f",
   "metadata": {},
   "outputs": [],
   "source": [
    "obj_class3=class3()"
   ]
  },
  {
   "cell_type": "code",
   "execution_count": 53,
   "id": "769d3793-7bd0-4366-9b13-92bf15af43f1",
   "metadata": {},
   "outputs": [
    {
     "name": "stdout",
     "output_type": "stream",
     "text": [
      "this is my class1\n"
     ]
    }
   ],
   "source": [
    "obj_class3.test_class1()"
   ]
  },
  {
   "cell_type": "code",
   "execution_count": 54,
   "id": "65809520-0268-4f94-ab53-766e8d5c1efc",
   "metadata": {},
   "outputs": [
    {
     "name": "stdout",
     "output_type": "stream",
     "text": [
      "this is my class2\n"
     ]
    }
   ],
   "source": [
    "obj_class3.test_class2()"
   ]
  },
  {
   "cell_type": "markdown",
   "id": "63959b11-359c-44bf-8700-b3c4f89b0ea0",
   "metadata": {},
   "source": [
    "### Abstraction"
   ]
  },
  {
   "cell_type": "code",
   "execution_count": 55,
   "id": "c4efbdfc-b728-4e5d-9ebc-516a04aa1a20",
   "metadata": {},
   "outputs": [],
   "source": [
    "import abc\n",
    "\n",
    "class aaryan:\n",
    "    \n",
    "    @abc.abstractclassmethod\n",
    "    def student_details(self):\n",
    "        pass\n",
    "    \n",
    "    @abc.abstractclassmethod\n",
    "    def student_assignment(self):\n",
    "        pass\n",
    "    \n",
    "    @abc.abstractclassmethod\n",
    "    def student_marks(self):\n",
    "        pass"
   ]
  },
  {
   "cell_type": "code",
   "execution_count": 56,
   "id": "e94c9bbc-aa75-444e-a3e8-edc1acf5aebe",
   "metadata": {},
   "outputs": [],
   "source": [
    "class data_scienece(aaryan):\n",
    "    \n",
    "    def student_details(self):\n",
    "        return \"it will try to return a details of data science masters\"\n",
    "    \n",
    "    def student_assignment(self):\n",
    "        return \"it will return a details of student assignment for data science masters\"\n",
    "    "
   ]
  },
  {
   "cell_type": "code",
   "execution_count": 57,
   "id": "76737563-74d5-44f0-9dcf-4e501a018fb8",
   "metadata": {},
   "outputs": [],
   "source": [
    "class web_dev(aaryan):\n",
    "    def student_details(self):\n",
    "        return \"it will return a details of web dev\"\n",
    "    \n",
    "    def student_marks(self):\n",
    "        return \"it will return a marks of web dev class\""
   ]
  },
  {
   "cell_type": "code",
   "execution_count": 58,
   "id": "b1224f91-fd75-4a83-b3b5-4d55e00b45b4",
   "metadata": {},
   "outputs": [
    {
     "data": {
      "text/plain": [
       "'it will try to return a details of data science masters'"
      ]
     },
     "execution_count": 58,
     "metadata": {},
     "output_type": "execute_result"
    }
   ],
   "source": [
    "ds = data_scienece()\n",
    "ds.student_details()"
   ]
  },
  {
   "cell_type": "code",
   "execution_count": 59,
   "id": "d79f9b97-5a53-462c-9148-8c40ec545a8e",
   "metadata": {},
   "outputs": [
    {
     "data": {
      "text/plain": [
       "'it will return a details of web dev'"
      ]
     },
     "execution_count": 59,
     "metadata": {},
     "output_type": "execute_result"
    }
   ],
   "source": [
    "wb = web_dev()\n",
    "wb.student_details()"
   ]
  },
  {
   "cell_type": "code",
   "execution_count": null,
   "id": "16a2170f-79b7-4100-ae9f-8894d6a86789",
   "metadata": {},
   "outputs": [],
   "source": []
  }
 ],
 "metadata": {
  "kernelspec": {
   "display_name": "Python 3 (ipykernel)",
   "language": "python",
   "name": "python3"
  },
  "language_info": {
   "codemirror_mode": {
    "name": "ipython",
    "version": 3
   },
   "file_extension": ".py",
   "mimetype": "text/x-python",
   "name": "python",
   "nbconvert_exporter": "python",
   "pygments_lexer": "ipython3",
   "version": "3.10.8"
  }
 },
 "nbformat": 4,
 "nbformat_minor": 5
}
