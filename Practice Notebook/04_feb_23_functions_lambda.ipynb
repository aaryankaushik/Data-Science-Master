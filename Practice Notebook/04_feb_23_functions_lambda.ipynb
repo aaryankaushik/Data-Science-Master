{
 "cells": [
  {
   "cell_type": "markdown",
   "id": "6c3f27db-d8db-4bda-bb4d-123ad43e70e7",
   "metadata": {},
   "source": [
    "# LAMBDA Function"
   ]
  },
  {
   "cell_type": "code",
   "execution_count": 1,
   "id": "019751bd-361d-4a13-b03e-ae05e4712975",
   "metadata": {},
   "outputs": [],
   "source": [
    "n = 3\n",
    "p = 2"
   ]
  },
  {
   "cell_type": "code",
   "execution_count": 2,
   "id": "ddfd1e15-522b-46f7-a202-8c6382f74858",
   "metadata": {},
   "outputs": [],
   "source": [
    "def test(n,p):\n",
    "    return n**p"
   ]
  },
  {
   "cell_type": "code",
   "execution_count": 3,
   "id": "2c755902-cd9d-4873-bd4d-9a4ea665d7d4",
   "metadata": {},
   "outputs": [
    {
     "data": {
      "text/plain": [
       "9"
      ]
     },
     "execution_count": 3,
     "metadata": {},
     "output_type": "execute_result"
    }
   ],
   "source": [
    "test(3,2)"
   ]
  },
  {
   "cell_type": "code",
   "execution_count": 4,
   "id": "f6e8b8e8-fbb6-4839-b088-0595dc0bd0cf",
   "metadata": {},
   "outputs": [
    {
     "data": {
      "text/plain": [
       "6561"
      ]
     },
     "execution_count": 4,
     "metadata": {},
     "output_type": "execute_result"
    }
   ],
   "source": [
    "test(9,4)"
   ]
  },
  {
   "cell_type": "code",
   "execution_count": 5,
   "id": "66bdfe31-77f3-4a92-86a4-6d74a6bfb109",
   "metadata": {},
   "outputs": [
    {
     "data": {
      "text/plain": [
       "<function __main__.<lambda>(n, p)>"
      ]
     },
     "execution_count": 5,
     "metadata": {},
     "output_type": "execute_result"
    }
   ],
   "source": [
    "# lambda function or anonymus function\n",
    "# a function withiout name\n",
    "lambda n,p : n**p"
   ]
  },
  {
   "cell_type": "code",
   "execution_count": 6,
   "id": "5210d006-a676-4374-b648-7c0d95db2433",
   "metadata": {},
   "outputs": [],
   "source": [
    "a = lambda n,p : n**p"
   ]
  },
  {
   "cell_type": "code",
   "execution_count": 7,
   "id": "6289bc46-a5c5-4a12-9148-97def19052d8",
   "metadata": {},
   "outputs": [
    {
     "data": {
      "text/plain": [
       "9"
      ]
     },
     "execution_count": 7,
     "metadata": {},
     "output_type": "execute_result"
    }
   ],
   "source": [
    "a(3,2)"
   ]
  },
  {
   "cell_type": "code",
   "execution_count": 8,
   "id": "9bea483d-d63f-444d-8b8b-40dec94b5334",
   "metadata": {},
   "outputs": [
    {
     "data": {
      "text/plain": [
       "6561"
      ]
     },
     "execution_count": 8,
     "metadata": {},
     "output_type": "execute_result"
    }
   ],
   "source": [
    "a(9,4)"
   ]
  },
  {
   "cell_type": "code",
   "execution_count": 9,
   "id": "8c580c8d-19a1-42eb-abe2-119335b1048f",
   "metadata": {},
   "outputs": [],
   "source": [
    "add = lambda x,y : x+y"
   ]
  },
  {
   "cell_type": "code",
   "execution_count": 10,
   "id": "ec45f725-7db9-4790-b49a-7bf47f3375e6",
   "metadata": {},
   "outputs": [
    {
     "data": {
      "text/plain": [
       "268"
      ]
     },
     "execution_count": 10,
     "metadata": {},
     "output_type": "execute_result"
    }
   ],
   "source": [
    "add(234,34)"
   ]
  },
  {
   "cell_type": "code",
   "execution_count": 11,
   "id": "390a32dd-149a-412c-acae-49aba762cef0",
   "metadata": {},
   "outputs": [],
   "source": [
    "c_to_f = lambda c : (9/5)*c+32"
   ]
  },
  {
   "cell_type": "code",
   "execution_count": 12,
   "id": "04bf83af-fd03-458b-b724-5bbed6d3a766",
   "metadata": {},
   "outputs": [
    {
     "data": {
      "text/plain": [
       "93.2"
      ]
     },
     "execution_count": 12,
     "metadata": {},
     "output_type": "execute_result"
    }
   ],
   "source": [
    "c_to_f(34)"
   ]
  },
  {
   "cell_type": "code",
   "execution_count": 13,
   "id": "ce718d22-dcda-4993-8a62-4ee1894815a3",
   "metadata": {},
   "outputs": [],
   "source": [
    "max_two_num = lambda x,y : x if x>y else y"
   ]
  },
  {
   "cell_type": "code",
   "execution_count": 14,
   "id": "69ce297b-dacb-4c95-b285-62d96aeeea2e",
   "metadata": {},
   "outputs": [
    {
     "data": {
      "text/plain": [
       "56"
      ]
     },
     "execution_count": 14,
     "metadata": {},
     "output_type": "execute_result"
    }
   ],
   "source": [
    "max_two_num(4,56)"
   ]
  },
  {
   "cell_type": "code",
   "execution_count": 15,
   "id": "48d41c0e-9497-464b-803f-b1781f625bab",
   "metadata": {},
   "outputs": [
    {
     "data": {
      "text/plain": [
       "4"
      ]
     },
     "execution_count": 15,
     "metadata": {},
     "output_type": "execute_result"
    }
   ],
   "source": [
    "max_two_num(4,1)"
   ]
  },
  {
   "cell_type": "code",
   "execution_count": 16,
   "id": "d2d7943b-d190-431b-9364-0ef5cc1123ab",
   "metadata": {},
   "outputs": [],
   "source": [
    "s = \"aaryan\""
   ]
  },
  {
   "cell_type": "code",
   "execution_count": 17,
   "id": "66efb4b4-fd58-40d7-aa54-5915c47b599f",
   "metadata": {},
   "outputs": [],
   "source": [
    "len_string = lambda s : len(s)"
   ]
  },
  {
   "cell_type": "code",
   "execution_count": 18,
   "id": "5dac0a4e-5196-4c3d-aeeb-56e556423a42",
   "metadata": {},
   "outputs": [
    {
     "data": {
      "text/plain": [
       "6"
      ]
     },
     "execution_count": 18,
     "metadata": {},
     "output_type": "execute_result"
    }
   ],
   "source": [
    "len_string(s)"
   ]
  },
  {
   "cell_type": "markdown",
   "id": "b79e0de9-fd0a-499e-b186-7f35e788a99a",
   "metadata": {
    "tags": []
   },
   "source": [
    "# Map, Reduce, Filter Function"
   ]
  },
  {
   "cell_type": "markdown",
   "id": "45d687fb-f696-4bf9-b654-1435f5882984",
   "metadata": {
    "tags": []
   },
   "source": [
    "### MAP"
   ]
  },
  {
   "cell_type": "code",
   "execution_count": 19,
   "id": "8ff1c431-a93c-4843-98b8-02d99a543c54",
   "metadata": {},
   "outputs": [],
   "source": [
    "l = [1,2,3,4,45,5]"
   ]
  },
  {
   "cell_type": "code",
   "execution_count": 20,
   "id": "352adbfc-f073-45fc-8cc3-7348682724e8",
   "metadata": {},
   "outputs": [],
   "source": [
    "def test(l):\n",
    "    l1 = []\n",
    "    for i in l:\n",
    "        l1.append(i**2)\n",
    "    return l1"
   ]
  },
  {
   "cell_type": "code",
   "execution_count": 21,
   "id": "bc80abdf-118d-47cb-adb8-2706f160e6b1",
   "metadata": {},
   "outputs": [
    {
     "data": {
      "text/plain": [
       "[1, 4, 9, 16, 2025, 25]"
      ]
     },
     "execution_count": 21,
     "metadata": {},
     "output_type": "execute_result"
    }
   ],
   "source": [
    "test(l)"
   ]
  },
  {
   "cell_type": "code",
   "execution_count": 22,
   "id": "25ab90b6-f95b-4a1c-a826-e1c8ecff30cb",
   "metadata": {},
   "outputs": [],
   "source": [
    "def sq(x):\n",
    "    return x**2"
   ]
  },
  {
   "cell_type": "code",
   "execution_count": 23,
   "id": "beab14ff-21df-48c1-b449-8c78e46ca448",
   "metadata": {},
   "outputs": [
    {
     "data": {
      "text/plain": [
       "<map at 0x7fb2ec120c70>"
      ]
     },
     "execution_count": 23,
     "metadata": {},
     "output_type": "execute_result"
    }
   ],
   "source": [
    "# MAP is a function which will try each and every individual elements with operations we would like to perform\n",
    "map(sq,l)"
   ]
  },
  {
   "cell_type": "code",
   "execution_count": 24,
   "id": "f68e6444-5f5d-4bc6-a5cc-3460b2f2f118",
   "metadata": {},
   "outputs": [
    {
     "data": {
      "text/plain": [
       "[1, 4, 9, 16, 2025, 25]"
      ]
     },
     "execution_count": 24,
     "metadata": {},
     "output_type": "execute_result"
    }
   ],
   "source": [
    "list(map(sq,l))"
   ]
  },
  {
   "cell_type": "code",
   "execution_count": 25,
   "id": "2d2d86ca-5135-4448-8e1b-313c709d2fbd",
   "metadata": {},
   "outputs": [
    {
     "data": {
      "text/plain": [
       "[1, 4, 9, 16, 2025, 25]"
      ]
     },
     "execution_count": 25,
     "metadata": {},
     "output_type": "execute_result"
    }
   ],
   "source": [
    "list(map(lambda x : x**2,l))"
   ]
  },
  {
   "cell_type": "code",
   "execution_count": 26,
   "id": "d2ede9d7-61c9-47bc-9076-199d3a569aff",
   "metadata": {},
   "outputs": [
    {
     "data": {
      "text/plain": [
       "[11, 12, 13, 14, 55, 15]"
      ]
     },
     "execution_count": 26,
     "metadata": {},
     "output_type": "execute_result"
    }
   ],
   "source": [
    "list(map(lambda x : x+10,l))"
   ]
  },
  {
   "cell_type": "code",
   "execution_count": 27,
   "id": "0c032628-72b3-42f6-9f2c-89a42806f0de",
   "metadata": {},
   "outputs": [
    {
     "data": {
      "text/plain": [
       "['1', '2', '3', '4', '45', '5']"
      ]
     },
     "execution_count": 27,
     "metadata": {},
     "output_type": "execute_result"
    }
   ],
   "source": [
    "list(map(lambda x : str(x),l))"
   ]
  },
  {
   "cell_type": "code",
   "execution_count": 28,
   "id": "afe41c21-e9da-4c95-b95c-cd2552e208b3",
   "metadata": {},
   "outputs": [],
   "source": [
    "l1 = [1,2,3,4,5]\n",
    "l2 = [6,7,8,9,10]"
   ]
  },
  {
   "cell_type": "code",
   "execution_count": 29,
   "id": "8807df97-ea7a-4c68-a0bb-c69878e4dbda",
   "metadata": {},
   "outputs": [
    {
     "data": {
      "text/plain": [
       "[7, 9, 11, 13, 15]"
      ]
     },
     "execution_count": 29,
     "metadata": {},
     "output_type": "execute_result"
    }
   ],
   "source": [
    "list(map(lambda x,y : x+y,l1,l2))"
   ]
  },
  {
   "cell_type": "code",
   "execution_count": 30,
   "id": "63b3ab53-78aa-4ee3-8c1c-210100ae92ef",
   "metadata": {},
   "outputs": [],
   "source": [
    "f = lambda x,y : x+y"
   ]
  },
  {
   "cell_type": "code",
   "execution_count": 31,
   "id": "3253fd48-6f3c-41bb-bfee-ab4ee1c0c190",
   "metadata": {},
   "outputs": [
    {
     "data": {
      "text/plain": [
       "[7, 9, 11, 13, 15]"
      ]
     },
     "execution_count": 31,
     "metadata": {},
     "output_type": "execute_result"
    }
   ],
   "source": [
    "list(map(f,l1,l2))"
   ]
  },
  {
   "cell_type": "code",
   "execution_count": 32,
   "id": "b0b480e5-4f31-4663-a159-a2eb315adca2",
   "metadata": {},
   "outputs": [],
   "source": [
    "s = \"aaryan\""
   ]
  },
  {
   "cell_type": "code",
   "execution_count": 33,
   "id": "e3aef63a-1088-457e-a768-184ebbf2d5ca",
   "metadata": {},
   "outputs": [
    {
     "data": {
      "text/plain": [
       "['A', 'A', 'R', 'Y', 'A', 'N']"
      ]
     },
     "execution_count": 33,
     "metadata": {},
     "output_type": "execute_result"
    }
   ],
   "source": [
    "list(map(lambda x : x.upper(),s))"
   ]
  },
  {
   "cell_type": "markdown",
   "id": "aad0caae-3959-44ea-abda-4219968b3965",
   "metadata": {},
   "source": [
    "### REDUCE"
   ]
  },
  {
   "cell_type": "code",
   "execution_count": 34,
   "id": "194a1146-8653-4df1-bf4d-02a8c1199565",
   "metadata": {},
   "outputs": [],
   "source": [
    "from functools import reduce"
   ]
  },
  {
   "cell_type": "code",
   "execution_count": 35,
   "id": "49d75374-d2d0-414f-9482-a08c2b8bcf41",
   "metadata": {},
   "outputs": [],
   "source": [
    "l = [1,2,3,4,5,4]"
   ]
  },
  {
   "cell_type": "code",
   "execution_count": 36,
   "id": "dfb40687-8924-4697-82a6-44f0d6ab7853",
   "metadata": {},
   "outputs": [
    {
     "data": {
      "text/plain": [
       "19"
      ]
     },
     "execution_count": 36,
     "metadata": {},
     "output_type": "execute_result"
    }
   ],
   "source": [
    "reduce(lambda x,y : x+y, l)"
   ]
  },
  {
   "cell_type": "code",
   "execution_count": 37,
   "id": "08d5b70b-7eae-4d1f-a80b-9bba18e26c4e",
   "metadata": {},
   "outputs": [],
   "source": [
    "def add(x,y):\n",
    "    return x+y"
   ]
  },
  {
   "cell_type": "code",
   "execution_count": 38,
   "id": "d24d8d97-cf1b-47de-ac04-03b5883c5801",
   "metadata": {},
   "outputs": [
    {
     "data": {
      "text/plain": [
       "19"
      ]
     },
     "execution_count": 38,
     "metadata": {},
     "output_type": "execute_result"
    }
   ],
   "source": [
    "reduce(add,l)"
   ]
  },
  {
   "cell_type": "code",
   "execution_count": 39,
   "id": "60fa2418-3a4a-49f1-96db-1e0e09e21435",
   "metadata": {},
   "outputs": [
    {
     "ename": "TypeError",
     "evalue": "<lambda>() missing 1 required positional argument: 'z'",
     "output_type": "error",
     "traceback": [
      "\u001b[0;31m---------------------------------------------------------------------------\u001b[0m",
      "\u001b[0;31mTypeError\u001b[0m                                 Traceback (most recent call last)",
      "Cell \u001b[0;32mIn[39], line 3\u001b[0m\n\u001b[1;32m      1\u001b[0m \u001b[38;5;66;03m# only take 2 arguments\u001b[39;00m\n\u001b[1;32m      2\u001b[0m \u001b[38;5;66;03m# reduce will only take 2 argument\u001b[39;00m\n\u001b[0;32m----> 3\u001b[0m \u001b[43mreduce\u001b[49m\u001b[43m(\u001b[49m\u001b[38;5;28;43;01mlambda\u001b[39;49;00m\u001b[43m \u001b[49m\u001b[43mx\u001b[49m\u001b[43m,\u001b[49m\u001b[43my\u001b[49m\u001b[43m,\u001b[49m\u001b[43mz\u001b[49m\u001b[43m \u001b[49m\u001b[43m:\u001b[49m\u001b[43m \u001b[49m\u001b[43mx\u001b[49m\u001b[38;5;241;43m+\u001b[39;49m\u001b[43my\u001b[49m\u001b[38;5;241;43m+\u001b[39;49m\u001b[43mz\u001b[49m\u001b[43m,\u001b[49m\u001b[43m \u001b[49m\u001b[43ml\u001b[49m\u001b[43m)\u001b[49m\n",
      "\u001b[0;31mTypeError\u001b[0m: <lambda>() missing 1 required positional argument: 'z'"
     ]
    }
   ],
   "source": [
    "# only take 2 arguments\n",
    "# reduce will only take 2 argument\n",
    "reduce(lambda x,y,z : x+y+z, l)"
   ]
  },
  {
   "cell_type": "code",
   "execution_count": 40,
   "id": "c87fdf1d-f7a1-4556-9e86-1f9d82092a92",
   "metadata": {},
   "outputs": [
    {
     "data": {
      "text/plain": [
       "[1, 2, 3, 4, 5, 4]"
      ]
     },
     "execution_count": 40,
     "metadata": {},
     "output_type": "execute_result"
    }
   ],
   "source": [
    "l"
   ]
  },
  {
   "cell_type": "code",
   "execution_count": 41,
   "id": "9d681afc-aa7b-41aa-bcaa-4e3520bba015",
   "metadata": {},
   "outputs": [
    {
     "ename": "TypeError",
     "evalue": "reduce() of empty iterable with no initial value",
     "output_type": "error",
     "traceback": [
      "\u001b[0;31m---------------------------------------------------------------------------\u001b[0m",
      "\u001b[0;31mTypeError\u001b[0m                                 Traceback (most recent call last)",
      "Cell \u001b[0;32mIn[41], line 1\u001b[0m\n\u001b[0;32m----> 1\u001b[0m \u001b[43mreduce\u001b[49m\u001b[43m(\u001b[49m\u001b[38;5;28;43;01mlambda\u001b[39;49;00m\u001b[43m \u001b[49m\u001b[43mx\u001b[49m\u001b[43m,\u001b[49m\u001b[43my\u001b[49m\u001b[43m \u001b[49m\u001b[43m:\u001b[49m\u001b[43m \u001b[49m\u001b[43mx\u001b[49m\u001b[38;5;241;43m+\u001b[39;49m\u001b[43my\u001b[49m\u001b[43m,\u001b[49m\u001b[43m \u001b[49m\u001b[43m[\u001b[49m\u001b[43m]\u001b[49m\u001b[43m)\u001b[49m\n",
      "\u001b[0;31mTypeError\u001b[0m: reduce() of empty iterable with no initial value"
     ]
    }
   ],
   "source": [
    "reduce(lambda x,y : x+y, [])"
   ]
  },
  {
   "cell_type": "code",
   "execution_count": 42,
   "id": "f932a240-bad5-481d-8a96-2145e4cc5b0f",
   "metadata": {},
   "outputs": [
    {
     "data": {
      "text/plain": [
       "1"
      ]
     },
     "execution_count": 42,
     "metadata": {},
     "output_type": "execute_result"
    }
   ],
   "source": [
    "reduce(lambda x,y : x+y, [1])"
   ]
  },
  {
   "cell_type": "code",
   "execution_count": 43,
   "id": "552e34c9-1c47-4c67-ad2a-96108f602cea",
   "metadata": {},
   "outputs": [
    {
     "data": {
      "text/plain": [
       "1"
      ]
     },
     "execution_count": 43,
     "metadata": {},
     "output_type": "execute_result"
    }
   ],
   "source": [
    "reduce(lambda x,y : x*y, [1])"
   ]
  },
  {
   "cell_type": "code",
   "execution_count": 44,
   "id": "9a41c0f3-d339-4fd1-ae88-fd622699a998",
   "metadata": {},
   "outputs": [
    {
     "data": {
      "text/plain": [
       "[1, 2, 3, 4, 5, 4]"
      ]
     },
     "execution_count": 44,
     "metadata": {},
     "output_type": "execute_result"
    }
   ],
   "source": [
    "l"
   ]
  },
  {
   "cell_type": "code",
   "execution_count": 45,
   "id": "e2b9b423-cc04-4dc4-a407-c1da279b7140",
   "metadata": {},
   "outputs": [
    {
     "data": {
      "text/plain": [
       "5"
      ]
     },
     "execution_count": 45,
     "metadata": {},
     "output_type": "execute_result"
    }
   ],
   "source": [
    "reduce(lambda x,y : x if x>y else y,l)"
   ]
  },
  {
   "cell_type": "markdown",
   "id": "474610f9-225f-433a-b262-284a7f7cf031",
   "metadata": {
    "tags": []
   },
   "source": [
    "### FILTER"
   ]
  },
  {
   "cell_type": "code",
   "execution_count": 46,
   "id": "974bdbf4-fed0-43dc-acc9-f170f0afb9c6",
   "metadata": {},
   "outputs": [
    {
     "data": {
      "text/plain": [
       "[1, 2, 3, 4, 5, 4]"
      ]
     },
     "execution_count": 46,
     "metadata": {},
     "output_type": "execute_result"
    }
   ],
   "source": [
    "l"
   ]
  },
  {
   "cell_type": "code",
   "execution_count": 47,
   "id": "4fafc9f2-8e0b-409c-bbd9-d4bcd992aa01",
   "metadata": {},
   "outputs": [
    {
     "data": {
      "text/plain": [
       "<filter at 0x7fb2ec0bbd30>"
      ]
     },
     "execution_count": 47,
     "metadata": {},
     "output_type": "execute_result"
    }
   ],
   "source": [
    "filter(lambda x : x%2==0,l)"
   ]
  },
  {
   "cell_type": "code",
   "execution_count": 48,
   "id": "3b7ff6f7-3c5b-4bab-b1c0-b55d8d7c85ff",
   "metadata": {},
   "outputs": [
    {
     "data": {
      "text/plain": [
       "[2, 4, 4]"
      ]
     },
     "execution_count": 48,
     "metadata": {},
     "output_type": "execute_result"
    }
   ],
   "source": [
    "list(filter(lambda x : x%2==0,l))"
   ]
  },
  {
   "cell_type": "code",
   "execution_count": 49,
   "id": "893f5fe6-9740-4c24-adc6-e6976e2fc6e7",
   "metadata": {},
   "outputs": [
    {
     "data": {
      "text/plain": [
       "[1, 3, 5]"
      ]
     },
     "execution_count": 49,
     "metadata": {},
     "output_type": "execute_result"
    }
   ],
   "source": [
    "list(filter(lambda x : x%2!=0,l))"
   ]
  },
  {
   "cell_type": "code",
   "execution_count": 50,
   "id": "9ec0537a-0998-4ce4-909d-756655aa40a6",
   "metadata": {},
   "outputs": [],
   "source": [
    "l1 = [-2,4,5,6,-3,-6,-7]"
   ]
  },
  {
   "cell_type": "code",
   "execution_count": 51,
   "id": "bc5a7548-72be-4312-9da4-0c2da4b40337",
   "metadata": {},
   "outputs": [
    {
     "data": {
      "text/plain": [
       "<filter at 0x7fb2ec0b9ab0>"
      ]
     },
     "execution_count": 51,
     "metadata": {},
     "output_type": "execute_result"
    }
   ],
   "source": [
    "filter(lambda x : x<0,l1)"
   ]
  },
  {
   "cell_type": "code",
   "execution_count": 52,
   "id": "6f3c78c1-f2ae-4375-8213-5ed0e8799c97",
   "metadata": {},
   "outputs": [
    {
     "data": {
      "text/plain": [
       "[-2, -3, -6, -7]"
      ]
     },
     "execution_count": 52,
     "metadata": {},
     "output_type": "execute_result"
    }
   ],
   "source": [
    "list(filter(lambda x : x<0,l1))"
   ]
  },
  {
   "cell_type": "code",
   "execution_count": 53,
   "id": "0dfc5a84-ad02-4a4b-b863-79e155406f09",
   "metadata": {},
   "outputs": [
    {
     "data": {
      "text/plain": [
       "[4, 5, 6]"
      ]
     },
     "execution_count": 53,
     "metadata": {},
     "output_type": "execute_result"
    }
   ],
   "source": [
    "list(filter(lambda x : x>0,l1))"
   ]
  },
  {
   "cell_type": "code",
   "execution_count": 54,
   "id": "94662eb2-311e-49f4-b04b-fe07659a5e9b",
   "metadata": {},
   "outputs": [],
   "source": [
    "l2 = [\"aaryan\",\"kaushik\",\"belgium\",\"hasselt\",\"data\",\"science\"]"
   ]
  },
  {
   "cell_type": "code",
   "execution_count": 55,
   "id": "9dc7c560-b855-40b5-a1ea-69d08946968e",
   "metadata": {},
   "outputs": [
    {
     "data": {
      "text/plain": [
       "['aaryan', 'data']"
      ]
     },
     "execution_count": 55,
     "metadata": {},
     "output_type": "execute_result"
    }
   ],
   "source": [
    "# filter string whose length is lesser than 7?\n",
    "list(filter(lambda x : len(x)<7,l2))"
   ]
  },
  {
   "cell_type": "code",
   "execution_count": null,
   "id": "59657027-8ee1-4c21-a634-97b350c881dc",
   "metadata": {},
   "outputs": [],
   "source": []
  }
 ],
 "metadata": {
  "kernelspec": {
   "display_name": "Python 3 (ipykernel)",
   "language": "python",
   "name": "python3"
  },
  "language_info": {
   "codemirror_mode": {
    "name": "ipython",
    "version": 3
   },
   "file_extension": ".py",
   "mimetype": "text/x-python",
   "name": "python",
   "nbconvert_exporter": "python",
   "pygments_lexer": "ipython3",
   "version": "3.10.8"
  }
 },
 "nbformat": 4,
 "nbformat_minor": 5
}
