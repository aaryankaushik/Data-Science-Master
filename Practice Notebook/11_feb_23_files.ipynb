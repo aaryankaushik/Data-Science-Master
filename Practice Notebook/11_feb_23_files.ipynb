{
 "cells": [
  {
   "cell_type": "markdown",
   "id": "08f67141-50be-48c8-9fe9-9379a6578c48",
   "metadata": {},
   "source": [
    "### Working with Files"
   ]
  },
  {
   "cell_type": "code",
   "execution_count": 1,
   "id": "50729eea-7241-4e52-bbd3-0196f6633f30",
   "metadata": {},
   "outputs": [],
   "source": [
    "f = open(\"test.txt\",\"w\")"
   ]
  },
  {
   "cell_type": "code",
   "execution_count": 2,
   "id": "f05e1440-b521-4cb4-aa78-364bc207c7aa",
   "metadata": {},
   "outputs": [
    {
     "data": {
      "text/plain": [
       "'/home/jovyan/work'"
      ]
     },
     "execution_count": 2,
     "metadata": {},
     "output_type": "execute_result"
    }
   ],
   "source": [
    "pwd"
   ]
  },
  {
   "cell_type": "code",
   "execution_count": 3,
   "id": "6883a70d-8369-456b-a963-0fab6985628e",
   "metadata": {},
   "outputs": [
    {
     "name": "stdout",
     "output_type": "stream",
     "text": [
      " 03_feb_23_functions.ipynb   \u001b[0m\u001b[01;34mAssignments\u001b[0m/\n",
      " 04_feb_23_functions.ipynb   new_test.txt\n",
      " 05_feb_23_oops.ipynb        \u001b[01;34mNotes\u001b[0m/\n",
      " 08_feb_23_oops.ipynb       \u001b[01;34m'Personal Notebook'\u001b[0m/\n",
      " 10_feb_23_oops.ipynb        Stock_Price_Prediction.ipynb\n",
      " 11_feb_23_files.ipynb       test.txt\n"
     ]
    }
   ],
   "source": [
    "ls"
   ]
  },
  {
   "cell_type": "code",
   "execution_count": 4,
   "id": "55333b53-8c19-4b18-919f-c79ec5491b90",
   "metadata": {},
   "outputs": [
    {
     "data": {
      "text/plain": [
       "44"
      ]
     },
     "execution_count": 4,
     "metadata": {},
     "output_type": "execute_result"
    }
   ],
   "source": [
    "f.write(\"this is my first write operation in the file\")"
   ]
  },
  {
   "cell_type": "code",
   "execution_count": 5,
   "id": "11ecc471-a30d-4f25-bdc8-783ca371e98a",
   "metadata": {},
   "outputs": [],
   "source": [
    "f.close()"
   ]
  },
  {
   "cell_type": "code",
   "execution_count": 6,
   "id": "3e52400b-b993-40aa-9d9f-9ace5fd1c389",
   "metadata": {},
   "outputs": [],
   "source": [
    "f = open(\"test.txt\",\"a\")"
   ]
  },
  {
   "cell_type": "code",
   "execution_count": 7,
   "id": "a603cd19-aab3-4bfe-9424-6aaf28207b9b",
   "metadata": {},
   "outputs": [
    {
     "data": {
      "text/plain": [
       "25"
      ]
     },
     "execution_count": 7,
     "metadata": {},
     "output_type": "execute_result"
    }
   ],
   "source": [
    "f.write(\"this will append the file\")"
   ]
  },
  {
   "cell_type": "code",
   "execution_count": 8,
   "id": "5eeab10a-e8ea-4d80-b810-027fb9220fd5",
   "metadata": {},
   "outputs": [],
   "source": [
    "f.close()"
   ]
  },
  {
   "cell_type": "code",
   "execution_count": 9,
   "id": "cef52ac0-504c-443c-ae2d-cbc355092b10",
   "metadata": {},
   "outputs": [],
   "source": [
    "data = open(\"test.txt\",\"r\")"
   ]
  },
  {
   "cell_type": "code",
   "execution_count": 10,
   "id": "16453595-6b5f-4054-8d7f-5991d0ace5c0",
   "metadata": {},
   "outputs": [
    {
     "data": {
      "text/plain": [
       "'this is my first write operation in the filethis will append the file'"
      ]
     },
     "execution_count": 10,
     "metadata": {},
     "output_type": "execute_result"
    }
   ],
   "source": [
    "data.read()"
   ]
  },
  {
   "cell_type": "code",
   "execution_count": 11,
   "id": "65278649-bf5f-4f85-8e9c-4ed0fa1da806",
   "metadata": {},
   "outputs": [
    {
     "data": {
      "text/plain": [
       "''"
      ]
     },
     "execution_count": 11,
     "metadata": {},
     "output_type": "execute_result"
    }
   ],
   "source": [
    "data.read()"
   ]
  },
  {
   "cell_type": "code",
   "execution_count": 12,
   "id": "010c4569-5946-46ad-a595-6c067e21b2a8",
   "metadata": {},
   "outputs": [
    {
     "data": {
      "text/plain": [
       "0"
      ]
     },
     "execution_count": 12,
     "metadata": {},
     "output_type": "execute_result"
    }
   ],
   "source": [
    "## reset cursor\n",
    "data.seek(0)"
   ]
  },
  {
   "cell_type": "code",
   "execution_count": 13,
   "id": "75324631-a74e-42e7-a9f1-c6c599577e95",
   "metadata": {},
   "outputs": [
    {
     "data": {
      "text/plain": [
       "'this is my first write operation in the filethis will append the file'"
      ]
     },
     "execution_count": 13,
     "metadata": {},
     "output_type": "execute_result"
    }
   ],
   "source": [
    "data.read()"
   ]
  },
  {
   "cell_type": "code",
   "execution_count": 14,
   "id": "b345ee6d-9aaf-43f8-b140-24804b738cf2",
   "metadata": {},
   "outputs": [
    {
     "data": {
      "text/plain": [
       "''"
      ]
     },
     "execution_count": 14,
     "metadata": {},
     "output_type": "execute_result"
    }
   ],
   "source": [
    "data.read()"
   ]
  },
  {
   "cell_type": "code",
   "execution_count": 15,
   "id": "845bbf0e-6039-4f28-bad2-3d412b24c816",
   "metadata": {},
   "outputs": [
    {
     "data": {
      "text/plain": [
       "5"
      ]
     },
     "execution_count": 15,
     "metadata": {},
     "output_type": "execute_result"
    }
   ],
   "source": [
    "data.seek(5)"
   ]
  },
  {
   "cell_type": "code",
   "execution_count": 16,
   "id": "58704930-ddbc-48ba-8a1c-a6f8febdee52",
   "metadata": {},
   "outputs": [
    {
     "data": {
      "text/plain": [
       "'is my first write operation in the filethis will append the file'"
      ]
     },
     "execution_count": 16,
     "metadata": {},
     "output_type": "execute_result"
    }
   ],
   "source": [
    "data.read()"
   ]
  },
  {
   "cell_type": "code",
   "execution_count": 17,
   "id": "face7b0e-6b88-4be5-aa23-6e56236d3251",
   "metadata": {},
   "outputs": [],
   "source": [
    "data1 = data = open(\"test.txt\",\"r\")"
   ]
  },
  {
   "cell_type": "markdown",
   "id": "93660d43-030a-41ea-bb97-d3bc315b66c2",
   "metadata": {},
   "source": [
    "for i in data1:\n",
    "    print(i)"
   ]
  },
  {
   "cell_type": "code",
   "execution_count": 19,
   "id": "1206b286-723d-4e17-b344-00f2c45dc48d",
   "metadata": {},
   "outputs": [],
   "source": [
    "import os"
   ]
  },
  {
   "cell_type": "code",
   "execution_count": 20,
   "id": "de17e590-8583-476b-a0ac-d525c3e2f39e",
   "metadata": {},
   "outputs": [
    {
     "data": {
      "text/plain": [
       "69"
      ]
     },
     "execution_count": 20,
     "metadata": {},
     "output_type": "execute_result"
    }
   ],
   "source": [
    "os.path.getsize(\"test.txt\")"
   ]
  },
  {
   "cell_type": "code",
   "execution_count": 21,
   "id": "2cdb0f0e-5639-4840-a335-4521ed60feae",
   "metadata": {},
   "outputs": [],
   "source": [
    "import shutil"
   ]
  },
  {
   "cell_type": "code",
   "execution_count": 22,
   "id": "da6c6d41-2007-4fd4-b1c3-a5510eac1288",
   "metadata": {},
   "outputs": [
    {
     "data": {
      "text/plain": [
       "'new_test.txt'"
      ]
     },
     "execution_count": 22,
     "metadata": {},
     "output_type": "execute_result"
    }
   ],
   "source": [
    "shutil.copy(\"test.txt\",\"new_test.txt\")"
   ]
  },
  {
   "cell_type": "code",
   "execution_count": 23,
   "id": "e3157ea8-31fd-4bc5-98f9-84ad6272fbc8",
   "metadata": {},
   "outputs": [],
   "source": [
    "os.remove(\"test.txt\")"
   ]
  },
  {
   "cell_type": "code",
   "execution_count": 24,
   "id": "e5937949-6a1d-430d-91ce-3a765f7bd591",
   "metadata": {},
   "outputs": [
    {
     "name": "stdout",
     "output_type": "stream",
     "text": [
      "this is my first write operation in the filethis will append the file\n"
     ]
    }
   ],
   "source": [
    "with open(\"new_test.txt\",\"r\") as f:\n",
    "    print(f.read())"
   ]
  },
  {
   "cell_type": "code",
   "execution_count": 25,
   "id": "7da25cb4-7e72-427b-a6b2-62c45a94d256",
   "metadata": {},
   "outputs": [],
   "source": [
    "os.rename(\"new_test.txt\",\"test1.txt\")"
   ]
  },
  {
   "cell_type": "markdown",
   "id": "df96e68b-6e6c-45fa-8dea-e9c4b8204176",
   "metadata": {},
   "source": [
    "### Reading and writing files"
   ]
  },
  {
   "cell_type": "code",
   "execution_count": 28,
   "id": "634bad50-adb6-4b2c-b808-cd692adcc7fa",
   "metadata": {},
   "outputs": [],
   "source": [
    "#json data\n",
    "data = {\n",
    "    \"name\":\"aaryan\",\n",
    "    \"mail_id\":\"aaryankaushik00@gmail.com\",\n",
    "    \"phone_number\":73896601,\n",
    "    \"subject\":[\"data science\",\"big data\",\"data analytics\"]\n",
    "}"
   ]
  },
  {
   "cell_type": "code",
   "execution_count": 29,
   "id": "56bb7966-20d5-4cd7-a14e-40cd529c6e0a",
   "metadata": {},
   "outputs": [],
   "source": [
    "import json"
   ]
  },
  {
   "cell_type": "code",
   "execution_count": 30,
   "id": "3add890f-7eab-45b6-b2a6-cad5dd2c5731",
   "metadata": {},
   "outputs": [],
   "source": [
    "with open(\"test1.json\",\"w\") as f:\n",
    "    json.dump(data,f)"
   ]
  },
  {
   "cell_type": "code",
   "execution_count": 31,
   "id": "1c393a57-b053-4450-8c96-627d2efa81df",
   "metadata": {},
   "outputs": [],
   "source": [
    "with open(\"test1.json\",\"r\") as f:\n",
    "    data1 = json.load(f)"
   ]
  },
  {
   "cell_type": "code",
   "execution_count": 32,
   "id": "a1835a80-2658-4ab6-9761-cdfc9447d4d9",
   "metadata": {},
   "outputs": [
    {
     "data": {
      "text/plain": [
       "{'name': 'aaryan',\n",
       " 'mail_id': 'aaryankaushik00@gmail.com',\n",
       " 'phone_number': 73896601,\n",
       " 'subject': ['data science', 'big data', 'data analytics']}"
      ]
     },
     "execution_count": 32,
     "metadata": {},
     "output_type": "execute_result"
    }
   ],
   "source": [
    "data1"
   ]
  },
  {
   "cell_type": "code",
   "execution_count": 33,
   "id": "a92ea442-f6e7-4ad6-8073-cdb9ead6fc88",
   "metadata": {},
   "outputs": [
    {
     "data": {
      "text/plain": [
       "['data science', 'big data', 'data analytics']"
      ]
     },
     "execution_count": 33,
     "metadata": {},
     "output_type": "execute_result"
    }
   ],
   "source": [
    "data1[\"subject\"]"
   ]
  },
  {
   "cell_type": "code",
   "execution_count": 34,
   "id": "ea7ae6a0-0bdd-4f8e-a37b-72c09ae7e6fd",
   "metadata": {},
   "outputs": [
    {
     "data": {
      "text/plain": [
       "'big data'"
      ]
     },
     "execution_count": 34,
     "metadata": {},
     "output_type": "execute_result"
    }
   ],
   "source": [
    "data1[\"subject\"][1]"
   ]
  },
  {
   "cell_type": "code",
   "execution_count": 35,
   "id": "afd1d000-dfbd-4fdd-a841-7911e5cf4792",
   "metadata": {},
   "outputs": [],
   "source": [
    "data = [[\"name\",\"email_id\",\"number\"],\n",
    "       [\"aaryan\",\"aaryankaushik00@gmail.com\",7893667],\n",
    "        [\"xyz\",\"xy@gmail.com\",7098937]\n",
    "       ]"
   ]
  },
  {
   "cell_type": "code",
   "execution_count": 36,
   "id": "a416a656-f5f6-45a8-9362-f24027bdf859",
   "metadata": {},
   "outputs": [],
   "source": [
    "import csv"
   ]
  },
  {
   "cell_type": "code",
   "execution_count": 37,
   "id": "02843a0d-eb22-41bd-acd6-122269ecb391",
   "metadata": {},
   "outputs": [],
   "source": [
    "with open(\"test3.csv\",\"w\") as f:\n",
    "    w = csv.writer(f)\n",
    "    for i in data:\n",
    "        w.writerow(i)"
   ]
  },
  {
   "cell_type": "code",
   "execution_count": 38,
   "id": "eb3f9b41-e81d-420f-8140-4a36af772962",
   "metadata": {},
   "outputs": [
    {
     "name": "stdout",
     "output_type": "stream",
     "text": [
      "name,email_id,number\n",
      "\n",
      "aaryan,aaryankaushik00@gmail.com,7893667\n",
      "\n",
      "xyz,xy@gmail.com,7098937\n",
      "\n"
     ]
    }
   ],
   "source": [
    "with open(\"test3.csv\",\"r\") as f:\n",
    "    for i in f:\n",
    "        print(i)"
   ]
  },
  {
   "cell_type": "code",
   "execution_count": 40,
   "id": "5fd927a3-8053-4805-b1a5-2e4e93f8e177",
   "metadata": {},
   "outputs": [
    {
     "name": "stdout",
     "output_type": "stream",
     "text": [
      "['name', 'email_id', 'number']\n",
      "['aaryan', 'aaryankaushik00@gmail.com', '7893667']\n",
      "['xyz', 'xy@gmail.com', '7098937']\n"
     ]
    }
   ],
   "source": [
    "with open(\"test3.csv\",\"r\") as f:\n",
    "    read = csv.reader(f)\n",
    "    for i in read:\n",
    "        print(i)"
   ]
  },
  {
   "cell_type": "code",
   "execution_count": 41,
   "id": "d23ecfa4-7166-4307-86d4-c04ba97bdd3d",
   "metadata": {},
   "outputs": [],
   "source": [
    "with open(\"test4.bin\",\"wb\") as f:\n",
    "    f.write(b\"\\x01\\x02\\x03\")"
   ]
  },
  {
   "cell_type": "code",
   "execution_count": 42,
   "id": "1401f44a-7f8e-46bd-8e7b-c5c2acb92f42",
   "metadata": {},
   "outputs": [
    {
     "name": "stdout",
     "output_type": "stream",
     "text": [
      "b'\\x01\\x02\\x03'\n"
     ]
    }
   ],
   "source": [
    "with open(\"test4.bin\",\"rb\") as f:\n",
    "    print(f.read())"
   ]
  },
  {
   "cell_type": "markdown",
   "id": "c893b088-bf5d-43be-ac53-19ec855ff115",
   "metadata": {},
   "source": [
    "### Buffered Read And Write Other File Methods"
   ]
  },
  {
   "cell_type": "code",
   "execution_count": 43,
   "id": "f020a574-f5dd-4090-b463-812affd8e526",
   "metadata": {},
   "outputs": [],
   "source": [
    "import io"
   ]
  },
  {
   "cell_type": "code",
   "execution_count": 45,
   "id": "6329b1fc-487d-4477-8280-f51171f04cd9",
   "metadata": {},
   "outputs": [],
   "source": [
    "with open(\"test5.txt\",\"wb\") as f:\n",
    "    file = io.BufferedWriter(f)\n",
    "    file.write(b\"this is my buffer write\\n\")\n",
    "    file.write(b\"this is my second line that I am trying to write\")\n",
    "    file.flush()"
   ]
  },
  {
   "cell_type": "code",
   "execution_count": 48,
   "id": "5ef695c0-7664-442d-819c-75f096af5207",
   "metadata": {},
   "outputs": [
    {
     "name": "stdout",
     "output_type": "stream",
     "text": [
      "b'this is my buffer write\\nthis is my second line that I am trying to write'\n"
     ]
    }
   ],
   "source": [
    "with open(\"test5.txt\",\"rb\") as f:\n",
    "    file = io.BufferedReader(f)\n",
    "    data = file.read()\n",
    "    print(data)"
   ]
  },
  {
   "cell_type": "code",
   "execution_count": 49,
   "id": "ac536f7f-83e4-4622-8cdf-a2aa9117f19b",
   "metadata": {},
   "outputs": [
    {
     "name": "stdout",
     "output_type": "stream",
     "text": [
      "b'this is my'\n"
     ]
    }
   ],
   "source": [
    "with open(\"test5.txt\",\"rb\") as f:\n",
    "    file = io.BufferedReader(f)\n",
    "    data = file.read(10)\n",
    "    print(data)"
   ]
  },
  {
   "cell_type": "code",
   "execution_count": 51,
   "id": "31439bb2-1969-4457-9346-2cd72bd1ff97",
   "metadata": {},
   "outputs": [
    {
     "name": "stdout",
     "output_type": "stream",
     "text": [
      "b'this is my buffer write\\nthis is my second line tha'\n"
     ]
    }
   ],
   "source": [
    "with open(\"test5.txt\",\"rb\") as f:\n",
    "    file = io.BufferedReader(f)\n",
    "    data = file.read(50)\n",
    "    print(data)"
   ]
  },
  {
   "cell_type": "markdown",
   "id": "7fe070b4-8847-4036-97e2-80e30a878a92",
   "metadata": {},
   "source": [
    "### Logging & Debugger"
   ]
  },
  {
   "cell_type": "code",
   "execution_count": 59,
   "id": "559251b4-7547-487b-bcd7-ca375d02bd68",
   "metadata": {},
   "outputs": [
    {
     "name": "stdout",
     "output_type": "stream",
     "text": [
      "this is my print statement\n"
     ]
    }
   ],
   "source": [
    "print(\"this is my print statement\")"
   ]
  },
  {
   "cell_type": "code",
   "execution_count": 1,
   "id": "37ec00e1-b372-4cb3-93f9-58bd11d58257",
   "metadata": {},
   "outputs": [],
   "source": [
    "import logging"
   ]
  },
  {
   "cell_type": "code",
   "execution_count": 69,
   "id": "68bec20f-7039-4a39-8dd3-405ad0eb9514",
   "metadata": {},
   "outputs": [],
   "source": [
    "logging.basicConfig(filename = \"test6.log\",level = logging.INFO)"
   ]
  },
  {
   "cell_type": "code",
   "execution_count": 70,
   "id": "25560b46-0546-469b-a3a0-853e300e9281",
   "metadata": {},
   "outputs": [],
   "source": [
    "logging.info(\"this is my line of execution \")"
   ]
  },
  {
   "cell_type": "code",
   "execution_count": 71,
   "id": "b2971b81-029c-4110-a84d-2d287a806242",
   "metadata": {},
   "outputs": [],
   "source": [
    "logging.error(\"this is my error\")"
   ]
  },
  {
   "cell_type": "code",
   "execution_count": 72,
   "id": "182106a6-e81c-4406-ac3b-665906d4039a",
   "metadata": {},
   "outputs": [],
   "source": [
    "logging.critical(\"this is my critical\")"
   ]
  },
  {
   "cell_type": "code",
   "execution_count": 73,
   "id": "e85ecaad-4834-48f6-997f-718a4de7cb6e",
   "metadata": {},
   "outputs": [],
   "source": [
    "logging.warning(\"this is my warning\")"
   ]
  },
  {
   "cell_type": "code",
   "execution_count": 74,
   "id": "6595be8b-438a-41ca-997b-f8d5742997c5",
   "metadata": {},
   "outputs": [],
   "source": [
    "logging.debug(\"this is my info related to debug\")"
   ]
  },
  {
   "cell_type": "code",
   "execution_count": 75,
   "id": "62867fd6-bb69-4d54-bcbd-e419954cf141",
   "metadata": {},
   "outputs": [],
   "source": [
    "logging.shutdown()"
   ]
  },
  {
   "cell_type": "markdown",
   "id": "b94d1193-0e37-46da-bab7-65035f2c2645",
   "metadata": {},
   "source": [
    "Logging Hierarchy\\\n",
    "1.NOSET\\\n",
    "2.DEBUG\\\n",
    "3.INFO\\\n",
    "4.WARNING\\\n",
    "5.ERROR\\\n",
    "6.CRITICAL"
   ]
  },
  {
   "cell_type": "code",
   "execution_count": 2,
   "id": "bb75b3cd-bd1f-4f3d-a229-b7577d312461",
   "metadata": {},
   "outputs": [],
   "source": [
    "logging.basicConfig(filename=\"test7.log\",level=logging.DEBUG,format = \"%(asctime)s %(message)s\")"
   ]
  },
  {
   "cell_type": "code",
   "execution_count": 3,
   "id": "f9aecf9c-12b3-47c1-9846-d080de32dbdd",
   "metadata": {},
   "outputs": [],
   "source": [
    "logging.info(\"this is my info log\")"
   ]
  },
  {
   "cell_type": "code",
   "execution_count": 4,
   "id": "7d03d36a-41ac-4caa-923e-b3e64b5e6f82",
   "metadata": {},
   "outputs": [],
   "source": [
    "logging.debug(\"this is my debug log\")"
   ]
  },
  {
   "cell_type": "code",
   "execution_count": 5,
   "id": "05d335ed-fed5-493d-8a74-c7c128b05815",
   "metadata": {},
   "outputs": [],
   "source": [
    "logging.warning(\"this is my warning log\")"
   ]
  },
  {
   "cell_type": "code",
   "execution_count": 6,
   "id": "d96301c8-5f4b-459e-b2c8-751faf58dc75",
   "metadata": {},
   "outputs": [],
   "source": [
    "logging.shutdown()"
   ]
  },
  {
   "cell_type": "code",
   "execution_count": 2,
   "id": "9adf32ea-767c-4464-a821-6f46ea668a95",
   "metadata": {},
   "outputs": [],
   "source": [
    "logging.basicConfig(filename=\"test8.log\",level=logging.DEBUG,format = \"%(asctime)s %(name)s %(levelname)s %(message)s\")"
   ]
  },
  {
   "cell_type": "code",
   "execution_count": 3,
   "id": "0a3a3c97-6379-47fb-8545-21602b3bae1c",
   "metadata": {},
   "outputs": [],
   "source": [
    "logging.info(\"this is my info log\")"
   ]
  },
  {
   "cell_type": "code",
   "execution_count": 4,
   "id": "bc814cc6-9655-4a73-a6f1-9d17aa31c095",
   "metadata": {},
   "outputs": [],
   "source": [
    "logging.debug(\"this is my debug log\")"
   ]
  },
  {
   "cell_type": "code",
   "execution_count": 3,
   "id": "13b98080-6ac3-429b-af4e-6e1a40bd799c",
   "metadata": {},
   "outputs": [],
   "source": [
    "l = [1,2,3,4,[4,5,6],\"aar\",\"yan\"]"
   ]
  },
  {
   "cell_type": "code",
   "execution_count": 4,
   "id": "2fd383a4-4aa9-460d-900c-dec1b1b51cd1",
   "metadata": {},
   "outputs": [],
   "source": [
    "l1_int = []\n",
    "l2_int = []\n",
    "for i in l:\n",
    "    logging.info(\"this is the start of my first for loop {}\".format(l))\n",
    "    logging.info(\"this is the value of i logging {}\".format(i))\n",
    "    \n",
    "    if type(i) == list:\n",
    "        for j in i:\n",
    "            logging.info(\"logging j {j} and i {i}\".format(i=i,j=j))\n",
    "            if type(j) == int:\n",
    "                l1_int.append(j)\n",
    "    elif type(i) == int:\n",
    "        l1_int.append(i)\n",
    "    else:\n",
    "        if type(i) == str:\n",
    "            l2_int.append(i)\n",
    "logging.info(\"this is my final result with all int {l1}, with all str {l2}\".format(l1=l1_int,l2=l2_int))"
   ]
  },
  {
   "cell_type": "code",
   "execution_count": 5,
   "id": "aabae45f-be13-4650-af5b-0d6da4069d1d",
   "metadata": {},
   "outputs": [
    {
     "data": {
      "text/plain": [
       "[1, 2, 3, 4, 4, 5, 6]"
      ]
     },
     "execution_count": 5,
     "metadata": {},
     "output_type": "execute_result"
    }
   ],
   "source": [
    "l1_int"
   ]
  },
  {
   "cell_type": "code",
   "execution_count": 6,
   "id": "413c17d9-8bcc-40c8-ab9a-6621ce90dd87",
   "metadata": {},
   "outputs": [
    {
     "data": {
      "text/plain": [
       "['aar', 'yan']"
      ]
     },
     "execution_count": 6,
     "metadata": {},
     "output_type": "execute_result"
    }
   ],
   "source": [
    "l2_int"
   ]
  },
  {
   "cell_type": "code",
   "execution_count": null,
   "id": "f66e0551-27b0-464d-b267-cbb670355942",
   "metadata": {},
   "outputs": [],
   "source": []
  }
 ],
 "metadata": {
  "kernelspec": {
   "display_name": "Python 3 (ipykernel)",
   "language": "python",
   "name": "python3"
  },
  "language_info": {
   "codemirror_mode": {
    "name": "ipython",
    "version": 3
   },
   "file_extension": ".py",
   "mimetype": "text/x-python",
   "name": "python",
   "nbconvert_exporter": "python",
   "pygments_lexer": "ipython3",
   "version": "3.10.8"
  }
 },
 "nbformat": 4,
 "nbformat_minor": 5
}
