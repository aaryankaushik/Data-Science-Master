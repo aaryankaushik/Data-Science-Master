{
 "cells": [
  {
   "cell_type": "markdown",
   "id": "16edb7df-5d96-4ddc-b4e2-46996099b00e",
   "metadata": {},
   "source": [
    "# OOPS\n",
    "- object oriented programming system"
   ]
  },
  {
   "cell_type": "code",
   "execution_count": 1,
   "id": "24002d42-136a-4aa0-99bb-49df64978223",
   "metadata": {},
   "outputs": [],
   "source": [
    "a = 1"
   ]
  },
  {
   "cell_type": "code",
   "execution_count": 2,
   "id": "e06ddd97-1d57-47a4-bf33-4f3b1abb9875",
   "metadata": {},
   "outputs": [
    {
     "name": "stdout",
     "output_type": "stream",
     "text": [
      "<class 'int'>\n"
     ]
    }
   ],
   "source": [
    "print(type(a))"
   ]
  },
  {
   "cell_type": "code",
   "execution_count": 3,
   "id": "286ae284-6db1-4982-bd89-9ad77304ea7c",
   "metadata": {},
   "outputs": [
    {
     "name": "stdout",
     "output_type": "stream",
     "text": [
      "<class 'str'>\n"
     ]
    }
   ],
   "source": [
    "print(type(\"aaryan\"))"
   ]
  },
  {
   "cell_type": "markdown",
   "id": "4b564f51-30a5-4fdd-a130-daacd57b4fda",
   "metadata": {},
   "source": [
    "### what is this class?"
   ]
  },
  {
   "cell_type": "code",
   "execution_count": 4,
   "id": "a443cb89-73a5-4c67-aaf9-720071c60a94",
   "metadata": {},
   "outputs": [
    {
     "ename": "SyntaxError",
     "evalue": "incomplete input (3527747674.py, line 1)",
     "output_type": "error",
     "traceback": [
      "\u001b[0;36m  Cell \u001b[0;32mIn[4], line 1\u001b[0;36m\u001b[0m\n\u001b[0;31m    class test:\u001b[0m\n\u001b[0m               ^\u001b[0m\n\u001b[0;31mSyntaxError\u001b[0m\u001b[0;31m:\u001b[0m incomplete input\n"
     ]
    }
   ],
   "source": [
    "class test:"
   ]
  },
  {
   "cell_type": "code",
   "execution_count": 6,
   "id": "1b108682-dd4c-46bc-945a-839a7cc5736c",
   "metadata": {},
   "outputs": [],
   "source": [
    "class test:\n",
    "    pass"
   ]
  },
  {
   "cell_type": "code",
   "execution_count": 7,
   "id": "635732f6-4b9f-4fd9-a4c2-00b9cff00f2b",
   "metadata": {},
   "outputs": [],
   "source": [
    "a = test()"
   ]
  },
  {
   "cell_type": "code",
   "execution_count": 8,
   "id": "df3cb5dc-b068-4214-86c8-c45fcb99c648",
   "metadata": {},
   "outputs": [
    {
     "name": "stdout",
     "output_type": "stream",
     "text": [
      "<class '__main__.test'>\n"
     ]
    }
   ],
   "source": [
    "# a is object and it belongs to class test\n",
    "print(type(a))"
   ]
  },
  {
   "cell_type": "code",
   "execution_count": 9,
   "id": "5a85f9fb-f5aa-47a3-9701-f1abdd39bc8a",
   "metadata": {},
   "outputs": [],
   "source": [
    "class datascience:\n",
    "    def welcome_msg():\n",
    "        print(\"welcome to the world of data\")"
   ]
  },
  {
   "cell_type": "code",
   "execution_count": 10,
   "id": "2cc0b903-033d-4c18-b676-b935bf93f3c7",
   "metadata": {},
   "outputs": [],
   "source": [
    "aaryan = datascience()"
   ]
  },
  {
   "cell_type": "code",
   "execution_count": 11,
   "id": "ba15068a-e33d-4769-b3c8-83240ce087e4",
   "metadata": {},
   "outputs": [
    {
     "ename": "TypeError",
     "evalue": "datascience.welcome_msg() takes 0 positional arguments but 1 was given",
     "output_type": "error",
     "traceback": [
      "\u001b[0;31m---------------------------------------------------------------------------\u001b[0m",
      "\u001b[0;31mTypeError\u001b[0m                                 Traceback (most recent call last)",
      "Cell \u001b[0;32mIn[11], line 1\u001b[0m\n\u001b[0;32m----> 1\u001b[0m \u001b[43maaryan\u001b[49m\u001b[38;5;241;43m.\u001b[39;49m\u001b[43mwelcome_msg\u001b[49m\u001b[43m(\u001b[49m\u001b[43m)\u001b[49m\n",
      "\u001b[0;31mTypeError\u001b[0m: datascience.welcome_msg() takes 0 positional arguments but 1 was given"
     ]
    }
   ],
   "source": [
    "aaryan.welcome_msg()"
   ]
  },
  {
   "cell_type": "markdown",
   "id": "4da2f1a0-557f-4724-aec1-4067054cdc6a",
   "metadata": {},
   "source": [
    "whenever we create function inside a class we should give pointer or a reference. So that class will be able to bind this method or class will be able to understand this method belongs to me. Class variable will be access it. USE \"SELF\""
   ]
  },
  {
   "cell_type": "code",
   "execution_count": 12,
   "id": "72dd7a3f-dfe2-40cb-ab22-003939439a0d",
   "metadata": {},
   "outputs": [],
   "source": [
    "class datascience:\n",
    "    def welcome_msg(self):\n",
    "        print(\"welcome to the world of data\")"
   ]
  },
  {
   "cell_type": "code",
   "execution_count": 13,
   "id": "c7c0c4ee-e82c-4de1-bca6-b6c65b81174a",
   "metadata": {},
   "outputs": [],
   "source": [
    "aaryan = datascience()"
   ]
  },
  {
   "cell_type": "code",
   "execution_count": 14,
   "id": "027b42f2-cf9b-4347-b42b-34b8d6bf1c6b",
   "metadata": {},
   "outputs": [
    {
     "name": "stdout",
     "output_type": "stream",
     "text": [
      "welcome to the world of data\n"
     ]
    }
   ],
   "source": [
    "aaryan.welcome_msg()"
   ]
  },
  {
   "cell_type": "code",
   "execution_count": 15,
   "id": "14f51b1a-89a0-4797-8a64-bb4c3d8f31f0",
   "metadata": {},
   "outputs": [],
   "source": [
    "kaushik = datascience()"
   ]
  },
  {
   "cell_type": "code",
   "execution_count": 16,
   "id": "85dc4793-df3d-4b73-a49b-f400e6a31521",
   "metadata": {},
   "outputs": [
    {
     "name": "stdout",
     "output_type": "stream",
     "text": [
      "welcome to the world of data\n"
     ]
    }
   ],
   "source": [
    "kaushik.welcome_msg()"
   ]
  },
  {
   "cell_type": "code",
   "execution_count": 17,
   "id": "bdb48c5a-79c2-44ef-a1e9-c0009dc43bc0",
   "metadata": {},
   "outputs": [],
   "source": [
    "a = 1"
   ]
  },
  {
   "cell_type": "code",
   "execution_count": 18,
   "id": "d7ad2ed2-1064-4a72-9b55-78a90f209107",
   "metadata": {},
   "outputs": [],
   "source": [
    "b = 2"
   ]
  },
  {
   "cell_type": "code",
   "execution_count": 19,
   "id": "a05bf726-c400-44b2-a2e2-b47857ef7d7c",
   "metadata": {},
   "outputs": [
    {
     "data": {
      "text/plain": [
       "1"
      ]
     },
     "execution_count": 19,
     "metadata": {},
     "output_type": "execute_result"
    }
   ],
   "source": [
    "a"
   ]
  },
  {
   "cell_type": "code",
   "execution_count": 20,
   "id": "0720ab56-e289-4140-b727-a3313bf076b8",
   "metadata": {},
   "outputs": [
    {
     "data": {
      "text/plain": [
       "2"
      ]
     },
     "execution_count": 20,
     "metadata": {},
     "output_type": "execute_result"
    }
   ],
   "source": [
    "b"
   ]
  },
  {
   "cell_type": "markdown",
   "id": "d1e3290d-1c6c-4199-9078-cab386f3a586",
   "metadata": {},
   "source": [
    "create a class variable which can take a data and then it will give some sort of outcome. \\\n",
    "How to do such type of operations? \\\n",
    "with the help of contructors. \\\n",
    "init is nothing but a constructor \\\n",
    "it is a inbuild function \\"
   ]
  },
  {
   "cell_type": "code",
   "execution_count": 21,
   "id": "0c9f503c-243c-4042-a0eb-5d749528d94f",
   "metadata": {},
   "outputs": [],
   "source": [
    "class datascience:\n",
    "    \n",
    "    def __init__(self,phone_number,email_id,student_id):\n",
    "        self.phone_number = phone_number\n",
    "        self.email_id = email_id\n",
    "        self.student_id = student_id\n",
    "    \n",
    "    def return_student_details(self):\n",
    "        return self.phone_number, self.email_id,self.student_id"
   ]
  },
  {
   "cell_type": "code",
   "execution_count": 22,
   "id": "7c246ff0-f6a0-4f60-85d0-c556b9c8f234",
   "metadata": {},
   "outputs": [
    {
     "ename": "TypeError",
     "evalue": "datascience.__init__() missing 3 required positional arguments: 'phone_number', 'email_id', and 'student_id'",
     "output_type": "error",
     "traceback": [
      "\u001b[0;31m---------------------------------------------------------------------------\u001b[0m",
      "\u001b[0;31mTypeError\u001b[0m                                 Traceback (most recent call last)",
      "Cell \u001b[0;32mIn[22], line 1\u001b[0m\n\u001b[0;32m----> 1\u001b[0m aaryan \u001b[38;5;241m=\u001b[39m \u001b[43mdatascience\u001b[49m\u001b[43m(\u001b[49m\u001b[43m)\u001b[49m\n",
      "\u001b[0;31mTypeError\u001b[0m: datascience.__init__() missing 3 required positional arguments: 'phone_number', 'email_id', and 'student_id'"
     ]
    }
   ],
   "source": [
    "aaryan = datascience()"
   ]
  },
  {
   "cell_type": "code",
   "execution_count": 23,
   "id": "0dc51e49-5d28-4313-8e0f-d98ea039f0cb",
   "metadata": {},
   "outputs": [],
   "source": [
    "aaryan = datascience(1234567,\"aaryankaushik00@gmail.com\",22)"
   ]
  },
  {
   "cell_type": "code",
   "execution_count": 24,
   "id": "d6240ac1-cd53-49f1-b207-03c9b0d25fe0",
   "metadata": {},
   "outputs": [
    {
     "data": {
      "text/plain": [
       "(1234567, 'aaryankaushik00@gmail.com', 22)"
      ]
     },
     "execution_count": 24,
     "metadata": {},
     "output_type": "execute_result"
    }
   ],
   "source": [
    "aaryan.return_student_details()"
   ]
  },
  {
   "cell_type": "code",
   "execution_count": 25,
   "id": "bf7f063c-522e-492f-923a-5d476674a00b",
   "metadata": {},
   "outputs": [
    {
     "data": {
      "text/plain": [
       "1234567"
      ]
     },
     "execution_count": 25,
     "metadata": {},
     "output_type": "execute_result"
    }
   ],
   "source": [
    "aaryan.phone_number"
   ]
  },
  {
   "cell_type": "code",
   "execution_count": 26,
   "id": "19983a8d-a8de-4195-bd65-dd092471cedd",
   "metadata": {},
   "outputs": [
    {
     "data": {
      "text/plain": [
       "'aaryankaushik00@gmail.com'"
      ]
     },
     "execution_count": 26,
     "metadata": {},
     "output_type": "execute_result"
    }
   ],
   "source": [
    "aaryan.email_id"
   ]
  },
  {
   "cell_type": "code",
   "execution_count": 27,
   "id": "47f89e98-5eb5-4ace-8b92-c8315909a743",
   "metadata": {},
   "outputs": [
    {
     "data": {
      "text/plain": [
       "22"
      ]
     },
     "execution_count": 27,
     "metadata": {},
     "output_type": "execute_result"
    }
   ],
   "source": [
    "aaryan.student_id"
   ]
  },
  {
   "cell_type": "code",
   "execution_count": 28,
   "id": "37e4ae4d-3699-428a-b017-488e8246b83c",
   "metadata": {},
   "outputs": [],
   "source": [
    "kaushik = datascience(7654321,\"xyz@gmail.com\",1)"
   ]
  },
  {
   "cell_type": "code",
   "execution_count": 29,
   "id": "682c7fd1-4740-40b9-97fa-01a3e87de97b",
   "metadata": {},
   "outputs": [
    {
     "data": {
      "text/plain": [
       "(7654321, 'xyz@gmail.com', 1)"
      ]
     },
     "execution_count": 29,
     "metadata": {},
     "output_type": "execute_result"
    }
   ],
   "source": [
    "kaushik.return_student_details()"
   ]
  },
  {
   "cell_type": "code",
   "execution_count": 30,
   "id": "cfe09df1-5d49-44f5-adde-94de94570c02",
   "metadata": {},
   "outputs": [
    {
     "data": {
      "text/plain": [
       "'xyz@gmail.com'"
      ]
     },
     "execution_count": 30,
     "metadata": {},
     "output_type": "execute_result"
    }
   ],
   "source": [
    "kaushik.email_id"
   ]
  },
  {
   "cell_type": "code",
   "execution_count": 31,
   "id": "22058537-c4dc-4879-b6b1-2fd1186b5d5a",
   "metadata": {},
   "outputs": [],
   "source": [
    "# self is not a keyword it is just a reference\n",
    "# we can take anything which will refer to the class\n",
    "class datascience2:\n",
    "    \n",
    "    def __init__(aar,phone_number,email_id,student_id):\n",
    "        aar.phone_number = phone_number\n",
    "        aar.email_id = email_id\n",
    "        aar.student_id = student_id\n",
    "    \n",
    "    def return_student_details(aar):\n",
    "        return aar.phone_number, aar.email_id,aar.student_id"
   ]
  },
  {
   "cell_type": "code",
   "execution_count": 32,
   "id": "6ed7037e-a69f-4b48-a169-819091eb65a8",
   "metadata": {},
   "outputs": [],
   "source": [
    "xyz = datascience2(567978,\"hhsh@gmail.com\",67)"
   ]
  },
  {
   "cell_type": "code",
   "execution_count": 33,
   "id": "8bd920db-238d-4dae-b223-7b8bec41e63e",
   "metadata": {},
   "outputs": [
    {
     "data": {
      "text/plain": [
       "567978"
      ]
     },
     "execution_count": 33,
     "metadata": {},
     "output_type": "execute_result"
    }
   ],
   "source": [
    "xyz.phone_number"
   ]
  },
  {
   "cell_type": "code",
   "execution_count": 34,
   "id": "597a390f-d04a-4153-a733-8fab46bbb162",
   "metadata": {},
   "outputs": [
    {
     "data": {
      "text/plain": [
       "(567978, 'hhsh@gmail.com', 67)"
      ]
     },
     "execution_count": 34,
     "metadata": {},
     "output_type": "execute_result"
    }
   ],
   "source": [
    "xyz.return_student_details()"
   ]
  },
  {
   "cell_type": "code",
   "execution_count": 35,
   "id": "64c88a09-2fe2-45d9-b862-a14fed62805b",
   "metadata": {},
   "outputs": [],
   "source": [
    "class datascience3:\n",
    "    \n",
    "    def __init__(aar,phone_number,email_id,student_id):\n",
    "        aar.phone_number1 = phone_number\n",
    "        aar.email_id = email_id\n",
    "        aar.student_id = student_id\n",
    "    \n",
    "    def return_student_details(aar):\n",
    "        return aar.phone_number, aar.email_id,aar.student_id"
   ]
  },
  {
   "cell_type": "code",
   "execution_count": 36,
   "id": "a5944120-f219-472a-ad55-e45565996b67",
   "metadata": {},
   "outputs": [],
   "source": [
    "aaryan = datascience3(79707,\"aary@gmail.com\",56)"
   ]
  },
  {
   "cell_type": "code",
   "execution_count": 37,
   "id": "c54a8d67-963f-417b-9bbc-e2d53a2d942d",
   "metadata": {},
   "outputs": [
    {
     "ename": "AttributeError",
     "evalue": "'datascience3' object has no attribute 'phone_number'",
     "output_type": "error",
     "traceback": [
      "\u001b[0;31m---------------------------------------------------------------------------\u001b[0m",
      "\u001b[0;31mAttributeError\u001b[0m                            Traceback (most recent call last)",
      "Cell \u001b[0;32mIn[37], line 1\u001b[0m\n\u001b[0;32m----> 1\u001b[0m \u001b[43maaryan\u001b[49m\u001b[38;5;241;43m.\u001b[39;49m\u001b[43mphone_number\u001b[49m\n",
      "\u001b[0;31mAttributeError\u001b[0m: 'datascience3' object has no attribute 'phone_number'"
     ]
    }
   ],
   "source": [
    "aaryan.phone_number"
   ]
  },
  {
   "cell_type": "markdown",
   "id": "96c96951-8fd0-4fc5-b04e-2302933dfeeb",
   "metadata": {},
   "source": [
    "class always understand aar.phone_number1 which is associated not phone_number \\\n",
    "phone_number is an assignment"
   ]
  },
  {
   "cell_type": "code",
   "execution_count": 38,
   "id": "25acab91-9503-4cb7-bf3c-a005066715f1",
   "metadata": {},
   "outputs": [
    {
     "data": {
      "text/plain": [
       "79707"
      ]
     },
     "execution_count": 38,
     "metadata": {},
     "output_type": "execute_result"
    }
   ],
   "source": [
    "aaryan.phone_number1"
   ]
  },
  {
   "cell_type": "code",
   "execution_count": 39,
   "id": "afebb77a-e2f8-46d3-93d9-aecfc21d5a48",
   "metadata": {},
   "outputs": [
    {
     "ename": "AttributeError",
     "evalue": "'datascience3' object has no attribute 'phone_number'",
     "output_type": "error",
     "traceback": [
      "\u001b[0;31m---------------------------------------------------------------------------\u001b[0m",
      "\u001b[0;31mAttributeError\u001b[0m                            Traceback (most recent call last)",
      "Cell \u001b[0;32mIn[39], line 1\u001b[0m\n\u001b[0;32m----> 1\u001b[0m \u001b[43maaryan\u001b[49m\u001b[38;5;241;43m.\u001b[39;49m\u001b[43mreturn_student_details\u001b[49m\u001b[43m(\u001b[49m\u001b[43m)\u001b[49m\n\u001b[1;32m      2\u001b[0m \u001b[38;5;66;03m# didnt define aaryan.phone_number1 in the function\u001b[39;00m\n",
      "Cell \u001b[0;32mIn[35], line 9\u001b[0m, in \u001b[0;36mdatascience3.return_student_details\u001b[0;34m(aar)\u001b[0m\n\u001b[1;32m      8\u001b[0m \u001b[38;5;28;01mdef\u001b[39;00m \u001b[38;5;21mreturn_student_details\u001b[39m(aar):\n\u001b[0;32m----> 9\u001b[0m     \u001b[38;5;28;01mreturn\u001b[39;00m \u001b[43maar\u001b[49m\u001b[38;5;241;43m.\u001b[39;49m\u001b[43mphone_number\u001b[49m, aar\u001b[38;5;241m.\u001b[39memail_id,aar\u001b[38;5;241m.\u001b[39mstudent_id\n",
      "\u001b[0;31mAttributeError\u001b[0m: 'datascience3' object has no attribute 'phone_number'"
     ]
    }
   ],
   "source": [
    "aaryan.return_student_details()\n",
    "# didnt define aaryan.phone_number1 in the function"
   ]
  },
  {
   "cell_type": "code",
   "execution_count": null,
   "id": "bfab092f-a7bf-4def-8a6d-e141b0a3337d",
   "metadata": {},
   "outputs": [],
   "source": []
  }
 ],
 "metadata": {
  "kernelspec": {
   "display_name": "Python 3 (ipykernel)",
   "language": "python",
   "name": "python3"
  },
  "language_info": {
   "codemirror_mode": {
    "name": "ipython",
    "version": 3
   },
   "file_extension": ".py",
   "mimetype": "text/x-python",
   "name": "python",
   "nbconvert_exporter": "python",
   "pygments_lexer": "ipython3",
   "version": "3.10.8"
  }
 },
 "nbformat": 4,
 "nbformat_minor": 5
}
