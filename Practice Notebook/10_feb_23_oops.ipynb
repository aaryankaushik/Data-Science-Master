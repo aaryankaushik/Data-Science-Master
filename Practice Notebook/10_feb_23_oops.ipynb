{
 "cells": [
  {
   "cell_type": "markdown",
   "id": "343fe7da-c82d-4412-a618-b624ec976810",
   "metadata": {
    "tags": []
   },
   "source": [
    "## OPPS\n",
    "- Decorators\n",
    "- Class Methods\n",
    "- Static Method\n",
    "- Special (Magic/Dunder) Methods\n",
    "- Property Decorators - Getters, Setters and Deletes"
   ]
  },
  {
   "cell_type": "markdown",
   "id": "8d708db7-37f9-4e59-bad3-40b3789438ab",
   "metadata": {
    "tags": []
   },
   "source": [
    "### Decorators"
   ]
  },
  {
   "cell_type": "code",
   "execution_count": 1,
   "id": "cb6176e9-5751-424b-8716-e84d44dd1580",
   "metadata": {},
   "outputs": [],
   "source": [
    "def test():\n",
    "    print(\"this is the start of my function\")\n",
    "    print(4+5)\n",
    "    print(\"this is the end of my function\")"
   ]
  },
  {
   "cell_type": "code",
   "execution_count": 2,
   "id": "29ed7a81-33be-43f6-97b4-e0d9f0f25b2a",
   "metadata": {},
   "outputs": [
    {
     "name": "stdout",
     "output_type": "stream",
     "text": [
      "this is the start of my function\n",
      "9\n",
      "this is the end of my function\n"
     ]
    }
   ],
   "source": [
    "test()"
   ]
  },
  {
   "cell_type": "code",
   "execution_count": 3,
   "id": "09030e8a-cd5b-4b81-8bfa-9a83eb5882e4",
   "metadata": {},
   "outputs": [],
   "source": [
    "def deco(func):\n",
    "    def inner_deco():\n",
    "        print(\"this is the start of my function\")\n",
    "        func()\n",
    "        print(\"this is the end of my function\")\n",
    "    return inner_deco"
   ]
  },
  {
   "cell_type": "code",
   "execution_count": 4,
   "id": "4d5de653-4a03-478c-8bb6-e87149cdf33e",
   "metadata": {},
   "outputs": [],
   "source": [
    "@deco\n",
    "def test1():\n",
    "    print(4+5)"
   ]
  },
  {
   "cell_type": "code",
   "execution_count": 5,
   "id": "7bca43ba-3bdf-4260-b7c4-bb7e53ce1f87",
   "metadata": {},
   "outputs": [
    {
     "name": "stdout",
     "output_type": "stream",
     "text": [
      "this is the start of my function\n",
      "9\n",
      "this is the end of my function\n"
     ]
    }
   ],
   "source": [
    "test1()"
   ]
  },
  {
   "cell_type": "code",
   "execution_count": 6,
   "id": "924676a6-f08b-471d-8b22-8e2802764004",
   "metadata": {},
   "outputs": [],
   "source": [
    "import time\n",
    "def timer_test(func):\n",
    "    def timer_test_inner():\n",
    "        start = time.time()\n",
    "        func()\n",
    "        end = time.time()\n",
    "        print(end - start)\n",
    "    return timer_test_inner"
   ]
  },
  {
   "cell_type": "code",
   "execution_count": 7,
   "id": "0e3f5b2d-1e54-4445-a2e2-e9e9c1eff545",
   "metadata": {},
   "outputs": [],
   "source": [
    "@timer_test\n",
    "def test2():\n",
    "    print(45+67)"
   ]
  },
  {
   "cell_type": "code",
   "execution_count": 8,
   "id": "49abfd62-7fc3-4f2d-90de-54f04884ac48",
   "metadata": {},
   "outputs": [
    {
     "name": "stdout",
     "output_type": "stream",
     "text": [
      "112\n",
      "4.315376281738281e-05\n"
     ]
    }
   ],
   "source": [
    "test2()"
   ]
  },
  {
   "cell_type": "code",
   "execution_count": 9,
   "id": "d3b55d42-250b-4a6e-958c-dc336baed29d",
   "metadata": {},
   "outputs": [],
   "source": [
    "@timer_test\n",
    "def test3():\n",
    "    for i in range (100000):\n",
    "        pass"
   ]
  },
  {
   "cell_type": "code",
   "execution_count": 10,
   "id": "c5d24a28-ae11-449f-9780-656574abe3b6",
   "metadata": {},
   "outputs": [
    {
     "name": "stdout",
     "output_type": "stream",
     "text": [
      "0.0020143985748291016\n"
     ]
    }
   ],
   "source": [
    "test3()"
   ]
  },
  {
   "cell_type": "markdown",
   "id": "4ba231b3-c31d-4844-a6dc-d12b2fb594b7",
   "metadata": {
    "tags": []
   },
   "source": [
    "### Class Methhod"
   ]
  },
  {
   "cell_type": "code",
   "execution_count": 11,
   "id": "ebb0bb07-3d82-4088-8bd6-a7dd9fe2acb0",
   "metadata": {},
   "outputs": [],
   "source": [
    "class pwskills:\n",
    "    def __init__(self,name,email):\n",
    "        self.name = name\n",
    "        self.email = email\n",
    "        \n",
    "    def student_details(self):\n",
    "        print(self.name,self.email)"
   ]
  },
  {
   "cell_type": "code",
   "execution_count": 12,
   "id": "5c3a6bb6-12be-42c4-9e36-65baac49be7d",
   "metadata": {},
   "outputs": [],
   "source": [
    "pw = pwskills(\"aaryan\",\"aaryankaushik00@gmail.com\")"
   ]
  },
  {
   "cell_type": "code",
   "execution_count": 13,
   "id": "141202e4-8514-4ad3-9041-58676a49a6f7",
   "metadata": {},
   "outputs": [
    {
     "data": {
      "text/plain": [
       "'aaryan'"
      ]
     },
     "execution_count": 13,
     "metadata": {},
     "output_type": "execute_result"
    }
   ],
   "source": [
    "pw.name"
   ]
  },
  {
   "cell_type": "code",
   "execution_count": 14,
   "id": "3807f99e-59d1-4d8c-a2e2-4b36e7700eeb",
   "metadata": {},
   "outputs": [
    {
     "data": {
      "text/plain": [
       "'aaryankaushik00@gmail.com'"
      ]
     },
     "execution_count": 14,
     "metadata": {},
     "output_type": "execute_result"
    }
   ],
   "source": [
    "pw.email"
   ]
  },
  {
   "cell_type": "code",
   "execution_count": 15,
   "id": "43c52a08-74a4-4de8-9f1a-7ea715321a31",
   "metadata": {},
   "outputs": [
    {
     "name": "stdout",
     "output_type": "stream",
     "text": [
      "aaryan aaryankaushik00@gmail.com\n"
     ]
    }
   ],
   "source": [
    "pw.student_details()"
   ]
  },
  {
   "cell_type": "code",
   "execution_count": 16,
   "id": "88c6ec84-3e56-43af-9bb6-b7b8688510ec",
   "metadata": {},
   "outputs": [],
   "source": [
    "## Alternative using class method\n",
    "class pwskills1:\n",
    "    def __init__(self,name,email):\n",
    "        self.name = name\n",
    "        self.email = email\n",
    "        \n",
    "    ##overloading\n",
    "    @classmethod\n",
    "    def details(cls,name1,email1):\n",
    "        return cls(name1,email1)\n",
    "        \n",
    "    def student_details(self):\n",
    "        print(self.name,self.email)"
   ]
  },
  {
   "cell_type": "code",
   "execution_count": 17,
   "id": "efd2515a-aa91-42e5-aac7-a49e5f87e6b9",
   "metadata": {},
   "outputs": [],
   "source": [
    "pw1 = pwskills1.details(\"aar\",\"aarya@gmail.com\")"
   ]
  },
  {
   "cell_type": "code",
   "execution_count": 18,
   "id": "028dd3fb-835d-4b9d-974c-e8fa248d25b6",
   "metadata": {},
   "outputs": [
    {
     "data": {
      "text/plain": [
       "'aar'"
      ]
     },
     "execution_count": 18,
     "metadata": {},
     "output_type": "execute_result"
    }
   ],
   "source": [
    "pw1.name"
   ]
  },
  {
   "cell_type": "code",
   "execution_count": 19,
   "id": "5652602e-b640-4c2b-bd10-a47a75cb0643",
   "metadata": {},
   "outputs": [
    {
     "data": {
      "text/plain": [
       "'aaryankaushik00@gmail.com'"
      ]
     },
     "execution_count": 19,
     "metadata": {},
     "output_type": "execute_result"
    }
   ],
   "source": [
    "pw.email"
   ]
  },
  {
   "cell_type": "code",
   "execution_count": 20,
   "id": "45f8375c-885e-4dce-bfb7-3bc916e890ae",
   "metadata": {},
   "outputs": [
    {
     "name": "stdout",
     "output_type": "stream",
     "text": [
      "aar aarya@gmail.com\n"
     ]
    }
   ],
   "source": [
    "pw1.student_details()"
   ]
  },
  {
   "cell_type": "code",
   "execution_count": 21,
   "id": "5666bc39-8081-45e2-84e7-f93a8df80100",
   "metadata": {},
   "outputs": [],
   "source": [
    "class pwskills2:\n",
    "    \n",
    "    mobile_number = 98972863181\n",
    "    \n",
    "    def __init__(self,name,email):\n",
    "        self.name = name\n",
    "        self.email = email\n",
    "        \n",
    "    @classmethod\n",
    "    def change_number(cls,mobile):\n",
    "        pwskills2.mobile_number = mobile\n",
    "        \n",
    "    @classmethod\n",
    "    def details(cls,name1,email1):\n",
    "        return cls(name1,email1)\n",
    "        \n",
    "    def student_details(self):\n",
    "        print(self.name,self.email,pwskills2.mobile_number)"
   ]
  },
  {
   "cell_type": "code",
   "execution_count": 22,
   "id": "8dfb50aa-de5d-4597-b6af-85d0fb30c1ae",
   "metadata": {},
   "outputs": [
    {
     "data": {
      "text/plain": [
       "98972863181"
      ]
     },
     "execution_count": 22,
     "metadata": {},
     "output_type": "execute_result"
    }
   ],
   "source": [
    "pwskills2.mobile_number"
   ]
  },
  {
   "cell_type": "code",
   "execution_count": 23,
   "id": "76f2fc91-15bd-4498-87c9-690b56624a9e",
   "metadata": {},
   "outputs": [],
   "source": [
    "pw2 = pwskills2.details(\"aar\",\"aff@gmail.com\")"
   ]
  },
  {
   "cell_type": "code",
   "execution_count": 24,
   "id": "a2e23eb9-fb8b-46a8-90ce-a307592707c4",
   "metadata": {},
   "outputs": [
    {
     "name": "stdout",
     "output_type": "stream",
     "text": [
      "aar aff@gmail.com 98972863181\n"
     ]
    }
   ],
   "source": [
    "pw2.student_details()"
   ]
  },
  {
   "cell_type": "code",
   "execution_count": 25,
   "id": "0bd464af-1d47-46ef-aaf6-47ddf9b81a4c",
   "metadata": {},
   "outputs": [],
   "source": [
    "pw_obj = pwskills2(\"abc\",\"abc@gmail.com\")"
   ]
  },
  {
   "cell_type": "code",
   "execution_count": 26,
   "id": "9103cc8b-990a-4c39-a02b-49c56a027d00",
   "metadata": {},
   "outputs": [
    {
     "name": "stdout",
     "output_type": "stream",
     "text": [
      "abc abc@gmail.com 98972863181\n"
     ]
    }
   ],
   "source": [
    "pw_obj.student_details()"
   ]
  },
  {
   "cell_type": "code",
   "execution_count": 27,
   "id": "8e97a405-fa60-49e4-8a97-bcf590a07631",
   "metadata": {},
   "outputs": [],
   "source": [
    "pwskills2.change_number(9989)"
   ]
  },
  {
   "cell_type": "code",
   "execution_count": 28,
   "id": "c2dbb011-6e19-4ce2-b0f6-50113f04b755",
   "metadata": {},
   "outputs": [
    {
     "data": {
      "text/plain": [
       "9989"
      ]
     },
     "execution_count": 28,
     "metadata": {},
     "output_type": "execute_result"
    }
   ],
   "source": [
    "pwskills2.mobile_number"
   ]
  },
  {
   "cell_type": "code",
   "execution_count": 29,
   "id": "15dee924-f7a0-4a65-8a46-1431eb3107d6",
   "metadata": {},
   "outputs": [],
   "source": [
    "pw2_obje = pwskills2(\"xyz\",\"gsh@gmail.com\")"
   ]
  },
  {
   "cell_type": "code",
   "execution_count": 30,
   "id": "9f85ad5a-d704-4a01-aab8-c2e77c4b8d69",
   "metadata": {},
   "outputs": [
    {
     "data": {
      "text/plain": [
       "<__main__.pwskills2 at 0x7f54505d45b0>"
      ]
     },
     "execution_count": 30,
     "metadata": {},
     "output_type": "execute_result"
    }
   ],
   "source": [
    "pw2_obje.details(\"aary\",\"aaryankaushik@gmail.com\")"
   ]
  },
  {
   "cell_type": "code",
   "execution_count": 31,
   "id": "0170e2ba-7443-494c-a3d6-1c5ffd00ef2f",
   "metadata": {},
   "outputs": [
    {
     "data": {
      "text/plain": [
       "'xyz'"
      ]
     },
     "execution_count": 31,
     "metadata": {},
     "output_type": "execute_result"
    }
   ],
   "source": [
    "pw2_obje.name"
   ]
  },
  {
   "cell_type": "code",
   "execution_count": 32,
   "id": "3d807329-b440-491b-b5a9-608568bab2c2",
   "metadata": {},
   "outputs": [],
   "source": [
    "pw2_obje.change_number(2643)"
   ]
  },
  {
   "cell_type": "code",
   "execution_count": 33,
   "id": "05316235-5de6-4359-97d0-4018c9683f21",
   "metadata": {},
   "outputs": [
    {
     "data": {
      "text/plain": [
       "2643"
      ]
     },
     "execution_count": 33,
     "metadata": {},
     "output_type": "execute_result"
    }
   ],
   "source": [
    "pw2_obje.mobile_number"
   ]
  },
  {
   "cell_type": "code",
   "execution_count": 34,
   "id": "1c4d6ded-2324-4001-97a5-84a583fe51a6",
   "metadata": {},
   "outputs": [],
   "source": [
    "class pwskills3:\n",
    "    \n",
    "    mobile_number = 98972863181\n",
    "    \n",
    "    def __init__(self,name,email):\n",
    "        self.name = name\n",
    "        self.email = email\n",
    "        \n",
    "    @classmethod\n",
    "    def change_number(cls,mobile):\n",
    "        pwskills2.mobile_number = mobile\n",
    "        \n",
    "    @classmethod\n",
    "    def details(cls,name1,email1):\n",
    "        return cls(name1,email1)\n",
    "        \n",
    "    def student_details(self):\n",
    "        print(self.name,self.email,pwskills2.mobile_number)"
   ]
  },
  {
   "cell_type": "code",
   "execution_count": 35,
   "id": "f3d59684-e6c6-4293-8d31-65c26d4acc30",
   "metadata": {},
   "outputs": [],
   "source": [
    "def course_details(cls,course_name):\n",
    "    print(\"course details\",course_name)"
   ]
  },
  {
   "cell_type": "code",
   "execution_count": 36,
   "id": "9a43ca04-520c-4966-b225-234ef654d87d",
   "metadata": {},
   "outputs": [],
   "source": [
    "pwskills3.course_details = classmethod(course_details)"
   ]
  },
  {
   "cell_type": "code",
   "execution_count": 37,
   "id": "cb4adf21-e393-47ba-8960-2ec2d98b42e2",
   "metadata": {},
   "outputs": [
    {
     "name": "stdout",
     "output_type": "stream",
     "text": [
      "course details data science masters\n"
     ]
    }
   ],
   "source": [
    "pwskills3.course_details(\"data science masters\")"
   ]
  },
  {
   "cell_type": "code",
   "execution_count": 38,
   "id": "8ba85540-feea-4aec-94dd-a4622c40fa3a",
   "metadata": {},
   "outputs": [],
   "source": [
    "pw3 = pwskills3(\"aaryan\",\"aaryankaushik00@gmail.com\")"
   ]
  },
  {
   "cell_type": "code",
   "execution_count": 39,
   "id": "8ad2c5bd-d465-4474-867b-0a593a202575",
   "metadata": {},
   "outputs": [
    {
     "name": "stdout",
     "output_type": "stream",
     "text": [
      "course details web dev\n"
     ]
    }
   ],
   "source": [
    "pw3.course_details(\"web dev\")"
   ]
  },
  {
   "cell_type": "code",
   "execution_count": 40,
   "id": "9fe31813-7516-4bbf-8196-aad69cbcc93f",
   "metadata": {},
   "outputs": [],
   "source": [
    "class pwskills4:\n",
    "    \n",
    "    mobile_number = 98972863181\n",
    "    \n",
    "    def __init__(self,name,email):\n",
    "        self.name = name\n",
    "        self.email = email\n",
    "        \n",
    "    @classmethod\n",
    "    def change_number(cls,mobile):\n",
    "        pwskills2.mobile_number = mobile\n",
    "        \n",
    "    @classmethod\n",
    "    def details(cls,name1,email1):\n",
    "        return cls(name1,email1)\n",
    "        \n",
    "    def student_details(self):\n",
    "        print(self.name,self.email,pwskills2.mobile_number)"
   ]
  },
  {
   "cell_type": "code",
   "execution_count": 41,
   "id": "d0484dd4-9760-482b-99c5-aa921d417693",
   "metadata": {},
   "outputs": [],
   "source": [
    "del pwskills4.change_number"
   ]
  },
  {
   "cell_type": "code",
   "execution_count": 42,
   "id": "6bb83648-fb1a-45ef-b489-c59fe6ab2c74",
   "metadata": {},
   "outputs": [
    {
     "ename": "AttributeError",
     "evalue": "type object 'pwskills4' has no attribute 'change_number'",
     "output_type": "error",
     "traceback": [
      "\u001b[0;31m---------------------------------------------------------------------------\u001b[0m",
      "\u001b[0;31mAttributeError\u001b[0m                            Traceback (most recent call last)",
      "Cell \u001b[0;32mIn[42], line 1\u001b[0m\n\u001b[0;32m----> 1\u001b[0m \u001b[43mpwskills4\u001b[49m\u001b[38;5;241;43m.\u001b[39;49m\u001b[43mchange_number\u001b[49m(\u001b[38;5;241m415\u001b[39m)\n",
      "\u001b[0;31mAttributeError\u001b[0m: type object 'pwskills4' has no attribute 'change_number'"
     ]
    }
   ],
   "source": [
    "pwskills4.change_number(415)"
   ]
  },
  {
   "cell_type": "code",
   "execution_count": 43,
   "id": "ac26bb66-516c-4b6d-b008-cf9718004f10",
   "metadata": {},
   "outputs": [],
   "source": [
    "delattr(pwskills4,\"details\")"
   ]
  },
  {
   "cell_type": "code",
   "execution_count": 44,
   "id": "68fb78d5-9477-461b-a7c8-4f75f299abc4",
   "metadata": {},
   "outputs": [
    {
     "data": {
      "text/plain": [
       "98972863181"
      ]
     },
     "execution_count": 44,
     "metadata": {},
     "output_type": "execute_result"
    }
   ],
   "source": [
    "pwskills4.mobile_number"
   ]
  },
  {
   "cell_type": "code",
   "execution_count": 45,
   "id": "e2f5041f-c06d-4d58-ba29-0b3e7310b3d6",
   "metadata": {},
   "outputs": [],
   "source": [
    "delattr(pwskills4,\"mobile_number\")"
   ]
  },
  {
   "cell_type": "code",
   "execution_count": 46,
   "id": "f9169a00-4edb-49c9-86f6-e37c414dc390",
   "metadata": {},
   "outputs": [
    {
     "ename": "AttributeError",
     "evalue": "type object 'pwskills4' has no attribute 'mobile_number'",
     "output_type": "error",
     "traceback": [
      "\u001b[0;31m---------------------------------------------------------------------------\u001b[0m",
      "\u001b[0;31mAttributeError\u001b[0m                            Traceback (most recent call last)",
      "Cell \u001b[0;32mIn[46], line 1\u001b[0m\n\u001b[0;32m----> 1\u001b[0m \u001b[43mpwskills4\u001b[49m\u001b[38;5;241;43m.\u001b[39;49m\u001b[43mmobile_number\u001b[49m\n",
      "\u001b[0;31mAttributeError\u001b[0m: type object 'pwskills4' has no attribute 'mobile_number'"
     ]
    }
   ],
   "source": [
    "pwskills4.mobile_number"
   ]
  },
  {
   "cell_type": "code",
   "execution_count": 47,
   "id": "add9336c-ee96-4712-b8bc-e164f7f111ac",
   "metadata": {},
   "outputs": [],
   "source": [
    "delattr(pwskills4,\"student_details\")"
   ]
  },
  {
   "cell_type": "markdown",
   "id": "fa1e0483-710a-40df-acec-11aedfd3576b",
   "metadata": {},
   "source": [
    "### Static Method"
   ]
  },
  {
   "cell_type": "code",
   "execution_count": 48,
   "id": "dc2fdd45-f5c1-49bf-9a7f-280a3e833e4b",
   "metadata": {},
   "outputs": [],
   "source": [
    "class pwskills:\n",
    "    def student_details(self,name,mail_id,number):\n",
    "        print(name,mail_id,number)"
   ]
  },
  {
   "cell_type": "code",
   "execution_count": 49,
   "id": "8b2c2e08-2ee7-4bcf-a7e2-42efd22e9202",
   "metadata": {},
   "outputs": [],
   "source": [
    "pw = pwskills()"
   ]
  },
  {
   "cell_type": "code",
   "execution_count": 50,
   "id": "71cd9ddf-3d00-4e67-85db-cb7ab7fa2abe",
   "metadata": {},
   "outputs": [
    {
     "name": "stdout",
     "output_type": "stream",
     "text": [
      "aar aaryankaushik00@gmail.com 6729\n"
     ]
    }
   ],
   "source": [
    "pw.student_details(\"aar\",\"aaryankaushik00@gmail.com\",6729)"
   ]
  },
  {
   "cell_type": "code",
   "execution_count": 51,
   "id": "14d532a5-218e-47e5-9007-96289d63455b",
   "metadata": {},
   "outputs": [],
   "source": [
    "#cls in case of class method\n",
    "#self in case of instance method"
   ]
  },
  {
   "cell_type": "code",
   "execution_count": 52,
   "id": "5cd231ee-55ef-4a6e-b70b-9f952e051a56",
   "metadata": {},
   "outputs": [],
   "source": [
    "# func that should not depend on object\n",
    "class pwskills1:\n",
    "    def student_details(self,name,mail_id,number):\n",
    "        print(name,mail_id,number)\n",
    "        \n",
    "    @staticmethod\n",
    "    def mentor_class(list_mentor):\n",
    "        print(list_mentor)\n",
    "        \n",
    "    def mentor(self,mentor_list):\n",
    "        print(mentor_list)"
   ]
  },
  {
   "cell_type": "code",
   "execution_count": 53,
   "id": "ed89f407-7f1f-4c92-80f9-31288a2a5010",
   "metadata": {},
   "outputs": [],
   "source": [
    "pw1 = pwskills1()"
   ]
  },
  {
   "cell_type": "code",
   "execution_count": 54,
   "id": "4fd502f5-283c-4b8f-af02-cc90153a347f",
   "metadata": {},
   "outputs": [
    {
     "name": "stdout",
     "output_type": "stream",
     "text": [
      "['abc', 'xyz']\n"
     ]
    }
   ],
   "source": [
    "pw1.mentor([\"abc\",\"xyz\"])"
   ]
  },
  {
   "cell_type": "code",
   "execution_count": 55,
   "id": "0f535f83-03ba-45f4-a1e3-eb3bc403f108",
   "metadata": {},
   "outputs": [
    {
     "name": "stdout",
     "output_type": "stream",
     "text": [
      "['abc', 'xyz']\n"
     ]
    }
   ],
   "source": [
    "pw1.mentor_class([\"abc\",\"xyz\"])"
   ]
  },
  {
   "cell_type": "code",
   "execution_count": 56,
   "id": "65665b73-e156-4fa6-b746-f7426c112d7c",
   "metadata": {},
   "outputs": [
    {
     "name": "stdout",
     "output_type": "stream",
     "text": [
      "['abc', 'xyz']\n"
     ]
    }
   ],
   "source": [
    "pwskills1.mentor_class([\"abc\",\"xyz\"])"
   ]
  },
  {
   "cell_type": "code",
   "execution_count": 57,
   "id": "d944db1e-5ae9-4dbc-b44c-6b365ad81e87",
   "metadata": {},
   "outputs": [],
   "source": [
    "# access static method inside instance method\n",
    "class pwskills1:\n",
    "    def student_details(self,name,mail_id,number):\n",
    "        print(name,mail_id,number)\n",
    "    \n",
    "    @staticmethod\n",
    "    def mentor_mail_id(mail_id):\n",
    "        print(mail_id)\n",
    "        \n",
    "    @staticmethod\n",
    "    def mentor_class(list_mentor):\n",
    "        print(list_mentor)\n",
    "        pwskills1.mentor_mail_id([\"abc@gmail.com\",\"xyz@gmail.com\"])\n",
    "    \n",
    "    @classmethod\n",
    "    def class_name(cls,class_name):\n",
    "        cls.mentor_class([\"abc\",\"xyz\"])\n",
    "        \n",
    "    def mentor(self,mentor_list):\n",
    "        print(mentor_list)\n",
    "        self.mentor_class([\"abc\",\"xyz\"])"
   ]
  },
  {
   "cell_type": "code",
   "execution_count": 58,
   "id": "39df588f-6a84-49d1-816a-48c72a12317c",
   "metadata": {},
   "outputs": [],
   "source": [
    "pw1 = pwskills1()"
   ]
  },
  {
   "cell_type": "code",
   "execution_count": 59,
   "id": "8781eda2-41cb-4d4d-b177-d0cb67aa8c4d",
   "metadata": {},
   "outputs": [
    {
     "name": "stdout",
     "output_type": "stream",
     "text": [
      "aar aaryan@gmail.com 780\n"
     ]
    }
   ],
   "source": [
    "pw1.student_details(\"aar\",\"aaryan@gmail.com\",780)"
   ]
  },
  {
   "cell_type": "code",
   "execution_count": 60,
   "id": "6727e053-ed53-4222-a6fd-67803937d562",
   "metadata": {},
   "outputs": [
    {
     "name": "stdout",
     "output_type": "stream",
     "text": [
      "['abc', 'xyz']\n"
     ]
    }
   ],
   "source": [
    "pw1.mentor_mail_id([\"abc\",\"xyz\"])"
   ]
  },
  {
   "cell_type": "code",
   "execution_count": 61,
   "id": "b7b78eb3-4391-417d-adea-f7bef6dbdb0e",
   "metadata": {},
   "outputs": [
    {
     "name": "stdout",
     "output_type": "stream",
     "text": [
      "['abc', 'xyz']\n",
      "['abc@gmail.com', 'xyz@gmail.com']\n"
     ]
    }
   ],
   "source": [
    "pw1.class_name(\"data science masters\")"
   ]
  },
  {
   "cell_type": "code",
   "execution_count": 62,
   "id": "3f134e50-5676-4ae7-997c-53b1f11b3f6b",
   "metadata": {},
   "outputs": [
    {
     "name": "stdout",
     "output_type": "stream",
     "text": [
      "['abc@gmail.com', 'xyz@gmail.com']\n"
     ]
    }
   ],
   "source": [
    "pwskills1.mentor_mail_id([\"abc@gmail.com\",\"xyz@gmail.com\"])"
   ]
  },
  {
   "cell_type": "markdown",
   "id": "eab5fea3-9348-4db3-9062-9e793f266e1f",
   "metadata": {},
   "source": [
    "### Special (Magic/Dunder) Methods"
   ]
  },
  {
   "cell_type": "code",
   "execution_count": 63,
   "id": "4e96136e-2399-404a-8e8f-f3f6b3891db7",
   "metadata": {},
   "outputs": [
    {
     "data": {
      "text/plain": [
       "['__abs__',\n",
       " '__add__',\n",
       " '__and__',\n",
       " '__bool__',\n",
       " '__ceil__',\n",
       " '__class__',\n",
       " '__delattr__',\n",
       " '__dir__',\n",
       " '__divmod__',\n",
       " '__doc__',\n",
       " '__eq__',\n",
       " '__float__',\n",
       " '__floor__',\n",
       " '__floordiv__',\n",
       " '__format__',\n",
       " '__ge__',\n",
       " '__getattribute__',\n",
       " '__getnewargs__',\n",
       " '__gt__',\n",
       " '__hash__',\n",
       " '__index__',\n",
       " '__init__',\n",
       " '__init_subclass__',\n",
       " '__int__',\n",
       " '__invert__',\n",
       " '__le__',\n",
       " '__lshift__',\n",
       " '__lt__',\n",
       " '__mod__',\n",
       " '__mul__',\n",
       " '__ne__',\n",
       " '__neg__',\n",
       " '__new__',\n",
       " '__or__',\n",
       " '__pos__',\n",
       " '__pow__',\n",
       " '__radd__',\n",
       " '__rand__',\n",
       " '__rdivmod__',\n",
       " '__reduce__',\n",
       " '__reduce_ex__',\n",
       " '__repr__',\n",
       " '__rfloordiv__',\n",
       " '__rlshift__',\n",
       " '__rmod__',\n",
       " '__rmul__',\n",
       " '__ror__',\n",
       " '__round__',\n",
       " '__rpow__',\n",
       " '__rrshift__',\n",
       " '__rshift__',\n",
       " '__rsub__',\n",
       " '__rtruediv__',\n",
       " '__rxor__',\n",
       " '__setattr__',\n",
       " '__sizeof__',\n",
       " '__str__',\n",
       " '__sub__',\n",
       " '__subclasshook__',\n",
       " '__truediv__',\n",
       " '__trunc__',\n",
       " '__xor__',\n",
       " 'as_integer_ratio',\n",
       " 'bit_count',\n",
       " 'bit_length',\n",
       " 'conjugate',\n",
       " 'denominator',\n",
       " 'from_bytes',\n",
       " 'imag',\n",
       " 'numerator',\n",
       " 'real',\n",
       " 'to_bytes']"
      ]
     },
     "execution_count": 63,
     "metadata": {},
     "output_type": "execute_result"
    }
   ],
   "source": [
    "dir(int)"
   ]
  },
  {
   "cell_type": "code",
   "execution_count": 64,
   "id": "57242a9b-875e-4ddf-b451-123d9a05d672",
   "metadata": {},
   "outputs": [],
   "source": [
    "a = 10"
   ]
  },
  {
   "cell_type": "code",
   "execution_count": 65,
   "id": "cd577e1a-0bd9-44d5-9ddd-1cc23bad2374",
   "metadata": {},
   "outputs": [
    {
     "data": {
      "text/plain": [
       "16"
      ]
     },
     "execution_count": 65,
     "metadata": {},
     "output_type": "execute_result"
    }
   ],
   "source": [
    "a + 6"
   ]
  },
  {
   "cell_type": "code",
   "execution_count": 66,
   "id": "477ede25-f0e6-4611-b13e-8888a19f0d52",
   "metadata": {},
   "outputs": [
    {
     "data": {
      "text/plain": [
       "16"
      ]
     },
     "execution_count": 66,
     "metadata": {},
     "output_type": "execute_result"
    }
   ],
   "source": [
    "a.__add__(6)"
   ]
  },
  {
   "cell_type": "code",
   "execution_count": 67,
   "id": "7a9a0594-fbba-4798-a8f9-4e6deb7a8220",
   "metadata": {},
   "outputs": [
    {
     "data": {
      "text/plain": [
       "['__add__',\n",
       " '__class__',\n",
       " '__contains__',\n",
       " '__delattr__',\n",
       " '__dir__',\n",
       " '__doc__',\n",
       " '__eq__',\n",
       " '__format__',\n",
       " '__ge__',\n",
       " '__getattribute__',\n",
       " '__getitem__',\n",
       " '__getnewargs__',\n",
       " '__gt__',\n",
       " '__hash__',\n",
       " '__init__',\n",
       " '__init_subclass__',\n",
       " '__iter__',\n",
       " '__le__',\n",
       " '__len__',\n",
       " '__lt__',\n",
       " '__mod__',\n",
       " '__mul__',\n",
       " '__ne__',\n",
       " '__new__',\n",
       " '__reduce__',\n",
       " '__reduce_ex__',\n",
       " '__repr__',\n",
       " '__rmod__',\n",
       " '__rmul__',\n",
       " '__setattr__',\n",
       " '__sizeof__',\n",
       " '__str__',\n",
       " '__subclasshook__',\n",
       " 'capitalize',\n",
       " 'casefold',\n",
       " 'center',\n",
       " 'count',\n",
       " 'encode',\n",
       " 'endswith',\n",
       " 'expandtabs',\n",
       " 'find',\n",
       " 'format',\n",
       " 'format_map',\n",
       " 'index',\n",
       " 'isalnum',\n",
       " 'isalpha',\n",
       " 'isascii',\n",
       " 'isdecimal',\n",
       " 'isdigit',\n",
       " 'isidentifier',\n",
       " 'islower',\n",
       " 'isnumeric',\n",
       " 'isprintable',\n",
       " 'isspace',\n",
       " 'istitle',\n",
       " 'isupper',\n",
       " 'join',\n",
       " 'ljust',\n",
       " 'lower',\n",
       " 'lstrip',\n",
       " 'maketrans',\n",
       " 'partition',\n",
       " 'removeprefix',\n",
       " 'removesuffix',\n",
       " 'replace',\n",
       " 'rfind',\n",
       " 'rindex',\n",
       " 'rjust',\n",
       " 'rpartition',\n",
       " 'rsplit',\n",
       " 'rstrip',\n",
       " 'split',\n",
       " 'splitlines',\n",
       " 'startswith',\n",
       " 'strip',\n",
       " 'swapcase',\n",
       " 'title',\n",
       " 'translate',\n",
       " 'upper',\n",
       " 'zfill']"
      ]
     },
     "execution_count": 67,
     "metadata": {},
     "output_type": "execute_result"
    }
   ],
   "source": [
    "dir(str)"
   ]
  },
  {
   "cell_type": "code",
   "execution_count": 68,
   "id": "5a484940-acb6-48fd-a306-d4286f488c1d",
   "metadata": {},
   "outputs": [],
   "source": [
    "class pwskills:\n",
    "    \n",
    "    def __new__(cls):\n",
    "        print(\"this is my new\")\n",
    "    \n",
    "    def __init__(self):\n",
    "        print(\"this is my init\")"
   ]
  },
  {
   "cell_type": "code",
   "execution_count": 69,
   "id": "17bc39ad-2aec-43d8-8c11-79adbb19fb4d",
   "metadata": {},
   "outputs": [
    {
     "name": "stdout",
     "output_type": "stream",
     "text": [
      "this is my new\n"
     ]
    }
   ],
   "source": [
    "pw = pwskills()"
   ]
  },
  {
   "cell_type": "code",
   "execution_count": 70,
   "id": "b2f1f4dd-f4d1-480b-8201-73db34a68d00",
   "metadata": {},
   "outputs": [],
   "source": [
    "class pwskills11:\n",
    "    def __init__(self):\n",
    "        self.mobile_number = 76398\n",
    "        \n",
    "    def __str__(self):\n",
    "        return \"this is magic method which will print something for object\""
   ]
  },
  {
   "cell_type": "code",
   "execution_count": 71,
   "id": "c9815b34-0cfc-4040-86e2-9ff3a8df0eae",
   "metadata": {},
   "outputs": [],
   "source": [
    "pw11 = pwskills11"
   ]
  },
  {
   "cell_type": "code",
   "execution_count": 72,
   "id": "dcbce514-55e6-403a-9e45-925a77b13254",
   "metadata": {},
   "outputs": [
    {
     "data": {
      "text/plain": [
       "<__main__.pwskills11 at 0x7f54504c41c0>"
      ]
     },
     "execution_count": 72,
     "metadata": {},
     "output_type": "execute_result"
    }
   ],
   "source": [
    "pw11()"
   ]
  },
  {
   "cell_type": "code",
   "execution_count": 73,
   "id": "14c13ac2-2f2e-4a51-870f-26e559632e19",
   "metadata": {},
   "outputs": [
    {
     "name": "stdout",
     "output_type": "stream",
     "text": [
      "this is magic method which will print something for object\n"
     ]
    }
   ],
   "source": [
    "print(pw11())"
   ]
  },
  {
   "cell_type": "code",
   "execution_count": 74,
   "id": "74189582-82f2-4773-b252-41736c3a7fe3",
   "metadata": {},
   "outputs": [
    {
     "data": {
      "text/plain": [
       "['__class__',\n",
       " '__class_getitem__',\n",
       " '__contains__',\n",
       " '__delattr__',\n",
       " '__delitem__',\n",
       " '__dir__',\n",
       " '__doc__',\n",
       " '__eq__',\n",
       " '__format__',\n",
       " '__ge__',\n",
       " '__getattribute__',\n",
       " '__getitem__',\n",
       " '__gt__',\n",
       " '__hash__',\n",
       " '__init__',\n",
       " '__init_subclass__',\n",
       " '__ior__',\n",
       " '__iter__',\n",
       " '__le__',\n",
       " '__len__',\n",
       " '__lt__',\n",
       " '__ne__',\n",
       " '__new__',\n",
       " '__or__',\n",
       " '__reduce__',\n",
       " '__reduce_ex__',\n",
       " '__repr__',\n",
       " '__reversed__',\n",
       " '__ror__',\n",
       " '__setattr__',\n",
       " '__setitem__',\n",
       " '__sizeof__',\n",
       " '__str__',\n",
       " '__subclasshook__',\n",
       " 'clear',\n",
       " 'copy',\n",
       " 'fromkeys',\n",
       " 'get',\n",
       " 'items',\n",
       " 'keys',\n",
       " 'pop',\n",
       " 'popitem',\n",
       " 'setdefault',\n",
       " 'update',\n",
       " 'values']"
      ]
     },
     "execution_count": 74,
     "metadata": {},
     "output_type": "execute_result"
    }
   ],
   "source": [
    "dir(dict)"
   ]
  },
  {
   "cell_type": "markdown",
   "id": "dad4a0c0-6079-45bf-8c28-e61c678843e9",
   "metadata": {},
   "source": [
    "### Property Decorators - Getters, Setters and Deletes"
   ]
  },
  {
   "cell_type": "code",
   "execution_count": 75,
   "id": "718a6e85-98ce-40b0-93b7-d7ee0f4c1ce4",
   "metadata": {},
   "outputs": [],
   "source": [
    "class pwskills12:\n",
    "    \n",
    "    def __init__(self,course_price,course_name):\n",
    "        self.__course_price = course_price  # private variable\n",
    "        self.course_name = course_name\n",
    "        \n",
    "    @property\n",
    "    def course_price_access(self):\n",
    "        return self.__course_price\n",
    "    \n",
    "    @course_price_access.setter\n",
    "    def course_price_set(self,price):\n",
    "        if price <= 3500:\n",
    "            pass\n",
    "        else:\n",
    "            self.__course_price = price\n",
    "            \n",
    "    @course_price_access.deleter\n",
    "    def course_price_del(self):\n",
    "        del self.__course_price"
   ]
  },
  {
   "cell_type": "code",
   "execution_count": 76,
   "id": "97624367-6409-4b91-bfbb-741e8a6f601d",
   "metadata": {},
   "outputs": [],
   "source": [
    "pw12 = pwskills12(3500,\"data science masters\")"
   ]
  },
  {
   "cell_type": "code",
   "execution_count": 77,
   "id": "48dd8eb0-b376-4b25-b37e-5881f12d1661",
   "metadata": {},
   "outputs": [
    {
     "data": {
      "text/plain": [
       "3500"
      ]
     },
     "execution_count": 77,
     "metadata": {},
     "output_type": "execute_result"
    }
   ],
   "source": [
    "pw12.course_price_access"
   ]
  },
  {
   "cell_type": "code",
   "execution_count": 78,
   "id": "22021383-6c5c-4b5e-8b8d-805e5990d18a",
   "metadata": {},
   "outputs": [],
   "source": [
    "pw12.course_price_set = 2300"
   ]
  },
  {
   "cell_type": "code",
   "execution_count": 79,
   "id": "dc0967da-b463-4e98-8fc2-0a6bb4ba265f",
   "metadata": {},
   "outputs": [
    {
     "data": {
      "text/plain": [
       "3500"
      ]
     },
     "execution_count": 79,
     "metadata": {},
     "output_type": "execute_result"
    }
   ],
   "source": [
    "pw12.course_price_access"
   ]
  },
  {
   "cell_type": "code",
   "execution_count": 80,
   "id": "08f3cab2-a5d7-4b4d-9932-0930dceee0ef",
   "metadata": {},
   "outputs": [],
   "source": [
    "pw12.course_price_set = 4300"
   ]
  },
  {
   "cell_type": "code",
   "execution_count": 81,
   "id": "03c97e39-cabc-40c5-82a0-ce51fb147408",
   "metadata": {},
   "outputs": [
    {
     "data": {
      "text/plain": [
       "4300"
      ]
     },
     "execution_count": 81,
     "metadata": {},
     "output_type": "execute_result"
    }
   ],
   "source": [
    "pw12.course_price_access"
   ]
  },
  {
   "cell_type": "code",
   "execution_count": 82,
   "id": "21da07fa-b21b-4873-9d26-b02d4d065270",
   "metadata": {},
   "outputs": [],
   "source": [
    "del pw12.course_price_del"
   ]
  },
  {
   "cell_type": "code",
   "execution_count": 83,
   "id": "17ee14dd-d726-4b61-b802-3a97b53f1460",
   "metadata": {},
   "outputs": [
    {
     "ename": "AttributeError",
     "evalue": "'pwskills12' object has no attribute '_pwskills12__course_price'",
     "output_type": "error",
     "traceback": [
      "\u001b[0;31m---------------------------------------------------------------------------\u001b[0m",
      "\u001b[0;31mAttributeError\u001b[0m                            Traceback (most recent call last)",
      "Cell \u001b[0;32mIn[83], line 1\u001b[0m\n\u001b[0;32m----> 1\u001b[0m \u001b[43mpw12\u001b[49m\u001b[38;5;241;43m.\u001b[39;49m\u001b[43mcourse_price_access\u001b[49m\n",
      "Cell \u001b[0;32mIn[75], line 9\u001b[0m, in \u001b[0;36mpwskills12.course_price_access\u001b[0;34m(self)\u001b[0m\n\u001b[1;32m      7\u001b[0m \u001b[38;5;129m@property\u001b[39m\n\u001b[1;32m      8\u001b[0m \u001b[38;5;28;01mdef\u001b[39;00m \u001b[38;5;21mcourse_price_access\u001b[39m(\u001b[38;5;28mself\u001b[39m):\n\u001b[0;32m----> 9\u001b[0m     \u001b[38;5;28;01mreturn\u001b[39;00m \u001b[38;5;28;43mself\u001b[39;49m\u001b[38;5;241;43m.\u001b[39;49m\u001b[43m__course_price\u001b[49m\n",
      "\u001b[0;31mAttributeError\u001b[0m: 'pwskills12' object has no attribute '_pwskills12__course_price'"
     ]
    }
   ],
   "source": [
    "pw12.course_price_access"
   ]
  },
  {
   "cell_type": "code",
   "execution_count": 84,
   "id": "39a95541-7eb7-45e8-b11d-ecdfec99ea59",
   "metadata": {},
   "outputs": [
    {
     "data": {
      "text/plain": [
       "'data science masters'"
      ]
     },
     "execution_count": 84,
     "metadata": {},
     "output_type": "execute_result"
    }
   ],
   "source": [
    "pw12.course_name"
   ]
  },
  {
   "cell_type": "code",
   "execution_count": null,
   "id": "64de81f5-51f1-47c0-b83a-1adca5b4188a",
   "metadata": {},
   "outputs": [],
   "source": []
  }
 ],
 "metadata": {
  "kernelspec": {
   "display_name": "Python 3 (ipykernel)",
   "language": "python",
   "name": "python3"
  },
  "language_info": {
   "codemirror_mode": {
    "name": "ipython",
    "version": 3
   },
   "file_extension": ".py",
   "mimetype": "text/x-python",
   "name": "python",
   "nbconvert_exporter": "python",
   "pygments_lexer": "ipython3",
   "version": "3.10.8"
  }
 },
 "nbformat": 4,
 "nbformat_minor": 5
}
