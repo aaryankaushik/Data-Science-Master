{
 "cells": [
  {
   "cell_type": "markdown",
   "id": "bd2567d8-84ef-407a-9110-409112f049f4",
   "metadata": {},
   "source": [
    "# FUNCTIONS Part 1"
   ]
  },
  {
   "cell_type": "code",
   "execution_count": 1,
   "id": "0a2d6fb3-3a2c-4a6f-9bd6-1c57469db54b",
   "metadata": {},
   "outputs": [],
   "source": [
    "def test():\n",
    "    pass"
   ]
  },
  {
   "cell_type": "code",
   "execution_count": 2,
   "id": "bc221173-8146-4a93-8d37-88a04f813dc7",
   "metadata": {},
   "outputs": [],
   "source": [
    "def test1():\n",
    "    print(\"This is my first function\")"
   ]
  },
  {
   "cell_type": "code",
   "execution_count": 3,
   "id": "3e98646c-b251-4ef6-8cde-9f774e45f084",
   "metadata": {},
   "outputs": [
    {
     "name": "stdout",
     "output_type": "stream",
     "text": [
      "This is my first function\n"
     ]
    }
   ],
   "source": [
    "test1()"
   ]
  },
  {
   "cell_type": "code",
   "execution_count": 4,
   "id": "be9bf545-2798-4ba4-86ae-a39ddc787f58",
   "metadata": {},
   "outputs": [
    {
     "name": "stdout",
     "output_type": "stream",
     "text": [
      "This is my first function\n"
     ]
    },
    {
     "ename": "TypeError",
     "evalue": "unsupported operand type(s) for +: 'NoneType' and 'str'",
     "output_type": "error",
     "traceback": [
      "\u001b[0;31m---------------------------------------------------------------------------\u001b[0m",
      "\u001b[0;31mTypeError\u001b[0m                                 Traceback (most recent call last)",
      "Cell \u001b[0;32mIn[4], line 1\u001b[0m\n\u001b[0;32m----> 1\u001b[0m \u001b[43mtest1\u001b[49m\u001b[43m(\u001b[49m\u001b[43m)\u001b[49m\u001b[38;5;241;43m+\u001b[39;49m\u001b[38;5;124;43m\"\u001b[39;49m\u001b[38;5;124;43maaryan\u001b[39;49m\u001b[38;5;124;43m\"\u001b[39;49m\n",
      "\u001b[0;31mTypeError\u001b[0m: unsupported operand type(s) for +: 'NoneType' and 'str'"
     ]
    }
   ],
   "source": [
    "test1()+\"aaryan\""
   ]
  },
  {
   "cell_type": "code",
   "execution_count": 5,
   "id": "c8d00eb9-2cac-4404-a694-35ec72195af4",
   "metadata": {},
   "outputs": [],
   "source": [
    "def test2():\n",
    "    return \"this is function with return \""
   ]
  },
  {
   "cell_type": "code",
   "execution_count": 6,
   "id": "bf04a2c3-1078-4a55-a04e-3b713672d054",
   "metadata": {},
   "outputs": [
    {
     "data": {
      "text/plain": [
       "'this is function with return '"
      ]
     },
     "execution_count": 6,
     "metadata": {},
     "output_type": "execute_result"
    }
   ],
   "source": [
    "test2()"
   ]
  },
  {
   "cell_type": "code",
   "execution_count": 7,
   "id": "6823e8e0-7072-4026-a234-2b1620fce9ad",
   "metadata": {},
   "outputs": [
    {
     "data": {
      "text/plain": [
       "'this is function with return aaryan'"
      ]
     },
     "execution_count": 7,
     "metadata": {},
     "output_type": "execute_result"
    }
   ],
   "source": [
    "test2() + \"aaryan\""
   ]
  },
  {
   "cell_type": "markdown",
   "id": "bb5204e9-0e74-4c54-abc9-42c27e98f047",
   "metadata": {},
   "source": [
    "#### always use return, not print in functions"
   ]
  },
  {
   "cell_type": "code",
   "execution_count": 8,
   "id": "4bf34a06-e7e1-42b4-9c33-cba9fff704c4",
   "metadata": {},
   "outputs": [],
   "source": [
    "def test3():\n",
    "    return 1,2,\"hello\",34.78"
   ]
  },
  {
   "cell_type": "code",
   "execution_count": 9,
   "id": "87fee065-7a85-45e0-8b70-8029f9ae92d1",
   "metadata": {},
   "outputs": [
    {
     "data": {
      "text/plain": [
       "(1, 2, 'hello', 34.78)"
      ]
     },
     "execution_count": 9,
     "metadata": {},
     "output_type": "execute_result"
    }
   ],
   "source": [
    "test3() #possible to get multiple returns."
   ]
  },
  {
   "cell_type": "code",
   "execution_count": 10,
   "id": "96907836-7be3-49ad-a654-540cc1d04e9d",
   "metadata": {},
   "outputs": [],
   "source": [
    "a = 1,2,3,4,5"
   ]
  },
  {
   "cell_type": "code",
   "execution_count": 11,
   "id": "4d427cdc-49b0-4dab-9c0f-54595af6d0c4",
   "metadata": {},
   "outputs": [
    {
     "data": {
      "text/plain": [
       "(1, 2, 3, 4, 5)"
      ]
     },
     "execution_count": 11,
     "metadata": {},
     "output_type": "execute_result"
    }
   ],
   "source": [
    "a"
   ]
  },
  {
   "cell_type": "code",
   "execution_count": 12,
   "id": "2d4839e4-b405-401c-b1ee-6be2e0530865",
   "metadata": {},
   "outputs": [],
   "source": [
    "a,b,c,d=1,2,34.78,True"
   ]
  },
  {
   "cell_type": "code",
   "execution_count": 13,
   "id": "f61551ea-638a-45a1-91fc-dbd2a07d7710",
   "metadata": {},
   "outputs": [
    {
     "data": {
      "text/plain": [
       "1"
      ]
     },
     "execution_count": 13,
     "metadata": {},
     "output_type": "execute_result"
    }
   ],
   "source": [
    "a"
   ]
  },
  {
   "cell_type": "code",
   "execution_count": 14,
   "id": "dbd69dce-b5be-4892-9790-465210a58532",
   "metadata": {},
   "outputs": [
    {
     "data": {
      "text/plain": [
       "2"
      ]
     },
     "execution_count": 14,
     "metadata": {},
     "output_type": "execute_result"
    }
   ],
   "source": [
    "b"
   ]
  },
  {
   "cell_type": "code",
   "execution_count": 15,
   "id": "dc44c2cf-54f7-4747-83c4-540eb6a9c2dc",
   "metadata": {},
   "outputs": [
    {
     "data": {
      "text/plain": [
       "34.78"
      ]
     },
     "execution_count": 15,
     "metadata": {},
     "output_type": "execute_result"
    }
   ],
   "source": [
    "c"
   ]
  },
  {
   "cell_type": "code",
   "execution_count": 16,
   "id": "785eee19-8771-4a27-8d3f-58f3625b792e",
   "metadata": {},
   "outputs": [
    {
     "data": {
      "text/plain": [
       "True"
      ]
     },
     "execution_count": 16,
     "metadata": {},
     "output_type": "execute_result"
    }
   ],
   "source": [
    "d"
   ]
  },
  {
   "cell_type": "code",
   "execution_count": 17,
   "id": "df55fe57-f0e4-4f04-b145-2ca434ff7732",
   "metadata": {},
   "outputs": [
    {
     "data": {
      "text/plain": [
       "(1, 2, 'hello', 34.78)"
      ]
     },
     "execution_count": 17,
     "metadata": {},
     "output_type": "execute_result"
    }
   ],
   "source": [
    "test3() #always return in form of tuples"
   ]
  },
  {
   "cell_type": "code",
   "execution_count": 18,
   "id": "26a9a7da-ed84-4392-914e-b3f35b95ed02",
   "metadata": {},
   "outputs": [
    {
     "data": {
      "text/plain": [
       "1"
      ]
     },
     "execution_count": 18,
     "metadata": {},
     "output_type": "execute_result"
    }
   ],
   "source": [
    "test3()[0]"
   ]
  },
  {
   "cell_type": "code",
   "execution_count": 19,
   "id": "11e07380-d2ed-411c-9029-c79e80de3c24",
   "metadata": {},
   "outputs": [
    {
     "data": {
      "text/plain": [
       "'hello'"
      ]
     },
     "execution_count": 19,
     "metadata": {},
     "output_type": "execute_result"
    }
   ],
   "source": [
    "test3()[2]"
   ]
  },
  {
   "cell_type": "code",
   "execution_count": 20,
   "id": "bd07ce77-54bf-4d35-b7a2-03ac4b636f64",
   "metadata": {},
   "outputs": [],
   "source": [
    "a,b,c,d=test3() #assigning"
   ]
  },
  {
   "cell_type": "code",
   "execution_count": 21,
   "id": "7d802ddd-5801-4a78-aa33-cf2b7c916d9a",
   "metadata": {},
   "outputs": [
    {
     "data": {
      "text/plain": [
       "'hello'"
      ]
     },
     "execution_count": 21,
     "metadata": {},
     "output_type": "execute_result"
    }
   ],
   "source": [
    "test3()[2]"
   ]
  },
  {
   "cell_type": "code",
   "execution_count": 22,
   "id": "e0f8654b-29a8-4bf4-9cd5-2eef0d6a889d",
   "metadata": {},
   "outputs": [],
   "source": [
    "def test4():\n",
    "    a=3*4+5\n",
    "    return a"
   ]
  },
  {
   "cell_type": "code",
   "execution_count": 23,
   "id": "ff147b0e-32b3-425d-871c-5ae140ec2221",
   "metadata": {},
   "outputs": [
    {
     "data": {
      "text/plain": [
       "17"
      ]
     },
     "execution_count": 23,
     "metadata": {},
     "output_type": "execute_result"
    }
   ],
   "source": [
    "test4()"
   ]
  },
  {
   "cell_type": "code",
   "execution_count": 24,
   "id": "837b6a81-0a3c-41a7-9474-f8835956ba48",
   "metadata": {},
   "outputs": [
    {
     "data": {
      "text/plain": [
       "int"
      ]
     },
     "execution_count": 24,
     "metadata": {},
     "output_type": "execute_result"
    }
   ],
   "source": [
    "type(test4())"
   ]
  },
  {
   "cell_type": "code",
   "execution_count": 25,
   "id": "328db50e-29d8-432d-a56c-5ef34b76e82e",
   "metadata": {},
   "outputs": [],
   "source": [
    "def test5(a,b):\n",
    "    c = a+b\n",
    "    return c"
   ]
  },
  {
   "cell_type": "code",
   "execution_count": 26,
   "id": "fbb894f3-dd56-4d33-aad0-ef33c72cffef",
   "metadata": {},
   "outputs": [
    {
     "ename": "TypeError",
     "evalue": "test5() missing 2 required positional arguments: 'a' and 'b'",
     "output_type": "error",
     "traceback": [
      "\u001b[0;31m---------------------------------------------------------------------------\u001b[0m",
      "\u001b[0;31mTypeError\u001b[0m                                 Traceback (most recent call last)",
      "Cell \u001b[0;32mIn[26], line 1\u001b[0m\n\u001b[0;32m----> 1\u001b[0m \u001b[43mtest5\u001b[49m\u001b[43m(\u001b[49m\u001b[43m)\u001b[49m\n",
      "\u001b[0;31mTypeError\u001b[0m: test5() missing 2 required positional arguments: 'a' and 'b'"
     ]
    }
   ],
   "source": [
    "test5()"
   ]
  },
  {
   "cell_type": "code",
   "execution_count": 27,
   "id": "362ee712-0eea-430d-97f7-4fd3b78bf4e9",
   "metadata": {},
   "outputs": [
    {
     "data": {
      "text/plain": [
       "4"
      ]
     },
     "execution_count": 27,
     "metadata": {},
     "output_type": "execute_result"
    }
   ],
   "source": [
    "test5(1,3)"
   ]
  },
  {
   "cell_type": "code",
   "execution_count": 28,
   "id": "306ddf49-536e-40ed-9577-fea90e0a2dfa",
   "metadata": {},
   "outputs": [
    {
     "data": {
      "text/plain": [
       "'aaryankaushik'"
      ]
     },
     "execution_count": 28,
     "metadata": {},
     "output_type": "execute_result"
    }
   ],
   "source": [
    "test5(\"aaryan\",\"kaushik\")"
   ]
  },
  {
   "cell_type": "code",
   "execution_count": 29,
   "id": "35f1fade-be56-4059-bd40-82baa30dfdbe",
   "metadata": {},
   "outputs": [
    {
     "data": {
      "text/plain": [
       "[1, 2, 3, 4, 4, 5, 6, 7, 8]"
      ]
     },
     "execution_count": 29,
     "metadata": {},
     "output_type": "execute_result"
    }
   ],
   "source": [
    "test5([1,2,3,4],[4,5,6,7,8])"
   ]
  },
  {
   "cell_type": "code",
   "execution_count": 30,
   "id": "4276db73-6951-4b7e-ba0b-63c776711767",
   "metadata": {},
   "outputs": [
    {
     "data": {
      "text/plain": [
       "'kaushikaaryan'"
      ]
     },
     "execution_count": 30,
     "metadata": {},
     "output_type": "execute_result"
    }
   ],
   "source": [
    "test5(b=\"aaryan\",a=\"kaushik\")"
   ]
  },
  {
   "cell_type": "code",
   "execution_count": 31,
   "id": "65c834c4-4555-440a-aa18-5eddc8f680ce",
   "metadata": {},
   "outputs": [],
   "source": [
    "l=[1,2,3,4,5,\"aaryan\",\"kaushik\",[1,2,3,45,67]]"
   ]
  },
  {
   "cell_type": "markdown",
   "id": "88ffd597-8e2e-4def-8737-19f500aa3a9c",
   "metadata": {},
   "source": [
    "### funtion which will take list as a inpput and give me a final list with all numeric value"
   ]
  },
  {
   "cell_type": "code",
   "execution_count": 32,
   "id": "a2b6475c-4372-45a9-808d-aa2df39e1922",
   "metadata": {},
   "outputs": [],
   "source": [
    "def test6(a):\n",
    "    n = []\n",
    "    for i in a:\n",
    "        if type(i) == int or type(i) == float:\n",
    "            n.append(i)\n",
    "    return n"
   ]
  },
  {
   "cell_type": "code",
   "execution_count": 33,
   "id": "fe32bb80-4d26-4b12-b03e-fcbc8f96e8c6",
   "metadata": {},
   "outputs": [
    {
     "data": {
      "text/plain": [
       "[1, 2, 3, 4, 5]"
      ]
     },
     "execution_count": 33,
     "metadata": {},
     "output_type": "execute_result"
    }
   ],
   "source": [
    "test6(l)"
   ]
  },
  {
   "cell_type": "code",
   "execution_count": 34,
   "id": "c36f968c-ea01-4316-93ac-221d16ea7e68",
   "metadata": {},
   "outputs": [
    {
     "data": {
      "text/plain": [
       "[1, 2, 3, 4, 5, 'aaryan', 'kaushik', [1, 2, 3, 45, 67]]"
      ]
     },
     "execution_count": 34,
     "metadata": {},
     "output_type": "execute_result"
    }
   ],
   "source": [
    "l"
   ]
  },
  {
   "cell_type": "code",
   "execution_count": 35,
   "id": "cc097324-2b91-4f08-9916-c5732c901b5c",
   "metadata": {},
   "outputs": [],
   "source": [
    "def test7(a):\n",
    "    n = []\n",
    "    for i in a:\n",
    "        if type(i) == list:\n",
    "            for j in i:\n",
    "                if type(j) == int or type(j) == float:\n",
    "                    n.append(j)\n",
    "        else:\n",
    "            if type(i) == int or type(i) == float:\n",
    "                n.append(i)\n",
    "    return n"
   ]
  },
  {
   "cell_type": "code",
   "execution_count": 36,
   "id": "3f654f44-5c85-4e87-8f22-0c0106fad18d",
   "metadata": {},
   "outputs": [
    {
     "data": {
      "text/plain": [
       "[1, 2, 3, 4, 5, 1, 2, 3, 45, 67]"
      ]
     },
     "execution_count": 36,
     "metadata": {},
     "output_type": "execute_result"
    }
   ],
   "source": [
    "test7(l)"
   ]
  },
  {
   "cell_type": "markdown",
   "id": "fceb639f-9ee3-44da-84bb-a75d04c092df",
   "metadata": {},
   "source": [
    "# FUNCTIONS Part 2"
   ]
  },
  {
   "cell_type": "code",
   "execution_count": 37,
   "id": "4449dcb3-bafe-405d-bd9b-93ff3f61cea1",
   "metadata": {},
   "outputs": [],
   "source": [
    "def test(a,b,c,d,e):\n",
    "    pass"
   ]
  },
  {
   "cell_type": "code",
   "execution_count": 38,
   "id": "9d1c9d5e-b4e9-48bc-bb7b-847b4eadc8a8",
   "metadata": {},
   "outputs": [],
   "source": [
    "test(1,2,3,4,5)"
   ]
  },
  {
   "cell_type": "code",
   "execution_count": 39,
   "id": "cb2fd8ba-7e59-4fba-869d-4b5f667dafc9",
   "metadata": {},
   "outputs": [
    {
     "ename": "TypeError",
     "evalue": "test() takes 5 positional arguments but 7 were given",
     "output_type": "error",
     "traceback": [
      "\u001b[0;31m---------------------------------------------------------------------------\u001b[0m",
      "\u001b[0;31mTypeError\u001b[0m                                 Traceback (most recent call last)",
      "Cell \u001b[0;32mIn[39], line 1\u001b[0m\n\u001b[0;32m----> 1\u001b[0m \u001b[43mtest\u001b[49m\u001b[43m(\u001b[49m\u001b[38;5;241;43m1\u001b[39;49m\u001b[43m,\u001b[49m\u001b[38;5;241;43m2\u001b[39;49m\u001b[43m,\u001b[49m\u001b[38;5;241;43m3\u001b[39;49m\u001b[43m,\u001b[49m\u001b[38;5;241;43m4\u001b[39;49m\u001b[43m,\u001b[49m\u001b[38;5;241;43m5\u001b[39;49m\u001b[43m,\u001b[49m\u001b[38;5;241;43m6\u001b[39;49m\u001b[43m,\u001b[49m\u001b[38;5;241;43m7\u001b[39;49m\u001b[43m)\u001b[49m\n",
      "\u001b[0;31mTypeError\u001b[0m: test() takes 5 positional arguments but 7 were given"
     ]
    }
   ],
   "source": [
    "test(1,2,3,4,5,6,7)"
   ]
  },
  {
   "cell_type": "markdown",
   "id": "d40da5dd-64bf-4b2e-99ca-3e02e8417e46",
   "metadata": {},
   "source": [
    "#### HOW TO MAKE FUNCTION WHICH TAKE ANY NO. OF ARGUMENTS"
   ]
  },
  {
   "cell_type": "code",
   "execution_count": 40,
   "id": "4c5c37b1-747e-42e3-b638-bca3f6c767ef",
   "metadata": {},
   "outputs": [],
   "source": [
    "def test1(*args):\n",
    "    return args"
   ]
  },
  {
   "cell_type": "code",
   "execution_count": 41,
   "id": "29e86dbc-1d39-447b-8481-1e9cb0fe3e91",
   "metadata": {},
   "outputs": [
    {
     "data": {
      "text/plain": [
       "(2,)"
      ]
     },
     "execution_count": 41,
     "metadata": {},
     "output_type": "execute_result"
    }
   ],
   "source": [
    "test1(2)"
   ]
  },
  {
   "cell_type": "code",
   "execution_count": 42,
   "id": "19278bd8-5b0a-4ba3-8716-49633fdce15d",
   "metadata": {},
   "outputs": [
    {
     "data": {
      "text/plain": [
       "(1, 2, 3, 4, 5)"
      ]
     },
     "execution_count": 42,
     "metadata": {},
     "output_type": "execute_result"
    }
   ],
   "source": [
    "test1(1,2,3,4,5)"
   ]
  },
  {
   "cell_type": "code",
   "execution_count": 43,
   "id": "58f78881-b5b0-4989-86bc-febfde61901b",
   "metadata": {},
   "outputs": [
    {
     "data": {
      "text/plain": [
       "('aaryan', [1, 2, 3, 4, 5], (1, 2, 3, 4, 5))"
      ]
     },
     "execution_count": 43,
     "metadata": {},
     "output_type": "execute_result"
    }
   ],
   "source": [
    "test1(\"aaryan\",[1,2,3,4,5],(1,2,3,4,5))"
   ]
  },
  {
   "cell_type": "code",
   "execution_count": 44,
   "id": "59f9034b-caf5-4e5d-923f-8b10c428ccd2",
   "metadata": {},
   "outputs": [],
   "source": [
    "def test2(*aar):\n",
    "    return aar"
   ]
  },
  {
   "cell_type": "code",
   "execution_count": 45,
   "id": "bf7f69b0-5384-4792-a2b8-23306e63b832",
   "metadata": {},
   "outputs": [
    {
     "data": {
      "text/plain": [
       "(3, 4, 5, 6)"
      ]
     },
     "execution_count": 45,
     "metadata": {},
     "output_type": "execute_result"
    }
   ],
   "source": [
    "test2(3,4,5,6)"
   ]
  },
  {
   "cell_type": "code",
   "execution_count": 46,
   "id": "061ea438-629c-4c1a-9562-27e22217bbb3",
   "metadata": {},
   "outputs": [],
   "source": [
    "def test3(*args,a):\n",
    "    return args,a"
   ]
  },
  {
   "cell_type": "code",
   "execution_count": 47,
   "id": "b561a8ac-b2f4-41d1-b4d2-d6407c617de7",
   "metadata": {},
   "outputs": [
    {
     "ename": "TypeError",
     "evalue": "test3() missing 1 required keyword-only argument: 'a'",
     "output_type": "error",
     "traceback": [
      "\u001b[0;31m---------------------------------------------------------------------------\u001b[0m",
      "\u001b[0;31mTypeError\u001b[0m                                 Traceback (most recent call last)",
      "Cell \u001b[0;32mIn[47], line 1\u001b[0m\n\u001b[0;32m----> 1\u001b[0m \u001b[43mtest3\u001b[49m\u001b[43m(\u001b[49m\u001b[38;5;241;43m3\u001b[39;49m\u001b[43m)\u001b[49m\n",
      "\u001b[0;31mTypeError\u001b[0m: test3() missing 1 required keyword-only argument: 'a'"
     ]
    }
   ],
   "source": [
    "test3(3)"
   ]
  },
  {
   "cell_type": "code",
   "execution_count": 48,
   "id": "9a63fe88-4064-4346-a972-9d680836392b",
   "metadata": {},
   "outputs": [
    {
     "data": {
      "text/plain": [
       "((1, 2, 3, 4), 'aar')"
      ]
     },
     "execution_count": 48,
     "metadata": {},
     "output_type": "execute_result"
    }
   ],
   "source": [
    "test3(1,2,3,4,a=\"aar\")"
   ]
  },
  {
   "cell_type": "code",
   "execution_count": 49,
   "id": "b1b3a012-c4a6-43ea-b91f-f285ba5b3e1b",
   "metadata": {},
   "outputs": [],
   "source": [
    "def test4(*args):\n",
    "    l = []\n",
    "    for i in args:\n",
    "        if type(i) == list:\n",
    "            l.append(i)\n",
    "    return l"
   ]
  },
  {
   "cell_type": "code",
   "execution_count": 52,
   "id": "d791417c-09dd-4a76-ad83-9bff81185cb3",
   "metadata": {},
   "outputs": [
    {
     "data": {
      "text/plain": [
       "[[1, 2, 3, 4, 4], [4, 5, 6], [6, 7, 8]]"
      ]
     },
     "execution_count": 52,
     "metadata": {},
     "output_type": "execute_result"
    }
   ],
   "source": [
    "test4(1,2,3,[1,2,3,4,4],(1,2,3,4,5),\"aaryan\",[4,5,6],[6,7,8])"
   ]
  },
  {
   "cell_type": "code",
   "execution_count": 53,
   "id": "3cb2ca1a-00a4-43de-82bc-3d65d0d5cccf",
   "metadata": {},
   "outputs": [],
   "source": [
    "def test5(**kwargs):\n",
    "    return kwargs"
   ]
  },
  {
   "cell_type": "code",
   "execution_count": 54,
   "id": "87e9aa9a-4c75-4341-93a7-505725b1e996",
   "metadata": {},
   "outputs": [
    {
     "data": {
      "text/plain": [
       "{}"
      ]
     },
     "execution_count": 54,
     "metadata": {},
     "output_type": "execute_result"
    }
   ],
   "source": [
    "test5()"
   ]
  },
  {
   "cell_type": "code",
   "execution_count": 55,
   "id": "c9d342af-6016-45e7-9405-6f6a4bc8a4a4",
   "metadata": {},
   "outputs": [
    {
     "data": {
      "text/plain": [
       "dict"
      ]
     },
     "execution_count": 55,
     "metadata": {},
     "output_type": "execute_result"
    }
   ],
   "source": [
    "type(test5())"
   ]
  },
  {
   "cell_type": "code",
   "execution_count": 56,
   "id": "43b57682-d0a3-46d0-8d72-ee5032f929df",
   "metadata": {},
   "outputs": [
    {
     "data": {
      "text/plain": [
       "{'a': 34, 'b': 23, 'c': [1, 2, 3, 4], 'd': ('aaryan', 'kaushik')}"
      ]
     },
     "execution_count": 56,
     "metadata": {},
     "output_type": "execute_result"
    }
   ],
   "source": [
    "test5(a=34,b=23,c=[1,2,3,4],d=(\"aaryan\",\"kaushik\"))"
   ]
  },
  {
   "cell_type": "code",
   "execution_count": 57,
   "id": "879547cf-91fa-482c-8c49-1d4147d4705d",
   "metadata": {},
   "outputs": [],
   "source": [
    "def test6(**kwargs):\n",
    "    for i in kwargs.keys():\n",
    "        if type(kwargs[i]) == list:\n",
    "            return i,kwargs[i]"
   ]
  },
  {
   "cell_type": "code",
   "execution_count": 58,
   "id": "cadb2025-6f06-4743-bbee-6cf64660125c",
   "metadata": {},
   "outputs": [
    {
     "data": {
      "text/plain": [
       "('c', [1, 2, 3, 4])"
      ]
     },
     "execution_count": 58,
     "metadata": {},
     "output_type": "execute_result"
    }
   ],
   "source": [
    "test6(a=34,b=23,c=[1,2,3,4],d=(\"aaryan\",\"kaushik\"))"
   ]
  },
  {
   "cell_type": "code",
   "execution_count": 59,
   "id": "123e52ec-7f65-4f36-9f05-2185ea969d39",
   "metadata": {},
   "outputs": [],
   "source": [
    "def test7(*args,**kwargs):\n",
    "    return args,kwargs"
   ]
  },
  {
   "cell_type": "code",
   "execution_count": 60,
   "id": "3750815f-9c31-4f73-a170-2bca7c8b2c61",
   "metadata": {},
   "outputs": [
    {
     "data": {
      "text/plain": [
       "((2, 3, 4, 5), {'a': 34, 'b': 98})"
      ]
     },
     "execution_count": 60,
     "metadata": {},
     "output_type": "execute_result"
    }
   ],
   "source": [
    "test7(2,3,4,5,a=34,b=98)"
   ]
  },
  {
   "cell_type": "markdown",
   "id": "b3bc0289-f097-4e41-980d-aa3a6ee84d97",
   "metadata": {},
   "source": [
    "# GENERATOR FUNCTIONS"
   ]
  },
  {
   "cell_type": "code",
   "execution_count": 61,
   "id": "98cbebb8-b04f-451d-b676-7d7edb46b768",
   "metadata": {},
   "outputs": [
    {
     "data": {
      "text/plain": [
       "range(1, 10)"
      ]
     },
     "execution_count": 61,
     "metadata": {},
     "output_type": "execute_result"
    }
   ],
   "source": [
    "range(1,10)"
   ]
  },
  {
   "cell_type": "code",
   "execution_count": 62,
   "id": "616674b0-ea76-45f3-ba8a-a665b23cfb8f",
   "metadata": {},
   "outputs": [
    {
     "name": "stdout",
     "output_type": "stream",
     "text": [
      "1\n",
      "2\n",
      "3\n",
      "4\n",
      "5\n",
      "6\n",
      "7\n",
      "8\n",
      "9\n"
     ]
    }
   ],
   "source": [
    "for i in range(1,10):\n",
    "    print(i)"
   ]
  },
  {
   "cell_type": "code",
   "execution_count": 66,
   "id": "f7360306-7797-489c-beda-0574cf6db2c8",
   "metadata": {},
   "outputs": [],
   "source": [
    "l = [1,2,3,4,4,5,6,7,8,7,\"aaryan\",\"kaushik\"]"
   ]
  },
  {
   "cell_type": "code",
   "execution_count": 67,
   "id": "8c731a6e-7940-473b-8b7e-7779deda97a8",
   "metadata": {},
   "outputs": [],
   "source": [
    "def test1(a):\n",
    "    n = []\n",
    "    for i in a:\n",
    "        if type(i) == int:\n",
    "            n.append(i)\n",
    "    return n"
   ]
  },
  {
   "cell_type": "code",
   "execution_count": 68,
   "id": "a746ffdf-0b57-4ac2-b6e3-014262e49bb5",
   "metadata": {},
   "outputs": [
    {
     "data": {
      "text/plain": [
       "[1, 2, 3, 4, 4, 5, 6, 7, 8, 7]"
      ]
     },
     "execution_count": 68,
     "metadata": {},
     "output_type": "execute_result"
    }
   ],
   "source": [
    "test1(l)"
   ]
  },
  {
   "cell_type": "code",
   "execution_count": null,
   "id": "bb65b887-272d-4419-979b-d358d58c7617",
   "metadata": {},
   "outputs": [],
   "source": [
    "#fibonacci:\n",
    "    # 0,1,1,2,3,4,8,13,21,34"
   ]
  },
  {
   "cell_type": "code",
   "execution_count": 70,
   "id": "59c12ea0-4279-4c59-8c28-d089e799f0ea",
   "metadata": {},
   "outputs": [],
   "source": [
    "def test_fib(n):\n",
    "    a,b=0,1\n",
    "    for i in range(n):\n",
    "        yield a\n",
    "        a,b=b,a+b"
   ]
  },
  {
   "cell_type": "code",
   "execution_count": 71,
   "id": "8afa69c3-1aa3-45e5-9c78-4c93f8f8c8d7",
   "metadata": {},
   "outputs": [
    {
     "data": {
      "text/plain": [
       "<generator object test_fib at 0x7f40b432c970>"
      ]
     },
     "execution_count": 71,
     "metadata": {},
     "output_type": "execute_result"
    }
   ],
   "source": [
    "test_fib(10)"
   ]
  },
  {
   "cell_type": "code",
   "execution_count": 73,
   "id": "88103c73-b750-42bf-871c-4a2770ca2e07",
   "metadata": {},
   "outputs": [
    {
     "name": "stdout",
     "output_type": "stream",
     "text": [
      "0\n",
      "1\n",
      "1\n",
      "2\n",
      "3\n",
      "5\n",
      "8\n",
      "13\n",
      "21\n",
      "34\n"
     ]
    }
   ],
   "source": [
    "for i in test_fib(10):\n",
    "    print(i)"
   ]
  },
  {
   "cell_type": "code",
   "execution_count": null,
   "id": "bfa61359-ec90-4b4f-b7bf-1238575e9b9c",
   "metadata": {},
   "outputs": [],
   "source": []
  }
 ],
 "metadata": {
  "kernelspec": {
   "display_name": "Python 3 (ipykernel)",
   "language": "python",
   "name": "python3"
  },
  "language_info": {
   "codemirror_mode": {
    "name": "ipython",
    "version": 3
   },
   "file_extension": ".py",
   "mimetype": "text/x-python",
   "name": "python",
   "nbconvert_exporter": "python",
   "pygments_lexer": "ipython3",
   "version": "3.10.8"
  }
 },
 "nbformat": 4,
 "nbformat_minor": 5
}
