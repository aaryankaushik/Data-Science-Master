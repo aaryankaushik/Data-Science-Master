{
 "cells": [
  {
   "cell_type": "markdown",
   "id": "d4f5f6ea-e0b0-4fa5-958e-b9ff9a311877",
   "metadata": {},
   "source": [
    "# 15 February 2023\n",
    "#### Author: AARYAN KAUSHIK"
   ]
  },
  {
   "cell_type": "markdown",
   "id": "7c12f9aa-405f-4cdf-a9b4-d652cdecbe3d",
   "metadata": {},
   "source": [
    "#### Q1. What is multiprocessing in python? Why is it useful?\n",
    "Multiprocessing in Python is a built-in package that allows the system to run multiple processes simultaneously. It will enable the breaking of applications into smaller threads that can run independently. The operating system can then allocate all these threads or processes to the processor to run them parallelly, thus improving the overall performance and efficiency.\n",
    " \n",
    "#### why it is used?\n",
    "Performing multiple operations for a single processor becomes challenging. As the number of processes keeps increasing, the processor will have to halt the current process and move to the next, to keep them going. Thus, it will have to interrupt each task, thereby hampering the performance.\n",
    "\n",
    "You can think of it as an employee in an organization tasked to perform jobs in multiple departments. If the employee has to manage the sales, accounts, and even the backend, he will have to stop sales when he is into accounts and vice versa.\n",
    "\n",
    "Suppose there are different employees, each to perform a specific task. It becomes simpler, right? That’s why multiprocessing in Python becomes essential. The smaller task threads act like different employees, making it easier to handle and manage various processes. \n"
   ]
  },
  {
   "cell_type": "markdown",
   "id": "71b0bfe4-0338-4b45-ab8b-9e712dd97289",
   "metadata": {},
   "source": [
    "#### Q2. What are the differences between multiprocessing and multithreading?"
   ]
  },
  {
   "cell_type": "markdown",
   "id": "9bdbaa03-555d-4149-a03b-485412e55656",
   "metadata": {},
   "source": [
    "|S.NO|\tMultiprocessing\t|Multithreading|\n",
    "|-|-|-|\n",
    "|1.|\tIn Multiprocessing, CPUs are added for increasing computing power.\t|While In Multithreading, many threads are created of a single process for increasing computing power.|\n",
    "|2.|\tIn Multiprocessing, Many processes are executed simultaneously.\t|While in multithreading, many threads of a process are executed simultaneously.|\n",
    "|3.|\tMultiprocessing are classified into Symmetric and Asymmetric.|\tWhile Multithreading is not classified in any categories.|\n",
    "|4.|\tIn Multiprocessing, Process creation is a time-consuming process.\t|While in Multithreading, process creation is according to economical.|\n",
    "|5.|\tIn Multiprocessing, every process owned a separate address space.|\tWhile in Multithreading, a common address space is shared by all the threads.|"
   ]
  },
  {
   "cell_type": "markdown",
   "id": "7c7c1ef1-167b-4d7d-afed-247d85ef7921",
   "metadata": {},
   "source": [
    "#### Q3. Write a python code to create a process using the multiprocessing module."
   ]
  },
  {
   "cell_type": "code",
   "execution_count": 1,
   "id": "0cb497bd-f619-49e7-a16b-302d796f599e",
   "metadata": {},
   "outputs": [
    {
     "name": "stdout",
     "output_type": "stream",
     "text": [
      "square of 123 is 15129\n",
      "cube of 123 is 1860867\n"
     ]
    }
   ],
   "source": [
    "import multiprocessing\n",
    "\n",
    "def num_square(n):\n",
    "    print(f\"square of {n} is {n**2}\")\n",
    "    \n",
    "def num_cube(n):\n",
    "    print(f\"cube of {n} is {n**3}\")\n",
    "    \n",
    "if __name__==\"__main__\":\n",
    "    m1 = multiprocessing.Process(target=num_square,args=(123,))\n",
    "    m2 = multiprocessing.Process(target=num_cube,args=(123,))\n",
    "    \n",
    "    m1.start()\n",
    "    m2.start()\n",
    "    \n",
    "    m1.join()\n",
    "    m2.join()"
   ]
  },
  {
   "cell_type": "markdown",
   "id": "0f9fdeab-7945-4381-8de7-fe2beef092b9",
   "metadata": {},
   "source": [
    "#### Q4. What is a multiprocessing pool in python? Why is it used?\n",
    "Pool creates multiple Python processes in the background and spreads out out computations across multiple CPU cores so that they all happen in parallel without us needing to do anything. The pool is a class in the multiprocessing module that distributes the tasks to the available processors in FIFO (First In First Out) manner."
   ]
  },
  {
   "cell_type": "code",
   "execution_count": 2,
   "id": "3efd22d4-b382-453b-9bfa-2242429d1e23",
   "metadata": {},
   "outputs": [
    {
     "name": "stdout",
     "output_type": "stream",
     "text": [
      "[1, 4, 9, 16, 25, 36, 49, 64, 81, 100]\n"
     ]
    }
   ],
   "source": [
    "# here is the code to demonstrate the multiprocessing pool in python..\n",
    "def square(n):\n",
    "    return n**2\n",
    "\n",
    "if __name__ ==\"__main__\":\n",
    "    with multiprocessing.Pool(processes=5) as pool:   # distribute the list among 5 different process....\n",
    "        out = pool.map(square,[1,2,3,4,5,6,7,8,9,10])\n",
    "        print(out) "
   ]
  },
  {
   "cell_type": "markdown",
   "id": "f5a0bb6b-88b9-4603-a435-c71baafa354f",
   "metadata": {},
   "source": [
    "#### Q5. How can we create a pool of worker processes in python using the multiprocessing module?"
   ]
  },
  {
   "cell_type": "code",
   "execution_count": 3,
   "id": "942c039a-a7b2-47a9-9b14-a8e18a9316c5",
   "metadata": {},
   "outputs": [
    {
     "name": "stdout",
     "output_type": "stream",
     "text": [
      "Processing task ; Processing task ; Processing task ; Processing task ;     0123\n",
      "\n",
      "\n",
      "\n",
      "Processing task ; Processing task ; Processing task ; Processing task ;     5467\n",
      "\n",
      "\n",
      "\n",
      "Processing task ; Processing task ;   89\n",
      "\n"
     ]
    }
   ],
   "source": [
    "# here is the code to demonstrate the pool of worker processes in python using multiprocessing module\n",
    "\n",
    "def worker_process(task_queue):   # to perform certain task through this function...\n",
    "    while True:\n",
    "        task = task_queue.get()\n",
    "        if task is None:\n",
    "            break\n",
    "        print(\"Processing task ; \",task)\n",
    "        \n",
    "if __name__==\"__main__\":\n",
    "    task_queue = multiprocessing.Queue()\n",
    "    \n",
    "    processes = []\n",
    "    for i in range(4):   # here we are creating 4 worker processes..\n",
    "        m1 = multiprocessing.Process(target=worker_process,args=(task_queue,))\n",
    "        m1.start()   # to start worker process\n",
    "        processes.append(m1)\n",
    "        \n",
    "    for i in range(10):   # here we are adding some task to queue\n",
    "        task_queue.put(i)\n",
    "        \n",
    "    for i in range(4):   # this is to tell worker process to exit \n",
    "        task_queue.put(None)\n",
    "            \n",
    "    for m in processes:  #to wait till the process is finished..\n",
    "        m.join()\n",
    "        "
   ]
  },
  {
   "cell_type": "markdown",
   "id": "31dbfa32-2dbe-4fc7-9fa0-6a304b0cdbc1",
   "metadata": {},
   "source": [
    "#### Q6. Write a python program to create 4 processes, each process should print a different number using the multiprocessing module in python."
   ]
  },
  {
   "cell_type": "code",
   "execution_count": 4,
   "id": "15db070c-2638-4801-a464-6d9dce2cb81c",
   "metadata": {},
   "outputs": [
    {
     "name": "stdout",
     "output_type": "stream",
     "text": [
      "0\n",
      "1\n",
      "2\n",
      "3\n"
     ]
    }
   ],
   "source": [
    "def print_number(n):   # this is the function to print the number..\n",
    "    print(n)\n",
    "    \n",
    "if __name__==\"__main__\":\n",
    "    \n",
    "    processes=[]\n",
    "    \n",
    "    for i in range(4):   # this will create four processes\n",
    "        process = multiprocessing.Process(target=print_number,args=(i,))\n",
    "        processes.append(process)\n",
    "        \n",
    "    for process in processes:   \n",
    "        process.start()   # to start the processes\n",
    "        \n",
    "    for process in processes:\n",
    "        process.join()   # to wait till the process is finished.."
   ]
  },
  {
   "cell_type": "code",
   "execution_count": null,
   "id": "31dca7a7-767f-49fc-bdbe-483b9d3578eb",
   "metadata": {},
   "outputs": [],
   "source": []
  }
 ],
 "metadata": {
  "kernelspec": {
   "display_name": "Python 3 (ipykernel)",
   "language": "python",
   "name": "python3"
  },
  "language_info": {
   "codemirror_mode": {
    "name": "ipython",
    "version": 3
   },
   "file_extension": ".py",
   "mimetype": "text/x-python",
   "name": "python",
   "nbconvert_exporter": "python",
   "pygments_lexer": "ipython3",
   "version": "3.10.8"
  }
 },
 "nbformat": 4,
 "nbformat_minor": 5
}
