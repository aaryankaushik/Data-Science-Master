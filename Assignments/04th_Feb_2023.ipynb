{
 "cells": [
  {
   "cell_type": "markdown",
   "id": "00e90735-c6a0-4e2b-8e2f-35aed846fb73",
   "metadata": {},
   "source": [
    "# 4 February 2023\n",
    "#### Author: AARYAN KAUSHIK"
   ]
  },
  {
   "cell_type": "markdown",
   "id": "260bac07-d378-4630-bd56-1e544e2aa028",
   "metadata": {},
   "source": [
    "#### Q1. Create a python program to sort the given list of tuples based on integer value using a lambda function.\n",
    "#### [('Sachin Tendulkar', 34357), ('Ricky Ponting', 27483), ('Jack Kallis', 25534), ('Virat Kohli', 24936)]\n"
   ]
  },
  {
   "cell_type": "code",
   "execution_count": 1,
   "id": "d01adb06-0f7a-4cc0-9b16-6ffe4ec5c3b9",
   "metadata": {},
   "outputs": [],
   "source": [
    "### 1\n",
    "from functools import reduce\n",
    "l1 = [('Sachin Tendulkar', 34357), ('Ricky Ponting', 27483), ('Jack Kallis', 25534), ('Virat Kohli', 24936)]"
   ]
  },
  {
   "cell_type": "code",
   "execution_count": 3,
   "id": "8a17ef6b-8157-4492-bad4-af8751dce344",
   "metadata": {},
   "outputs": [],
   "source": [
    "l1.sort(key=lambda x : x[1] )"
   ]
  },
  {
   "cell_type": "code",
   "execution_count": 4,
   "id": "b25a006b-2340-49a8-b491-1abc444f2280",
   "metadata": {},
   "outputs": [
    {
     "data": {
      "text/plain": [
       "[('Virat Kohli', 24936),\n",
       " ('Jack Kallis', 25534),\n",
       " ('Ricky Ponting', 27483),\n",
       " ('Sachin Tendulkar', 34357)]"
      ]
     },
     "execution_count": 4,
     "metadata": {},
     "output_type": "execute_result"
    }
   ],
   "source": [
    "l1"
   ]
  },
  {
   "cell_type": "markdown",
   "id": "29c8cfde-ff45-4a74-979f-ce6519d8121f",
   "metadata": {},
   "source": [
    "#### Q2. Write a Python Program to find the squares of all the numbers in the given list of integers using lambda and map functions.\n",
    "\n",
    "#### [1,2,3,4,5,6,7,8,9,10]"
   ]
  },
  {
   "cell_type": "code",
   "execution_count": 5,
   "id": "a1840342-6932-41e1-9495-c9bf4673c86f",
   "metadata": {},
   "outputs": [],
   "source": [
    "### 2\n",
    "l2 = [1, 2, 3, 4, 5, 6, 7, 8, 9, 10]"
   ]
  },
  {
   "cell_type": "code",
   "execution_count": 6,
   "id": "ccce6080-47a9-4ab9-b649-cc50e8b7f255",
   "metadata": {},
   "outputs": [
    {
     "data": {
      "text/plain": [
       "[1, 4, 9, 16, 25, 36, 49, 64, 81, 100]"
      ]
     },
     "execution_count": 6,
     "metadata": {},
     "output_type": "execute_result"
    }
   ],
   "source": [
    "list(map(lambda x : x**2 , l2))"
   ]
  },
  {
   "cell_type": "markdown",
   "id": "84d56aa6-f4bf-4350-b36e-9c2de0bb69d3",
   "metadata": {},
   "source": [
    "#### Q3. Write a python program to convert the given list of integers into a tuple of strings. Use map and lambda functions\n",
    "\n",
    "\n",
    "#### Given String: [1, 2, 3, 4, 5, 6, 7, 8, 9, 10]\n",
    "\n",
    "#### Expected output: ('1', '2', '3', '4', '5', '6', '7', '8', '9', '10')"
   ]
  },
  {
   "cell_type": "code",
   "execution_count": 7,
   "id": "6e528aa5-a5e0-4c63-9474-c48571434f1f",
   "metadata": {},
   "outputs": [],
   "source": [
    "### 3\n",
    "l3 = [1, 2, 3, 4, 5, 6, 7, 8, 9, 10]"
   ]
  },
  {
   "cell_type": "code",
   "execution_count": 9,
   "id": "de208328-579b-47bc-b9c1-4011b4de1f9a",
   "metadata": {},
   "outputs": [
    {
     "data": {
      "text/plain": [
       "('1', '2', '3', '4', '5', '6', '7', '8', '9', '10')"
      ]
     },
     "execution_count": 9,
     "metadata": {},
     "output_type": "execute_result"
    }
   ],
   "source": [
    "tuple(map(lambda x: str(x), l3))"
   ]
  },
  {
   "cell_type": "markdown",
   "id": "5b772b2c-6aeb-4e19-bce6-71a0aeee80c4",
   "metadata": {},
   "source": [
    "#### Q4. Write a python program using reduce function to compute the product of a list containing numbers from 1 to 25."
   ]
  },
  {
   "cell_type": "code",
   "execution_count": 10,
   "id": "7336e10a-8845-40f0-9c40-23f1c435f986",
   "metadata": {},
   "outputs": [],
   "source": [
    "### 4\n",
    "l4 = list(range(1,26))"
   ]
  },
  {
   "cell_type": "code",
   "execution_count": 12,
   "id": "6073f3a3-ded9-49d2-9084-74bb75401642",
   "metadata": {},
   "outputs": [
    {
     "name": "stdout",
     "output_type": "stream",
     "text": [
      "[1, 2, 3, 4, 5, 6, 7, 8, 9, 10, 11, 12, 13, 14, 15, 16, 17, 18, 19, 20, 21, 22, 23, 24, 25]\n"
     ]
    }
   ],
   "source": [
    "print(l4)"
   ]
  },
  {
   "cell_type": "code",
   "execution_count": 14,
   "id": "0c32cf64-38c3-4e98-85ab-6e94472000c3",
   "metadata": {},
   "outputs": [
    {
     "data": {
      "text/plain": [
       "15511210043330985984000000"
      ]
     },
     "execution_count": 14,
     "metadata": {},
     "output_type": "execute_result"
    }
   ],
   "source": [
    "reduce(lambda x,y : x*y , l4)"
   ]
  },
  {
   "cell_type": "markdown",
   "id": "cebc8aa5-42aa-4251-998d-6194eeb28010",
   "metadata": {},
   "source": [
    "#### Q5. Write a python program to filter the numbers in a given list that are divisible by 2 and 3 using the filter function.\n",
    "\n",
    "\n",
    "#### [2, 3, 6, 9, 27, 60, 90, 120, 55, 46]"
   ]
  },
  {
   "cell_type": "code",
   "execution_count": 15,
   "id": "e55cf44d-a0f1-4afd-9543-ee8184a46657",
   "metadata": {},
   "outputs": [],
   "source": [
    "### 5\n",
    "l5 = [2, 3, 6, 9, 27, 60, 90, 120, 55, 46]"
   ]
  },
  {
   "cell_type": "code",
   "execution_count": 16,
   "id": "22854221-1a3c-46f4-b935-29fe4a83b4f7",
   "metadata": {},
   "outputs": [
    {
     "data": {
      "text/plain": [
       "[6, 60, 90, 120]"
      ]
     },
     "execution_count": 16,
     "metadata": {},
     "output_type": "execute_result"
    }
   ],
   "source": [
    "list(filter(lambda x : x%2==0 and x%3==0 , l5))"
   ]
  },
  {
   "cell_type": "markdown",
   "id": "40f8f944-9be8-4d2a-bd79-0cba2b593270",
   "metadata": {},
   "source": [
    "#### Q6. Write a python program to find palindromes in the given list of strings using lambda and filter function.\n",
    "\n",
    "\n",
    "#### ['python', 'php', 'aba', 'radar', 'level']"
   ]
  },
  {
   "cell_type": "code",
   "execution_count": 18,
   "id": "53a6bf93-5da7-4520-9820-f93809a03f84",
   "metadata": {},
   "outputs": [],
   "source": [
    "### 6\n",
    "l6 = ['python', 'php', 'aba', 'radar', 'level']"
   ]
  },
  {
   "cell_type": "code",
   "execution_count": 19,
   "id": "91527e9b-e096-4631-8773-a3d39c3c2e7a",
   "metadata": {},
   "outputs": [
    {
     "data": {
      "text/plain": [
       "['php', 'aba', 'radar', 'level']"
      ]
     },
     "execution_count": 19,
     "metadata": {},
     "output_type": "execute_result"
    }
   ],
   "source": [
    "list(filter(lambda x : x == x[::-1] , l6))"
   ]
  },
  {
   "cell_type": "markdown",
   "id": "15b8f75b-5d16-497d-9c35-f422c62dc606",
   "metadata": {},
   "source": [
    "####"
   ]
  },
  {
   "cell_type": "markdown",
   "id": "42dda9d6-5b83-4483-9b99-c4427066756f",
   "metadata": {},
   "source": [
    "####"
   ]
  }
 ],
 "metadata": {
  "kernelspec": {
   "display_name": "Python 3 (ipykernel)",
   "language": "python",
   "name": "python3"
  },
  "language_info": {
   "codemirror_mode": {
    "name": "ipython",
    "version": 3
   },
   "file_extension": ".py",
   "mimetype": "text/x-python",
   "name": "python",
   "nbconvert_exporter": "python",
   "pygments_lexer": "ipython3",
   "version": "3.10.8"
  }
 },
 "nbformat": 4,
 "nbformat_minor": 5
}
