{
 "cells": [
  {
   "cell_type": "markdown",
   "id": "7b6268f3-b1d9-4c67-9515-2dd91be2b5b8",
   "metadata": {},
   "source": [
    "# 9 February 2023\n",
    "#### Author: AARYAN KAUSHIK"
   ]
  },
  {
   "cell_type": "markdown",
   "id": "665865e0-8bae-4000-a1d8-de25388e1cb4",
   "metadata": {},
   "source": [
    "#### Q1, Create a vehicle class with an init method having instance variables as name_of_vehicle, max_speed and average_of_vehicle."
   ]
  },
  {
   "cell_type": "code",
   "execution_count": 1,
   "id": "dbd4df06-89b2-4144-a375-42b27d3f721b",
   "metadata": {},
   "outputs": [],
   "source": [
    "class vehicle:\n",
    "    def __init__(self,name_of_vehicle,max_speed,average_of_vehicle):\n",
    "        self.name_of_vehicle=name_of_vehicle\n",
    "        self.max_speed=max_speed\n",
    "        self.average_of_vehicle=average_of_vehicle"
   ]
  },
  {
   "cell_type": "code",
   "execution_count": 2,
   "id": "f64b3092-7988-4b4d-aac7-be207619ecbc",
   "metadata": {},
   "outputs": [],
   "source": [
    "v1 = vehicle(\"centro\",120,70)"
   ]
  },
  {
   "cell_type": "code",
   "execution_count": 3,
   "id": "6d7d3552-1ff6-46ce-86ac-85e2999d31ea",
   "metadata": {},
   "outputs": [
    {
     "data": {
      "text/plain": [
       "'centro'"
      ]
     },
     "execution_count": 3,
     "metadata": {},
     "output_type": "execute_result"
    }
   ],
   "source": [
    "v1.name_of_vehicle"
   ]
  },
  {
   "cell_type": "code",
   "execution_count": 4,
   "id": "08249274-feee-4ed3-a9a8-17bab400bc6d",
   "metadata": {},
   "outputs": [
    {
     "data": {
      "text/plain": [
       "120"
      ]
     },
     "execution_count": 4,
     "metadata": {},
     "output_type": "execute_result"
    }
   ],
   "source": [
    "v1.max_speed"
   ]
  },
  {
   "cell_type": "code",
   "execution_count": 5,
   "id": "dfaace53-b897-4f02-809a-6c57c0023fd8",
   "metadata": {},
   "outputs": [
    {
     "data": {
      "text/plain": [
       "70"
      ]
     },
     "execution_count": 5,
     "metadata": {},
     "output_type": "execute_result"
    }
   ],
   "source": [
    "v1.average_of_vehicle"
   ]
  },
  {
   "cell_type": "markdown",
   "id": "43f80dd5-5bd2-49a1-9de4-1db3132d8d93",
   "metadata": {},
   "source": [
    "#### Q2. Create a child class car from the vehicle class created in Que 1, which will inherit the vehicle class. Create a method named seating_capacity which takes capacity as an argument and returns the name of the vehicle and its seating capacity."
   ]
  },
  {
   "cell_type": "code",
   "execution_count": 6,
   "id": "c822f695-1db3-45e3-8ed8-22ead395fd17",
   "metadata": {},
   "outputs": [],
   "source": [
    "class car(vehicle):\n",
    "    \n",
    "    def __init__(self, name_of_vehicle, max_speed, average_of_vehicle):\n",
    "        super().__init__(name_of_vehicle,max_speed, average_of_vehicle)\n",
    "        \n",
    "    def seating_capacity(self, capacity):\n",
    "        return self.name_of_vehicle, capacity"
   ]
  },
  {
   "cell_type": "code",
   "execution_count": 7,
   "id": "57430f02-02ac-4312-bfeb-1ce5b427406d",
   "metadata": {},
   "outputs": [],
   "source": [
    "car1 = car(\"CRETA\",180,120)"
   ]
  },
  {
   "cell_type": "code",
   "execution_count": 8,
   "id": "bfff2eb5-97e8-4fce-9de9-1fc5c11a1489",
   "metadata": {},
   "outputs": [
    {
     "data": {
      "text/plain": [
       "('CRETA', 4)"
      ]
     },
     "execution_count": 8,
     "metadata": {},
     "output_type": "execute_result"
    }
   ],
   "source": [
    "car1.seating_capacity(4)"
   ]
  },
  {
   "cell_type": "markdown",
   "id": "9a6b02ac-0edb-44c1-b3a0-3d21819c4200",
   "metadata": {},
   "source": [
    "#### Q3. What is multiple inheritance? Write a python code to demonstrate multiple inheritance.\n",
    "    When a class is derived from more than one base class it is called multiple Inheritance. The derived class inherits all the features of the base case."
   ]
  },
  {
   "cell_type": "code",
   "execution_count": 9,
   "id": "29c75857-3958-44ef-a031-7ddfcb6c52c4",
   "metadata": {},
   "outputs": [],
   "source": [
    "class A:\n",
    "    def methode_a(self):\n",
    "        print(\"this is class a and methode a.\")\n",
    "\n",
    "class B:\n",
    "    def methode_b(self):\n",
    "        print(\"this is class b and methode b.\")\n",
    "\n",
    "class C(A,B):  # inherits the methode of class a and class b\n",
    "    pass"
   ]
  },
  {
   "cell_type": "code",
   "execution_count": 10,
   "id": "74ce170f-8b8a-49c0-a655-026475d0c4d1",
   "metadata": {},
   "outputs": [],
   "source": [
    "obj = C()"
   ]
  },
  {
   "cell_type": "code",
   "execution_count": 11,
   "id": "913ada6c-2603-45f1-a718-c90be929553f",
   "metadata": {},
   "outputs": [
    {
     "name": "stdout",
     "output_type": "stream",
     "text": [
      "this is class a and methode a.\n"
     ]
    }
   ],
   "source": [
    "obj.methode_a()   # methode a from class a"
   ]
  },
  {
   "cell_type": "code",
   "execution_count": 12,
   "id": "a26745ff-dfb2-435f-aff0-ad46b9b47322",
   "metadata": {},
   "outputs": [
    {
     "name": "stdout",
     "output_type": "stream",
     "text": [
      "this is class b and methode b.\n"
     ]
    }
   ],
   "source": [
    "obj.methode_b()   # methode b from class b"
   ]
  },
  {
   "cell_type": "markdown",
   "id": "b2dfa1ce-fc12-4e0c-bb11-123146ac92bf",
   "metadata": {},
   "source": [
    "#### Q4. What are getter and setter in python? Create a class and create a getter and a setter method in this class.\n",
    "    A property object has three methods, getter(), setter(), and delete().\n",
    "    getter : A method that allows us to access or see an attribute of the class even if it is private.\n",
    "    setter : A method that allows us to set or change the value of an attribute in a class even if it is private."
   ]
  },
  {
   "cell_type": "code",
   "execution_count": 13,
   "id": "5926397e-069f-4464-ab02-eb0eac155e30",
   "metadata": {},
   "outputs": [],
   "source": [
    "class vehicle:\n",
    "    def __init__(self,name_of_vehicle,max_speed,average_of_vehicle):\n",
    "        self.name_of_vehicle=name_of_vehicle\n",
    "        self.__max_speed=max_speed   # this is private instance\n",
    "        self.average_of_vehicle=average_of_vehicle\n",
    "        \n",
    "    # using property decorator a getter function\n",
    "\n",
    "    @property    # to make it public to see the value\n",
    "    def max_speed_access(self):\n",
    "        return self.__max_speed\n",
    "    \n",
    "    # setter function\n",
    "    \n",
    "    @max_speed_access.setter    # to make changes externally by user\n",
    "    def max_speed_set(self,speed):\n",
    "        if speed>180:\n",
    "            pass\n",
    "        else:\n",
    "            self.__max_speed= speed"
   ]
  },
  {
   "cell_type": "code",
   "execution_count": 14,
   "id": "705f55e0-d824-437e-bcea-78445050f818",
   "metadata": {},
   "outputs": [],
   "source": [
    "v1 = vehicle(\"centro\",120,70)"
   ]
  },
  {
   "cell_type": "code",
   "execution_count": 15,
   "id": "333911f2-94a5-4261-bada-b2727c606ce0",
   "metadata": {},
   "outputs": [
    {
     "data": {
      "text/plain": [
       "'centro'"
      ]
     },
     "execution_count": 15,
     "metadata": {},
     "output_type": "execute_result"
    }
   ],
   "source": [
    "v1.name_of_vehicle"
   ]
  },
  {
   "cell_type": "code",
   "execution_count": 16,
   "id": "5d8c1605-c970-45e0-b011-94a95e39aa43",
   "metadata": {},
   "outputs": [
    {
     "data": {
      "text/plain": [
       "120"
      ]
     },
     "execution_count": 16,
     "metadata": {},
     "output_type": "execute_result"
    }
   ],
   "source": [
    "v1.max_speed_access    # can see the max speed"
   ]
  },
  {
   "cell_type": "code",
   "execution_count": 17,
   "id": "0d5afd10-4b93-492d-9544-886bf06466c5",
   "metadata": {},
   "outputs": [],
   "source": [
    "v1.max_speed_set = 200"
   ]
  },
  {
   "cell_type": "code",
   "execution_count": 18,
   "id": "3fc2853a-f65a-4236-a734-5b09cf567f69",
   "metadata": {},
   "outputs": [
    {
     "data": {
      "text/plain": [
       "120"
      ]
     },
     "execution_count": 18,
     "metadata": {},
     "output_type": "execute_result"
    }
   ],
   "source": [
    "v1.max_speed_access"
   ]
  },
  {
   "cell_type": "code",
   "execution_count": 19,
   "id": "8ede161b-6a3c-4424-84c4-004966e2fa04",
   "metadata": {},
   "outputs": [],
   "source": [
    "v1.max_speed_set = 100  # can change the value of max speed "
   ]
  },
  {
   "cell_type": "code",
   "execution_count": 20,
   "id": "6acefcf3-f91c-4333-9791-28ec8d30b8f7",
   "metadata": {},
   "outputs": [
    {
     "data": {
      "text/plain": [
       "100"
      ]
     },
     "execution_count": 20,
     "metadata": {},
     "output_type": "execute_result"
    }
   ],
   "source": [
    "v1.max_speed_access"
   ]
  },
  {
   "cell_type": "markdown",
   "id": "86c4f1df-48cf-4252-a31e-3cb2609e5f05",
   "metadata": {},
   "source": [
    "#### Q5.What is method overriding in python? Write a python code to demonstrate method overriding.\n",
    "    The method overriding in Python means creating two methods with the same name but it is different in the programming logic. The concept of Method overriding allows us to change or override the Parent Class function in the Child Class."
   ]
  },
  {
   "cell_type": "code",
   "execution_count": 21,
   "id": "9c753d9d-9a95-4b57-9ac5-e9fd118bf7de",
   "metadata": {},
   "outputs": [],
   "source": [
    "class parents:\n",
    "      \n",
    "    def msg(self):\n",
    "        print('This is msg from parent class......')\n",
    "        \n",
    "class child(parents):\n",
    "  \n",
    "    def msg(self):     # define the function with the same name as we have in parent class....\n",
    "        print('this is msg from the child class....')"
   ]
  },
  {
   "cell_type": "code",
   "execution_count": 22,
   "id": "21e756ef-a455-4af4-9a07-cb11449f21fc",
   "metadata": {},
   "outputs": [],
   "source": [
    "obj = child()"
   ]
  },
  {
   "cell_type": "code",
   "execution_count": 23,
   "id": "e7ce37d7-e506-4ae3-b21d-674bdc6de217",
   "metadata": {},
   "outputs": [
    {
     "name": "stdout",
     "output_type": "stream",
     "text": [
      "this is msg from the child class....\n"
     ]
    }
   ],
   "source": [
    "obj.msg()   # it will print msg from child class so we can say that it is overriding the msg method of the parents class"
   ]
  },
  {
   "cell_type": "code",
   "execution_count": null,
   "id": "061251a1-662a-4ffb-902e-bc858b0a6176",
   "metadata": {},
   "outputs": [],
   "source": []
  }
 ],
 "metadata": {
  "kernelspec": {
   "display_name": "Python 3 (ipykernel)",
   "language": "python",
   "name": "python3"
  },
  "language_info": {
   "codemirror_mode": {
    "name": "ipython",
    "version": 3
   },
   "file_extension": ".py",
   "mimetype": "text/x-python",
   "name": "python",
   "nbconvert_exporter": "python",
   "pygments_lexer": "ipython3",
   "version": "3.10.8"
  }
 },
 "nbformat": 4,
 "nbformat_minor": 5
}
