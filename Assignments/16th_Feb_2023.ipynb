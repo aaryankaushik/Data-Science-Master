{
 "cells": [
  {
   "cell_type": "markdown",
   "id": "541172cd-7796-4a48-b426-4eaaa8d12f38",
   "metadata": {},
   "source": [
    "# 16 February 2023\n",
    "#### Author: AARYAN KAUSHIK"
   ]
  },
  {
   "cell_type": "markdown",
   "id": "6ef647da-e61a-47c9-b2b8-121bbb0316aa",
   "metadata": {},
   "source": [
    "#### Q1. What is a database? Differentiate between SQL and NoSQL databases.\n",
    "These are the cases where we need to store a large amount of data in one place and fetch these data easily. \n",
    "\n",
    "Database : an organized collection of data and information or interrelated data collected at one place."
   ]
  },
  {
   "cell_type": "markdown",
   "id": "6c4b555e-775c-45cb-a8ca-b66471b75f33",
   "metadata": {},
   "source": [
    "|SQL\t|NoSQL|\n",
    "|-|-|\n",
    "|RELATIONAL DATABASE MANAGEMENT SYSTEM (RDBMS)\t|Non-relational or distributed database system.|\n",
    "|These databases have fixed or static or predefined schema\t|They have dynamic schema|\n",
    "|These databases are not suited for hierarchical data storage.\t|These databases are best suited for hierarchical data storage.|\n",
    "|These databases are best suited for complex queries\t|These databases are not so good for complex queries|\n",
    "|Vertically Scalable\t|Horizontally scalable|\n",
    "|Follows ACID property\t|Follows CAP(consistency, availability, partition tolerance)|\n",
    "|Examples: MySQL, PostgreSQL, Oracle, MS-SQL Server, etc\t|Examples: MongoDB, GraphQL, HBase, Neo4j, Cassandra, etc|"
   ]
  },
  {
   "cell_type": "markdown",
   "id": "8efa5d8a-9175-4769-bc19-8f42b4ed6c26",
   "metadata": {},
   "source": [
    "#### Q2. What is DDL? Explain why CREATE, DROP, ALTER, and TRUNCATE are used with an example.\n",
    "DDL stands for Data Definition Language, which deals with database schemas and descriptions, of how the data should reside in the database. DDL consists of following Commands.\n",
    "\n",
    "1. CREATE - It is used to create a new table in SQL. we need to give information like table name, column names, and their datatypes.\n",
    "2. ALTER - This command is used to add, delete or change columns in the existing table.\n",
    "3. DROP - delete column from the table\n",
    "4. TRUNCATE - command deletes the data inside a table, but not the table itself."
   ]
  },
  {
   "cell_type": "code",
   "execution_count": null,
   "id": "e4e3f4be-d6d3-4505-8126-55fa567b3044",
   "metadata": {},
   "outputs": [],
   "source": [
    "# here we have created table named as test_table and having column c1,c2,c3,c4\n",
    "\n",
    "CREATE TABLE if not exists test_table(c1 INT,c2 VARCHAR ,c3 FLOAT,c4 INT);  # to create new data base and to add column in that talbe"
   ]
  },
  {
   "cell_type": "code",
   "execution_count": null,
   "id": "64b254ff-d7eb-4b09-94e3-8bb19bce85a0",
   "metadata": {},
   "outputs": [],
   "source": [
    "# if we want to add new column c5 in this table \n",
    "\n",
    "ALTER TABLE test_database1.test_table  # need to provide table name with alter command\n",
    "ADD c5 INT;    # need to define column and its data type"
   ]
  },
  {
   "cell_type": "code",
   "execution_count": null,
   "id": "f69d9ba6-3458-47ad-bfda-b8d9e9f1ae1d",
   "metadata": {},
   "outputs": [],
   "source": [
    "# if we want to delete c3 column from test_table\n",
    "ALTER TABLE test_database1.test_table  # need to provide table name with alter command\n",
    "DROP COLUMN c3;    # need to give column name which we want to delete"
   ]
  },
  {
   "cell_type": "code",
   "execution_count": null,
   "id": "f9bf84a6-bd26-4d64-b55d-e91438cbbcbc",
   "metadata": {},
   "outputs": [],
   "source": [
    "# if we want to change datatype of c2 from VARCHAR to INT\n",
    "ALTER TABLE test_database1.test_table  # need to provide table name with alter command\n",
    "MODIFY COLUMN c2 INT;     # need to give column name which we want to delete"
   ]
  },
  {
   "cell_type": "code",
   "execution_count": null,
   "id": "d6e214cc-8b6b-4b12-9118-d9d559094b94",
   "metadata": {},
   "outputs": [],
   "source": [
    "# if we want to delete all the rows of data table but not table itself.\n",
    "TRUNCATE TABLE test_database1.test_table;"
   ]
  },
  {
   "cell_type": "markdown",
   "id": "50bd076f-c6c8-44f0-a268-b2e833b56236",
   "metadata": {},
   "source": [
    "#### Q3. What is DML? Explain INSERT, UPDATE, and DELETE with an example.\n",
    "DML stands for Data Manipulation Language.\n",
    "\n",
    "1. INSERT - insert data into a table\n",
    "2. UPDATE - updates existing data within a table\n",
    "3. DELETE - Delete all records from a database table"
   ]
  },
  {
   "cell_type": "code",
   "execution_count": null,
   "id": "b5a34842-3a8d-47b6-b872-3c2b52334ab7",
   "metadata": {},
   "outputs": [],
   "source": [
    "# if we want to insert some values in data table then,\n",
    "INSERT INTO test_database1.test_table\n",
    "VALUES (2,5,8,9);"
   ]
  },
  {
   "cell_type": "code",
   "execution_count": null,
   "id": "98b294c0-28ac-4bc2-be2e-21d870d77b41",
   "metadata": {},
   "outputs": [],
   "source": [
    "# if we want to update values of some specific column \n",
    "UPDATE test_database1.test_table\n",
    "SET c1=456;"
   ]
  },
  {
   "cell_type": "code",
   "execution_count": null,
   "id": "5f856537-b4f8-452f-8353-e2a51ff517cc",
   "metadata": {},
   "outputs": [],
   "source": [
    "# this will delete the all the rows of data table\n",
    "DELETE FROM test_database1.test_table;"
   ]
  },
  {
   "cell_type": "markdown",
   "id": "c7079517-c3f0-4d8f-ac96-54d6f99e666a",
   "metadata": {},
   "source": [
    "#### Q4. What is DQL? Explain SELECT with an example.\n",
    "DQL stands for Data Query Language \\\n",
    "SELECT: It is used to retrieve data from the database"
   ]
  },
  {
   "cell_type": "code",
   "execution_count": null,
   "id": "8ea56def-63e6-44b8-a785-1c86cdabb501",
   "metadata": {},
   "outputs": [],
   "source": [
    "# if we want to fetch all the rows of data form any table \n",
    "SELECT * FROM test_database1.test_table;"
   ]
  },
  {
   "cell_type": "markdown",
   "id": "b7810551-b628-40ad-879b-2afc33b0933a",
   "metadata": {},
   "source": [
    "#### Q5. Explain Primary Key and Foreign Key."
   ]
  },
  {
   "cell_type": "markdown",
   "id": "bb5e638e-f5f3-4f03-b905-76e2c564a6a1",
   "metadata": {},
   "source": [
    "|Sr. No.|Primary Key|Foreign Key|\n",
    "|-|-|-|\n",
    "|1\t|A primary key is used to ensure data in the specific column is unique.\t|A foreign key is a column or group of columns in a relational database table that provides a link between data in two tables.|\n",
    "|2\t|It uniquely identifies a record in the relational database table.\t|It refers to the field in a table which is the primary key of another table.|\n",
    "|3\t|Only one primary key is allowed in a table.\t|Whereas more than one foreign key are allowed in a table.|\n",
    "|4\t|It is a combination of UNIQUE and Not Null constraints.\t|It can contain duplicate values and a table in a relational database.|\n",
    "|5\t|It does not allow NULL values.\t|It can also contain NULL values.|\n",
    "|6\t|Its value cannot be deleted from the parent table.|\tIts value can be deleted from the child table.|\n",
    "|7\t|It constraint can be implicitly defined on the temporary tables.\t|It constraint cannot be defined on the local or global temporary tables.|"
   ]
  },
  {
   "cell_type": "markdown",
   "id": "15cc1304-829e-4108-b25a-c602c46777ee",
   "metadata": {},
   "source": [
    "#### Q6. Write a python code to connect MySQL to python. Explain the cursor() and execute() method."
   ]
  },
  {
   "cell_type": "code",
   "execution_count": null,
   "id": "9ab69697-c7b6-4c09-827a-92efcb69919c",
   "metadata": {},
   "outputs": [],
   "source": [
    "#this is python code to connect MySQL to python\n",
    "\n",
    "import mysql.connector      # import mysql.connector\n",
    "\n",
    "mydb = mysql.connector.connect(\n",
    "  host=\"localhost\",\n",
    "  user=\"abc\",\n",
    "  password=\"password\"\n",
    ")\n",
    "\n",
    "print(mydb)\n",
    "\n",
    "mycursor = mydb.cursor()\n",
    "\n",
    "# to handle a result set inside a stored procedure, you use a cursor. A cursor allows you to iterate a set of rows returned by a query and process each row individually.\n",
    "mycursor.execute(\"CREATE DATABASE if not exists test1\")\n",
    "\n",
    "# execute method accepts a MySQL query as a parameter and executes the given query\n",
    "mycursor.execute(\"CREATE TABLE if not exists test1.test_table (column1 INT, column2 VARCHAR(50) ,column3 INT, column4 FLOAT, column5 VARCHAR(40) )\")\n",
    "mydb.close()"
   ]
  },
  {
   "cell_type": "markdown",
   "id": "da5bb2d7-b7c2-43d4-acfd-41824f467c4d",
   "metadata": {},
   "source": [
    "1. cursor() : A cursor allows us to iterate a set of rows returned by a query and process each row individually.\n",
    "2. execute() : execute method accepts a MySQL query as a parameter and executes the given query"
   ]
  },
  {
   "cell_type": "markdown",
   "id": "89610b93-36ae-4c2d-9d92-9060787c8280",
   "metadata": {},
   "source": [
    "#### Q7. Give the order of execution of SQL clauses in an SQL query.\n",
    "In SQL, the first clause that is processed is the FROM clause, while the SELECT clause, which appears first in an SQL query, is processed much later. The phases involved in the logical processing of an SQL query are as follows:\n",
    "\n",
    "1. FROM clause\n",
    "2. ON clause\n",
    "3. OUTER clause\n",
    "4. WHERE clause\n",
    "5. GROUP BY clause\n",
    "6. HAVING clause\n",
    "7. SELECT clause\n",
    "8. DISTINCT clause\n",
    "9. ORDER BY clause\n",
    "10. TOP clause"
   ]
  },
  {
   "cell_type": "code",
   "execution_count": null,
   "id": "0a711c7d-875a-43f1-a130-f9428e391fad",
   "metadata": {},
   "outputs": [],
   "source": []
  }
 ],
 "metadata": {
  "kernelspec": {
   "display_name": "Python 3 (ipykernel)",
   "language": "python",
   "name": "python3"
  },
  "language_info": {
   "codemirror_mode": {
    "name": "ipython",
    "version": 3
   },
   "file_extension": ".py",
   "mimetype": "text/x-python",
   "name": "python",
   "nbconvert_exporter": "python",
   "pygments_lexer": "ipython3",
   "version": "3.10.8"
  }
 },
 "nbformat": 4,
 "nbformat_minor": 5
}
