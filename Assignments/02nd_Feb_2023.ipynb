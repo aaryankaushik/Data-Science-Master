{
 "cells": [
  {
   "cell_type": "markdown",
   "id": "2934aab4-8e7f-4fda-b69c-938d3f904fba",
   "metadata": {},
   "source": [
    "# 2 February 2023\n",
    "#### Author: AARYAN KAUSHIK"
   ]
  },
  {
   "cell_type": "markdown",
   "id": "49b9382a-bad7-466e-bb4f-7d169282df74",
   "metadata": {},
   "source": [
    "#### 1. What are the characteristics of the tuples? Is tuple immutable?\n",
    "    Tuple items are ordered, unchangeable, and allow duplicate values.\n",
    "    In Python, tuples are immutable, and \"immutable\" means the value cannot change."
   ]
  },
  {
   "cell_type": "markdown",
   "id": "cb887563-81e7-488e-9ad6-29b67a01f698",
   "metadata": {},
   "source": [
    "#### 2. What are the two tuple methods in python? Give an example of each method. Give a reason why tuples have only two in-built methods as compared to Lists.\n",
    "    1.index()\n",
    "    2.count()\n",
    "    tuple has above two methods only because tuple are immutable."
   ]
  },
  {
   "cell_type": "code",
   "execution_count": 1,
   "id": "e491d180-bdcb-4a14-bfa5-c00ecaa12963",
   "metadata": {},
   "outputs": [],
   "source": [
    "t=(1,2,3,4,5,5,8,9,6,5,34,6,642,56,65,65)"
   ]
  },
  {
   "cell_type": "code",
   "execution_count": 2,
   "id": "b90e777b-39c5-492a-b8ff-adc526c6a511",
   "metadata": {},
   "outputs": [
    {
     "data": {
      "text/plain": [
       "10"
      ]
     },
     "execution_count": 2,
     "metadata": {},
     "output_type": "execute_result"
    }
   ],
   "source": [
    "t.index(34)  # return the position of element"
   ]
  },
  {
   "cell_type": "code",
   "execution_count": 3,
   "id": "1313ea35-98a0-401c-b953-6a3846046fa7",
   "metadata": {},
   "outputs": [
    {
     "data": {
      "text/plain": [
       "3"
      ]
     },
     "execution_count": 3,
     "metadata": {},
     "output_type": "execute_result"
    }
   ],
   "source": [
    "t.count(5)  # count given elements are in the tuple"
   ]
  },
  {
   "cell_type": "markdown",
   "id": "c756fe84-d5ce-421e-9644-32781a591830",
   "metadata": {},
   "source": [
    "#### 3. Which collection datatypes in python do not allow duplicate items? Write a code using a set to remove duplicates from the given list.\n",
    "#### List=[1,1,1,2,1,3,1,4,2,1,2,2,2,3,2,4,3,1,3,2,3,3,3,4,4,1,4,2,4,3,4,4]\n",
    "    Set data type do not allow the duplicate items."
   ]
  },
  {
   "cell_type": "code",
   "execution_count": 4,
   "id": "b5e929fa-456e-437d-a688-b7764433a4cb",
   "metadata": {},
   "outputs": [],
   "source": [
    "l1=[1,1,1,2,1,3,1,4,2,1,2,2,2,3,2,4,3,1,3,2,3,3,3,4,4,1,4,2,4,3,4,4]"
   ]
  },
  {
   "cell_type": "code",
   "execution_count": 5,
   "id": "fc877adb-986b-410d-9449-4212f530521e",
   "metadata": {},
   "outputs": [
    {
     "data": {
      "text/plain": [
       "{1, 2, 3, 4}"
      ]
     },
     "execution_count": 5,
     "metadata": {},
     "output_type": "execute_result"
    }
   ],
   "source": [
    "s1=set(l1)  # remove all the duplicates\n",
    "s1"
   ]
  },
  {
   "cell_type": "markdown",
   "id": "ce7cb2bf-215e-4138-b383-952dae1523a0",
   "metadata": {},
   "source": [
    "#### 4. Explain the difference between the union() and update() methods for a set. Give an example of each method.\n",
    "    "
   ]
  },
  {
   "cell_type": "markdown",
   "id": "db7b860a-4056-40b4-9c60-eb0a03c47320",
   "metadata": {},
   "source": [
    "    The union() method returns a set that contains all items from the original set, and all items from the specified set(s)."
   ]
  },
  {
   "cell_type": "code",
   "execution_count": 6,
   "id": "26513da8-a54d-4524-b47a-629b24bc3707",
   "metadata": {},
   "outputs": [
    {
     "name": "stdout",
     "output_type": "stream",
     "text": [
      "before union a:{1, 2, 3, 4}\t b:{2, 3, 5, 6}\n",
      "this is union {1, 2, 3, 4, 5, 6}\n",
      "after union a:{1, 2, 3, 4}\t b:{2, 3, 5, 6}\n"
     ]
    }
   ],
   "source": [
    "a={1,2,3,4}\n",
    "b={2,3,6,5}\n",
    "print(f\"before union a:{a}\\t b:{b}\")\n",
    "print(f\"this is union {a.union(b)}\")\n",
    "print(f\"after union a:{a}\\t b:{b}\")"
   ]
  },
  {
   "cell_type": "markdown",
   "id": "ca15660f-0fcf-46c6-8637-66c518c0ca24",
   "metadata": {},
   "source": [
    "    The update() method updates the current set, by adding items from another set (or any other iterable).\n",
    "    If an item is present in both sets, only one appearance of this item will be present in the updated set."
   ]
  },
  {
   "cell_type": "code",
   "execution_count": 7,
   "id": "c092191e-09b8-4489-812b-defdf98d1837",
   "metadata": {},
   "outputs": [
    {
     "name": "stdout",
     "output_type": "stream",
     "text": [
      "before update a:{1, 2, 3, 4}\t b:{2, 3, 5, 6}\n",
      "this is update None\n",
      "after update a:{1, 2, 3, 4, 5, 6}\t b:{2, 3, 5, 6}\n"
     ]
    }
   ],
   "source": [
    "a={1,2,3,4}\n",
    "b={2,3,6,5}\n",
    "print(f\"before update a:{a}\\t b:{b}\")\n",
    "print(f\"this is update {a.update(b)}\")\n",
    "print(f\"after update a:{a}\\t b:{b}\")"
   ]
  },
  {
   "cell_type": "markdown",
   "id": "862ad155-7b3f-4014-8af9-0a9a65879908",
   "metadata": {},
   "source": [
    "#### 5. What is a dictionary? Give an example. Also, state whether a dictionary is ordered or unordered.\n",
    "    Dictionary is pair of key and value in curley bracket.\n",
    "    Yes, dictionary is ordered"
   ]
  },
  {
   "cell_type": "code",
   "execution_count": 8,
   "id": "8734b806-a0a7-4aa1-87a8-dc9a509dcb01",
   "metadata": {},
   "outputs": [
    {
     "data": {
      "text/plain": [
       "{'a': 1,\n",
       " 'b': [1, 2, 3, 4, 5, 6],\n",
       " 'c': 5.6,\n",
       " 'd': True,\n",
       " 5: 'five',\n",
       " 'e': {1: 2, 5: 8, 9: 10}}"
      ]
     },
     "execution_count": 8,
     "metadata": {},
     "output_type": "execute_result"
    }
   ],
   "source": [
    "d1 = {\"a\":1,\n",
    "     \"b\":[1,2,3,4,5,6],\n",
    "     \"c\":5.6,\n",
    "     \"d\":True,\n",
    "     5:\"five\",\n",
    "     \"e\":{1:2,5:8,9:10}\n",
    "}\n",
    "d1"
   ]
  },
  {
   "cell_type": "markdown",
   "id": "0df736e3-0eeb-4617-9775-3f18e978d9a0",
   "metadata": {},
   "source": [
    "#### 6. Can we create a nested dictionary? If so, please give an example by creating a simple one-level nested dictionary.\n",
    "    Yes, we can create nested dictionary.\n",
    "    It's dictionary inside the dictionary."
   ]
  },
  {
   "cell_type": "code",
   "execution_count": 9,
   "id": "6391d15e-ce2b-460e-bc52-c6cc0583689e",
   "metadata": {},
   "outputs": [
    {
     "data": {
      "text/plain": [
       "{'a': 1, 'b': {'course': 'python', 'country': 'india', 'key': 45}}"
      ]
     },
     "execution_count": 9,
     "metadata": {},
     "output_type": "execute_result"
    }
   ],
   "source": [
    "d2 = {\"a\":1,\n",
    "     \"b\":{\"course\":\"python\",\"country\":\"india\",\"key\":45}\n",
    "}\n",
    "d2"
   ]
  },
  {
   "cell_type": "markdown",
   "id": "2ece8721-0361-45e4-9547-7ea711dfb1cf",
   "metadata": {},
   "source": [
    "#### 7. Using setdefault() method, create key named topics in the given dictionary and also add the value of the key as this list ['Python', 'Machine Learning’, 'Deep Learning']\n",
    "#### dict1 = {'language' : 'Python', 'course': 'Data Science Masters'}"
   ]
  },
  {
   "cell_type": "code",
   "execution_count": 10,
   "id": "8c4a462e-5c83-42ed-9abd-b3688566b322",
   "metadata": {},
   "outputs": [],
   "source": [
    "dict1 = {'language' : 'Python', 'course': 'Data Science Masters'}"
   ]
  },
  {
   "cell_type": "code",
   "execution_count": 11,
   "id": "a884ced4-6046-4de0-8db8-f9b937b5fdde",
   "metadata": {},
   "outputs": [
    {
     "data": {
      "text/plain": [
       "['Python', 'Machine learning', 'Deep learning']"
      ]
     },
     "execution_count": 11,
     "metadata": {},
     "output_type": "execute_result"
    }
   ],
   "source": [
    "dict1.setdefault(\"topics\",[\"Python\",\"Machine learning\",\"Deep learning\"])"
   ]
  },
  {
   "cell_type": "code",
   "execution_count": 12,
   "id": "4a8a69eb-318c-42d2-b690-a91c167274c0",
   "metadata": {},
   "outputs": [
    {
     "data": {
      "text/plain": [
       "{'language': 'Python',\n",
       " 'course': 'Data Science Masters',\n",
       " 'topics': ['Python', 'Machine learning', 'Deep learning']}"
      ]
     },
     "execution_count": 12,
     "metadata": {},
     "output_type": "execute_result"
    }
   ],
   "source": [
    "dict1"
   ]
  },
  {
   "cell_type": "markdown",
   "id": "95a758a8-268e-4cd5-bce1-75761ea9b27f",
   "metadata": {},
   "source": [
    "#### 8. What are the three view objects in dictionaries? Use the three in-built methods in python to display these three view objects for the given dictionary.\n",
    "\n",
    "\n",
    "#### dict1 = {'Sport': 'Cricket' , 'Teams': ['India', 'Australia', 'England', 'South Africa', 'Sri Lanka', 'New Zealand']}\n",
    "\n",
    "    1.keys()\n",
    "    2.values()\n",
    "    3.items()\n"
   ]
  },
  {
   "cell_type": "code",
   "execution_count": 13,
   "id": "5f1be14c-0ef7-43e7-9d39-3dbe47cb3a62",
   "metadata": {},
   "outputs": [],
   "source": [
    "dict1 = {'Sport': 'Cricket' , 'Teams': ['India', 'Australia', 'England', 'South Africa', 'Sri Lanka', 'New Zealand']}"
   ]
  },
  {
   "cell_type": "code",
   "execution_count": 14,
   "id": "f1a2dad3-45bc-4f61-9d35-330edf34cd64",
   "metadata": {},
   "outputs": [
    {
     "data": {
      "text/plain": [
       "dict_keys(['Sport', 'Teams'])"
      ]
     },
     "execution_count": 14,
     "metadata": {},
     "output_type": "execute_result"
    }
   ],
   "source": [
    "dict1.keys()   ## return all the key form dictionary"
   ]
  },
  {
   "cell_type": "code",
   "execution_count": 15,
   "id": "a0c706c2-f045-477e-b342-177e3743cbeb",
   "metadata": {},
   "outputs": [
    {
     "data": {
      "text/plain": [
       "dict_values(['Cricket', ['India', 'Australia', 'England', 'South Africa', 'Sri Lanka', 'New Zealand']])"
      ]
     },
     "execution_count": 15,
     "metadata": {},
     "output_type": "execute_result"
    }
   ],
   "source": [
    "dict1.values()   # return all the values from dictionary"
   ]
  },
  {
   "cell_type": "code",
   "execution_count": 16,
   "id": "421f836d-818f-433b-9c85-c83e64963d3f",
   "metadata": {},
   "outputs": [
    {
     "data": {
      "text/plain": [
       "dict_items([('Sport', 'Cricket'), ('Teams', ['India', 'Australia', 'England', 'South Africa', 'Sri Lanka', 'New Zealand'])])"
      ]
     },
     "execution_count": 16,
     "metadata": {},
     "output_type": "execute_result"
    }
   ],
   "source": [
    "dict1.items()    # return key, value pair tuple from dictionary."
   ]
  },
  {
   "cell_type": "code",
   "execution_count": null,
   "id": "5f450cf4-e0f9-4b63-a745-ff2dd89d006e",
   "metadata": {},
   "outputs": [],
   "source": []
  }
 ],
 "metadata": {
  "kernelspec": {
   "display_name": "Python 3 (ipykernel)",
   "language": "python",
   "name": "python3"
  },
  "language_info": {
   "codemirror_mode": {
    "name": "ipython",
    "version": 3
   },
   "file_extension": ".py",
   "mimetype": "text/x-python",
   "name": "python",
   "nbconvert_exporter": "python",
   "pygments_lexer": "ipython3",
   "version": "3.10.8"
  }
 },
 "nbformat": 4,
 "nbformat_minor": 5
}
