{
 "cells": [
  {
   "cell_type": "markdown",
   "id": "ad6142f7-c78d-4d7b-a3c7-e90294d654ae",
   "metadata": {},
   "source": [
    "# 29 January 2023\n",
    "#### Author: AARYAN KAUSHIK"
   ]
  },
  {
   "cell_type": "markdown",
   "id": "d2f88393-c63a-40bd-90e2-125860948dea",
   "metadata": {
    "tags": []
   },
   "source": [
    "#### 1. Who develeoped Python Programming Language?\n",
    "    Guido van Rossum"
   ]
  },
  {
   "cell_type": "markdown",
   "id": "30fbbf78-e2f8-4ee0-a0a2-d4c9925ff96d",
   "metadata": {},
   "source": [
    "#### 2. Which type of Programming does Python support?\n",
    "    OOP - Object Oriented Programming."
   ]
  },
  {
   "cell_type": "markdown",
   "id": "81542b79-87b0-4e9b-a3d1-9170ef80c8a1",
   "metadata": {},
   "source": [
    "#### 3. Is Python Case sensitive when dealing with identifiers?\n",
    "    YES"
   ]
  },
  {
   "cell_type": "markdown",
   "id": "1955e92e-424d-40f4-972e-4ec0b4d88eac",
   "metadata": {},
   "source": [
    "#### 4.\tWhat is the correct extension of the python file?\n",
    "    .py"
   ]
  },
  {
   "cell_type": "markdown",
   "id": "079e8fed-2a34-415a-a855-3fc7f1f13ec1",
   "metadata": {},
   "source": [
    "#### 5.\tIs python code compiled or interpreted?\n",
    "    Interpreted"
   ]
  },
  {
   "cell_type": "markdown",
   "id": "df930403-d23b-41f7-b355-1fe5412017e5",
   "metadata": {},
   "source": [
    "#### 6.\tName a few blocks of code used to define in python language?\n",
    "    If-else block, while loop, for loop etc."
   ]
  },
  {
   "cell_type": "markdown",
   "id": "9b3c40b0-08b9-4feb-8326-aa92399431a3",
   "metadata": {},
   "source": [
    "#### 7.\tState a character used to give single-line comments in python?\n",
    "    #single line comment"
   ]
  },
  {
   "cell_type": "markdown",
   "id": "b9a0cb1c-3440-429b-ab51-8f43f5724212",
   "metadata": {},
   "source": [
    "#### 8.\tMention function which can help us to find the version of python that we are currently working on?\n"
   ]
  },
  {
   "cell_type": "code",
   "execution_count": 2,
   "id": "9bc72bec-dc99-4342-adbc-eefe055d2a58",
   "metadata": {},
   "outputs": [
    {
     "name": "stdout",
     "output_type": "stream",
     "text": [
      "3.10.8 | packaged by conda-forge | (main, Nov 22 2022, 08:26:04) [GCC 10.4.0]\n"
     ]
    }
   ],
   "source": [
    "##8\n",
    "import sys\n",
    "print(sys.version)"
   ]
  },
  {
   "cell_type": "markdown",
   "id": "f608cf2b-2809-4a1f-8278-d8f090db4660",
   "metadata": {},
   "source": [
    "#### 9.\tPython supports the creation of anonymous function at runtime, using a construct called _______?\n",
    "    lambda"
   ]
  },
  {
   "cell_type": "markdown",
   "id": "e41e94d1-1b0e-4795-a6c2-dbdb19e6e155",
   "metadata": {},
   "source": [
    "#### 10.\tWhat does pip stand for python?\n",
    "    Preffered Installer Program"
   ]
  },
  {
   "cell_type": "markdown",
   "id": "d275a8f7-78b1-4d5e-9025-f1431690491d",
   "metadata": {},
   "source": [
    "#### 11.\tMention a few built-in functions in python?\n",
    "    print(),range(),str(),type(),list(),int(),input(),and many more..."
   ]
  },
  {
   "cell_type": "markdown",
   "id": "a66f230b-b85f-49a4-8077-8b2d7cfd94ee",
   "metadata": {},
   "source": [
    "#### 12.\tWhat is the maximum possible length of an identifier in python?\n",
    "    79 Characters"
   ]
  },
  {
   "cell_type": "markdown",
   "id": "211a6dd5-a3f7-4a76-9649-1e25cc1133f6",
   "metadata": {},
   "source": [
    "#### 13.\tWhat are the benefits of using python?\n",
    "    1. Easy to Read, Learn and Write\n",
    "    2. Free and Open-Source\n",
    "    3. So many libraries available to work with. (More than 1,37,000 packages).\n",
    "    4. Use For Data Science"
   ]
  },
  {
   "cell_type": "markdown",
   "id": "2709652d-5621-4801-ba7b-da664184f9dd",
   "metadata": {},
   "source": [
    "#### 14.\tHow is memory managed in python?\n",
    "    1. Memory allocation can be defined as allocating a block of space in the computer memory to a program. In Python memory allocation and deallocation method is automatic as the Python developers created a garbage collector for Python so that the user does not have to do manual garbage collection.\n",
    "    \n",
    "    2. Garbage collection: It is a process in which the interpreter frees up the memory when not in use to make it available for other objects. Assume a case where no reference is pointing to an object in memory i.e. it is not in use so, the virtual machine has a garbage collector that automatically deletes that object from the heap memory.\n",
    "    \n",
    "    3. Reference counting: It works by counting the number of times an object is referenced by other objects in the system. When references to an object are removed, the reference count for an object is decremented. When the reference count becomes zero, the object is deallocated."
   ]
  },
  {
   "cell_type": "markdown",
   "id": "33ded04f-89ec-4a1a-9253-4fe1658d4723",
   "metadata": {},
   "source": [
    "#### 15.\tHow to install python on windows and set path variables?\n",
    "    1. Download the python from https://www.python.org/downloads/\n",
    "    2. Run the installer by double clicking on the downloaded file and follow the screen-instructions.\n",
    "    3. Check the option to \"Add Python to PATH\" during installation."
   ]
  },
  {
   "cell_type": "markdown",
   "id": "6a2a0fab-2abc-4cfd-ba9d-1833935e4fa4",
   "metadata": {},
   "source": [
    "#### 16.\tIs indentation required in python?\n",
    "    YES"
   ]
  }
 ],
 "metadata": {
  "kernelspec": {
   "display_name": "Python 3 (ipykernel)",
   "language": "python",
   "name": "python3"
  },
  "language_info": {
   "codemirror_mode": {
    "name": "ipython",
    "version": 3
   },
   "file_extension": ".py",
   "mimetype": "text/x-python",
   "name": "python",
   "nbconvert_exporter": "python",
   "pygments_lexer": "ipython3",
   "version": "3.10.8"
  }
 },
 "nbformat": 4,
 "nbformat_minor": 5
}
