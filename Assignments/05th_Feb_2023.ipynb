{
 "cells": [
  {
   "cell_type": "markdown",
   "id": "c989caa6-a4e6-46cb-8192-71e69b457cb1",
   "metadata": {},
   "source": [
    "# 5 February 2023\n",
    "#### Author: AARYAN KAUSHIK"
   ]
  },
  {
   "cell_type": "markdown",
   "id": "1d5a3c40-c91f-46ff-aa36-6d8bcc6ab824",
   "metadata": {},
   "source": [
    "#### Q1. Explain Class and Object with respect to Object-Oriented Programming. Give a suitable example.\n",
    "    A class is a bluprint template for creating objects. whereas object is an instance of a class."
   ]
  },
  {
   "cell_type": "code",
   "execution_count": 1,
   "id": "b9bd2ef9-9b3a-43f4-b37b-58eeefca733b",
   "metadata": {},
   "outputs": [],
   "source": [
    "### 1\n",
    "class greeting:   # This is the class. \n",
    "    \n",
    "    def hey(self):    # this is function inside the class.\n",
    "        print(\"Hello!! how are you???\")"
   ]
  },
  {
   "cell_type": "code",
   "execution_count": 2,
   "id": "ba1cd4bf-a0fe-49ee-8e87-34019cf9274d",
   "metadata": {},
   "outputs": [],
   "source": [
    "n = greeting()   # this is the object that we have created"
   ]
  },
  {
   "cell_type": "code",
   "execution_count": 3,
   "id": "db9b0c0e-668e-45d5-bc09-7771ac357687",
   "metadata": {},
   "outputs": [
    {
     "name": "stdout",
     "output_type": "stream",
     "text": [
      "Hello!! how are you???\n"
     ]
    }
   ],
   "source": [
    "n.hey()     # calling of hey function"
   ]
  },
  {
   "cell_type": "markdown",
   "id": "5e21b71f-f150-45bf-a4d4-514b52eade65",
   "metadata": {},
   "source": [
    "#### Q2. Name the four pillars of OOPs.\n",
    "    1 . Inheritance \n",
    "    2. Polymorphism \n",
    "    3. Encapsulation \n",
    "    4. Abstraction."
   ]
  },
  {
   "cell_type": "markdown",
   "id": "a2d04cea-2033-42f3-9a59-4920630fded4",
   "metadata": {},
   "source": [
    "#### Q3. Explain why the __init__() function is used. Give a suitable example.\n",
    "    the init() function is used to assign values to object properties, or other operations that are necessary to do when the object is being created."
   ]
  },
  {
   "cell_type": "code",
   "execution_count": 4,
   "id": "12e0214d-ef1e-4ceb-8030-5373e8a2f1ed",
   "metadata": {},
   "outputs": [],
   "source": [
    "### 3\n",
    "class person:\n",
    "    \n",
    "    def __init__(self,name,sport):  # here __init__ is used to input the variables inside the class.\n",
    "        self.name=name\n",
    "        self.sport=sport\n",
    "        \n",
    "    def return_items(self):\n",
    "        return f\"hey {self.name}, your favourite sports is {self.sport}\""
   ]
  },
  {
   "cell_type": "code",
   "execution_count": 5,
   "id": "ba3b5a0d-b72d-427d-b034-0bb0dcd9f4fe",
   "metadata": {},
   "outputs": [],
   "source": [
    "n = person(\"aaryan\",\"cricket\")"
   ]
  },
  {
   "cell_type": "code",
   "execution_count": 6,
   "id": "c3b29843-fc30-49c5-895c-a68984c8f907",
   "metadata": {},
   "outputs": [
    {
     "data": {
      "text/plain": [
       "'hey aaryan, your favourite sports is cricket'"
      ]
     },
     "execution_count": 6,
     "metadata": {},
     "output_type": "execute_result"
    }
   ],
   "source": [
    "n.return_items()"
   ]
  },
  {
   "cell_type": "code",
   "execution_count": 7,
   "id": "72de4736-7940-4bae-9202-b902cc1bde44",
   "metadata": {},
   "outputs": [
    {
     "data": {
      "text/plain": [
       "'aaryan'"
      ]
     },
     "execution_count": 7,
     "metadata": {},
     "output_type": "execute_result"
    }
   ],
   "source": [
    "n.name"
   ]
  },
  {
   "cell_type": "code",
   "execution_count": 8,
   "id": "cf228d04-fc54-43d0-a500-79eba178c7e6",
   "metadata": {},
   "outputs": [
    {
     "data": {
      "text/plain": [
       "'cricket'"
      ]
     },
     "execution_count": 8,
     "metadata": {},
     "output_type": "execute_result"
    }
   ],
   "source": [
    "n.sport"
   ]
  },
  {
   "cell_type": "code",
   "execution_count": 10,
   "id": "7536007e-3abd-44ec-b154-54d09cfec9a7",
   "metadata": {},
   "outputs": [
    {
     "name": "stdout",
     "output_type": "stream",
     "text": [
      "<class '__main__.person'>\n"
     ]
    }
   ],
   "source": [
    "print(type(n))"
   ]
  },
  {
   "cell_type": "markdown",
   "id": "cc3896ec-2bed-4891-8906-4f2cd8b6bddb",
   "metadata": {},
   "source": [
    "#### Q4. Why self is used in OOPs?\n",
    "    The self parameter is a reference to the current instance of the class, and is used to access variables that belongs to the class.\n"
   ]
  },
  {
   "cell_type": "code",
   "execution_count": 11,
   "id": "c52f52cf-a930-4216-90db-4bba4d78ca49",
   "metadata": {},
   "outputs": [],
   "source": [
    "### 4\n",
    "class car:\n",
    "    def __init__(self,name,fuel):\n",
    "        self.name=name\n",
    "        self.fuel=fuel\n",
    "        \n",
    "    def car_details(self):    # here we have written self to access the variable that belongs to this class\n",
    "        return f\"{self.name} need to have enough {self.fuel} to drive.\"\n"
   ]
  },
  {
   "cell_type": "code",
   "execution_count": 12,
   "id": "4256fce5-1484-44ac-8b94-dcbdb8faaac9",
   "metadata": {},
   "outputs": [],
   "source": [
    "car1 = car(\"centro\",\"CNG\")"
   ]
  },
  {
   "cell_type": "code",
   "execution_count": 13,
   "id": "79b5d6d2-29be-4fd9-9eac-64987e4a2f98",
   "metadata": {},
   "outputs": [
    {
     "data": {
      "text/plain": [
       "('centro', 'CNG')"
      ]
     },
     "execution_count": 13,
     "metadata": {},
     "output_type": "execute_result"
    }
   ],
   "source": [
    "car1.name,car1.fuel"
   ]
  },
  {
   "cell_type": "code",
   "execution_count": 14,
   "id": "f8241af5-7e1f-44c2-9926-33a08c616c3b",
   "metadata": {},
   "outputs": [
    {
     "data": {
      "text/plain": [
       "'centro need to have enough CNG to drive.'"
      ]
     },
     "execution_count": 14,
     "metadata": {},
     "output_type": "execute_result"
    }
   ],
   "source": [
    "car1.car_details()"
   ]
  },
  {
   "cell_type": "markdown",
   "id": "b72006cd-472d-4977-9009-3853c4431497",
   "metadata": {},
   "source": [
    "#### Q5. What is inheritance? Give an example for each type of inheritance.\n",
    "    Inheritance provides the reusability of a code. We don’t have to write the same code again and again. Also, it allows us to add more features to a class without modifying it.\n",
    "    \n",
    "    Parent class : The class which got inherited is called a parent class or superclass or base class.\n",
    "    Child class : The class which inherited the parent class is called a child class or subclass or derived class or extended class.\n",
    "    \n",
    "    Types of inheritance in python.\n",
    "    1.single inheritance\n",
    "    2.Multiple inheritance\n",
    "    3.Multilevel inheritance"
   ]
  },
  {
   "cell_type": "code",
   "execution_count": 16,
   "id": "e56f5315-1eff-4b46-83f6-d2b539415a36",
   "metadata": {},
   "outputs": [],
   "source": [
    "### single inheritance\n",
    " \n",
    "class Parent:    # This is Parent class\n",
    "    def f1(self):\n",
    "        print(\"This is parent class..\") \n",
    "\n",
    "class Child(Parent):  # this is derived/child class.\n",
    "    def f2(self):\n",
    "        print(\"This is child class...\")"
   ]
  },
  {
   "cell_type": "code",
   "execution_count": 17,
   "id": "c7b8fbb6-ff28-439a-938b-8c104adc7fc2",
   "metadata": {},
   "outputs": [],
   "source": [
    "a = Parent()"
   ]
  },
  {
   "cell_type": "code",
   "execution_count": 18,
   "id": "1f11b8ad-5141-44f5-ae3c-6ea686392281",
   "metadata": {},
   "outputs": [
    {
     "name": "stdout",
     "output_type": "stream",
     "text": [
      "This is parent class..\n"
     ]
    }
   ],
   "source": [
    "a.f1()"
   ]
  },
  {
   "cell_type": "code",
   "execution_count": 19,
   "id": "be5a5204-821d-44ee-b256-8dd4333e4b38",
   "metadata": {},
   "outputs": [],
   "source": [
    "b = Child() "
   ]
  },
  {
   "cell_type": "code",
   "execution_count": 20,
   "id": "92339eb8-4c18-4b0b-8cf2-033e5d4aaec2",
   "metadata": {},
   "outputs": [
    {
     "name": "stdout",
     "output_type": "stream",
     "text": [
      "This is child class...\n"
     ]
    }
   ],
   "source": [
    "b.f2()"
   ]
  },
  {
   "cell_type": "code",
   "execution_count": 21,
   "id": "28496052-f3b9-48b8-b422-1aff70d084bc",
   "metadata": {},
   "outputs": [
    {
     "name": "stdout",
     "output_type": "stream",
     "text": [
      "This is parent class..\n"
     ]
    }
   ],
   "source": [
    "b.f1() "
   ]
  },
  {
   "cell_type": "code",
   "execution_count": 22,
   "id": "c37be524-ad8f-47d1-aeae-3df1167cf5ea",
   "metadata": {},
   "outputs": [],
   "source": [
    "# multiple inheritance\n",
    " \n",
    "class Parent1:    # This is Parent class\n",
    "    def f1(self):\n",
    "        print(\"This is parent class 1 ..\") \n",
    "        \n",
    "class Parent2:\n",
    "    def f2(self):\n",
    "        print(\"This is parent class 2 ..\") \n",
    "\n",
    "class Child(Parent1, Parent2):  # this is derived/child class.\n",
    "    def f3(self):\n",
    "        print(\"This is child class of parent 1 and 2...\")"
   ]
  },
  {
   "cell_type": "code",
   "execution_count": 23,
   "id": "a71811fa-27f1-445f-9363-c57849d3a4fc",
   "metadata": {},
   "outputs": [],
   "source": [
    "a = Child()"
   ]
  },
  {
   "cell_type": "code",
   "execution_count": 24,
   "id": "91a89cd9-8c26-45d9-af42-5377676cca13",
   "metadata": {},
   "outputs": [
    {
     "name": "stdout",
     "output_type": "stream",
     "text": [
      "This is child class of parent 1 and 2...\n"
     ]
    }
   ],
   "source": [
    "a.f3() "
   ]
  },
  {
   "cell_type": "code",
   "execution_count": 25,
   "id": "00eb18ff-cbab-47fc-8c09-a2b295371271",
   "metadata": {},
   "outputs": [
    {
     "name": "stdout",
     "output_type": "stream",
     "text": [
      "This is parent class 1 ..\n"
     ]
    }
   ],
   "source": [
    "a.f1()"
   ]
  },
  {
   "cell_type": "code",
   "execution_count": 26,
   "id": "a97b9253-6eb1-4285-823d-35393b81db93",
   "metadata": {},
   "outputs": [
    {
     "name": "stdout",
     "output_type": "stream",
     "text": [
      "This is parent class 2 ..\n"
     ]
    }
   ],
   "source": [
    "a.f2() "
   ]
  },
  {
   "cell_type": "code",
   "execution_count": null,
   "id": "733ae8b4-d81b-40b3-b525-105d8ec44ae9",
   "metadata": {},
   "outputs": [],
   "source": []
  },
  {
   "cell_type": "code",
   "execution_count": null,
   "id": "4c559eb3-4ed1-4fee-906d-28682a8d5169",
   "metadata": {},
   "outputs": [],
   "source": []
  },
  {
   "cell_type": "code",
   "execution_count": null,
   "id": "1755972c-76fc-4439-82e2-2ce7bbe2eb10",
   "metadata": {},
   "outputs": [],
   "source": []
  },
  {
   "cell_type": "code",
   "execution_count": null,
   "id": "d48112e8-3c2c-4344-90d8-5279802e6be6",
   "metadata": {},
   "outputs": [],
   "source": []
  },
  {
   "cell_type": "code",
   "execution_count": null,
   "id": "00a418b1-68f0-45bd-be52-3ac5de1e74de",
   "metadata": {},
   "outputs": [],
   "source": []
  },
  {
   "cell_type": "code",
   "execution_count": null,
   "id": "49033ec5-72b8-46d2-a932-34c6b807996c",
   "metadata": {},
   "outputs": [],
   "source": []
  }
 ],
 "metadata": {
  "kernelspec": {
   "display_name": "Python 3 (ipykernel)",
   "language": "python",
   "name": "python3"
  },
  "language_info": {
   "codemirror_mode": {
    "name": "ipython",
    "version": 3
   },
   "file_extension": ".py",
   "mimetype": "text/x-python",
   "name": "python",
   "nbconvert_exporter": "python",
   "pygments_lexer": "ipython3",
   "version": "3.10.8"
  }
 },
 "nbformat": 4,
 "nbformat_minor": 5
}
