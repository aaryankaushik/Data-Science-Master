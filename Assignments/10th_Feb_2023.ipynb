{
 "cells": [
  {
   "cell_type": "markdown",
   "id": "39ac7673-fc21-4497-93d9-99c7c6f72271",
   "metadata": {},
   "source": [
    "# 10 February 2023\n",
    "#### Author: AARYAN KAUSHIK"
   ]
  },
  {
   "cell_type": "markdown",
   "id": "ffb9fb9c-9053-4a4c-a83f-70bbddf2cdf4",
   "metadata": {},
   "source": [
    "#### Q1. Which function is used to open a file? What are the different modes of opening a file? Explain each mode of file opening.\n",
    "    open() function is used to open the file.\n",
    "    f = open ( filename, mode )"
   ]
  },
  {
   "cell_type": "code",
   "execution_count": 1,
   "id": "45369dae-11c9-479f-859e-c2eb112c0405",
   "metadata": {},
   "outputs": [],
   "source": [
    "f = open(\"test_open.txt\",\"w\")"
   ]
  },
  {
   "cell_type": "code",
   "execution_count": 2,
   "id": "4b9cc5c1-a441-4856-9a96-c7ec8143388e",
   "metadata": {},
   "outputs": [],
   "source": [
    "# this is another methode of opening file.\n",
    "\n",
    "with open(\"test_open2.txt\",\"w\") as f:\n",
    "    data = f.write(\"this is my first line in file..\")"
   ]
  },
  {
   "cell_type": "markdown",
   "id": "56dfa02f-aa7c-4a93-b92f-a9ebfed7938b",
   "metadata": {},
   "source": [
    "    File Mode\tPurpose\n",
    "    r\topen an existing file for a read operation.\n",
    "    w\topen an existing file for a write operation. If the file already contains some data then it will be overridden but if the file is not present then it creates the file as well.\n",
    "    a\topen an existing file for append operation. It won’t override existing data.\n",
    "    r+\tTo read and write data into the file. The previous data in the file will be overridden.\n",
    "    w+\tTo write and read data. It will override existing data.\n",
    "    a+\tTo append and read data from the file. It won’t override existing data.\n"
   ]
  },
  {
   "cell_type": "markdown",
   "id": "6c74bee8-6263-4d4d-9f98-08a9c464bf62",
   "metadata": {},
   "source": [
    "#### Q2. Why close() function is used? Why is it important to close a file?\n",
    "    The close() function closes the connection between the python program and an open file. also it will save our work. if we dont close the file then there are chances we may end up losing some data from the file."
   ]
  },
  {
   "cell_type": "markdown",
   "id": "f42ad72c-ae4e-4cd3-b95e-1e2d95ea8bd3",
   "metadata": {},
   "source": [
    "#### Q3. Write a python program to create a text file. Write ‘I want to become a Data Scientist’ in that file. Then close the file. Open this file and read the content of the file."
   ]
  },
  {
   "cell_type": "code",
   "execution_count": 3,
   "id": "9cdd0029-4ef9-4458-a78d-3f14208c1acd",
   "metadata": {},
   "outputs": [],
   "source": [
    "# here is the code to create new text file and write into it..\n",
    "\n",
    "with open(\"my_test.txt\",\"w\") as f:\n",
    "    data = f.write(\"I want to become Data Scientist...\")  # writing line in the file..."
   ]
  },
  {
   "cell_type": "code",
   "execution_count": 4,
   "id": "ad23a67d-c22c-483c-be8d-aa8e91144d3c",
   "metadata": {},
   "outputs": [],
   "source": [
    "f.close()"
   ]
  },
  {
   "cell_type": "code",
   "execution_count": 5,
   "id": "e3904c2f-d1a6-4e72-a288-72eda0fe6849",
   "metadata": {},
   "outputs": [],
   "source": [
    "f = open(\"my_test.txt\",\"r\")"
   ]
  },
  {
   "cell_type": "code",
   "execution_count": 6,
   "id": "f0fce5fb-19bb-400c-948c-fd397c7aeb0b",
   "metadata": {},
   "outputs": [
    {
     "data": {
      "text/plain": [
       "'I want to become Data Scientist...'"
      ]
     },
     "execution_count": 6,
     "metadata": {},
     "output_type": "execute_result"
    }
   ],
   "source": [
    "f.read()"
   ]
  },
  {
   "cell_type": "code",
   "execution_count": 7,
   "id": "d11d8ba5-77ea-406f-bd64-d4ebfc0a0dac",
   "metadata": {},
   "outputs": [],
   "source": [
    "f.close()"
   ]
  },
  {
   "cell_type": "markdown",
   "id": "b608a596-c76d-40c4-85f4-d33eb8287cd0",
   "metadata": {},
   "source": [
    "#### Q4. Explain the following with python code: read(), readline() and readlines()."
   ]
  },
  {
   "cell_type": "code",
   "execution_count": 8,
   "id": "ba88af12-a0f0-4376-808e-f000cfdd3d87",
   "metadata": {},
   "outputs": [],
   "source": [
    "# here i have created new text file....\n",
    "f = open(\"test1.txt\",\"w+\")"
   ]
  },
  {
   "cell_type": "code",
   "execution_count": 9,
   "id": "4969041c-9216-498b-a3a4-91672166469b",
   "metadata": {},
   "outputs": [
    {
     "data": {
      "text/plain": [
       "64"
      ]
     },
     "execution_count": 9,
     "metadata": {},
     "output_type": "execute_result"
    }
   ],
   "source": [
    "f.write(\"this is first line...\\nthis is second line.\\nthis is third line...\")    # writing three lines into file....."
   ]
  },
  {
   "cell_type": "code",
   "execution_count": 10,
   "id": "d188a590-9abd-4dee-9ea8-3aa928c0ef7c",
   "metadata": {},
   "outputs": [
    {
     "data": {
      "text/plain": [
       "0"
      ]
     },
     "execution_count": 10,
     "metadata": {},
     "output_type": "execute_result"
    }
   ],
   "source": [
    "f.seek(0)  # to bring the pointer at 0"
   ]
  },
  {
   "cell_type": "code",
   "execution_count": 11,
   "id": "a1e5c4fb-2ea6-46cb-b675-a980c54c2baf",
   "metadata": {},
   "outputs": [
    {
     "data": {
      "text/plain": [
       "'this is first line...\\nthis is second line.\\nthis is third line...'"
      ]
     },
     "execution_count": 11,
     "metadata": {},
     "output_type": "execute_result"
    }
   ],
   "source": [
    "f.read()   # it will read all the lines from file......"
   ]
  },
  {
   "cell_type": "code",
   "execution_count": 12,
   "id": "d315205b-3153-419e-b5b9-34e669e59f47",
   "metadata": {},
   "outputs": [
    {
     "data": {
      "text/plain": [
       "'this is first line...\\n'"
      ]
     },
     "execution_count": 12,
     "metadata": {},
     "output_type": "execute_result"
    }
   ],
   "source": [
    "# readline() function will read line one by one....\n",
    "\n",
    "f.seek(0)\n",
    "f.readline()"
   ]
  },
  {
   "cell_type": "code",
   "execution_count": 13,
   "id": "778708a1-be94-4169-90fb-a732fd18fb8a",
   "metadata": {},
   "outputs": [
    {
     "data": {
      "text/plain": [
       "'this is second line.\\n'"
      ]
     },
     "execution_count": 13,
     "metadata": {},
     "output_type": "execute_result"
    }
   ],
   "source": [
    "f.readline()"
   ]
  },
  {
   "cell_type": "code",
   "execution_count": 14,
   "id": "5b59ccbd-36d0-451d-a679-ffd656616c17",
   "metadata": {},
   "outputs": [
    {
     "data": {
      "text/plain": [
       "'this is third line...'"
      ]
     },
     "execution_count": 14,
     "metadata": {},
     "output_type": "execute_result"
    }
   ],
   "source": [
    "f.readline()"
   ]
  },
  {
   "cell_type": "code",
   "execution_count": 15,
   "id": "e67a8401-d59c-4ce7-8caa-da99ca89cc03",
   "metadata": {},
   "outputs": [
    {
     "data": {
      "text/plain": [
       "['this is first line...\\n', 'this is second line.\\n', 'this is third line...']"
      ]
     },
     "execution_count": 15,
     "metadata": {},
     "output_type": "execute_result"
    }
   ],
   "source": [
    "# readlines() will return the list of lines together.. \n",
    "\n",
    "f.seek(0)\n",
    "f.readlines()"
   ]
  },
  {
   "cell_type": "code",
   "execution_count": 16,
   "id": "41015504-6766-4bef-b143-40e888723aa0",
   "metadata": {},
   "outputs": [
    {
     "name": "stdout",
     "output_type": "stream",
     "text": [
      "this is first line...\n",
      "\n",
      "this is second line.\n",
      "\n",
      "this is third line...\n"
     ]
    }
   ],
   "source": [
    "# using for loop to print all the lines from file..\n",
    "f.seek(0)\n",
    "\n",
    "for i in f.readlines():\n",
    "    print(i)"
   ]
  },
  {
   "cell_type": "code",
   "execution_count": 17,
   "id": "af0ff823-7dbc-49ee-b80d-34b793431590",
   "metadata": {},
   "outputs": [],
   "source": [
    "f.close()"
   ]
  },
  {
   "cell_type": "markdown",
   "id": "5132923e-6cc0-4e59-8cb2-936ac8da45a2",
   "metadata": {},
   "source": [
    "#### Q5. Explain why with statement is used with open(). What is the advantage of using with statement and open() together?\n",
    "    when we use with open() to work with file we dont need to close the file. python will close it automatically. no need to close the file with close() function.."
   ]
  },
  {
   "cell_type": "code",
   "execution_count": 18,
   "id": "14e2db1f-3b35-41a2-a532-c89af20ae45d",
   "metadata": {},
   "outputs": [],
   "source": [
    "with open(\"test_open2.txt\",\"w\") as f:\n",
    "    data = f.write(\"this is my first line in file..\")\n",
    "    \n",
    "# when blcok gets executed file get close automatically.."
   ]
  },
  {
   "cell_type": "markdown",
   "id": "960c9986-8b1d-4272-a3d5-d6aa05a73b85",
   "metadata": {},
   "source": [
    "#### Q6. Explain the write() and writelines() functions. Give a suitable example."
   ]
  },
  {
   "cell_type": "code",
   "execution_count": 19,
   "id": "3baa64dd-d6e9-4367-9590-8d49b10bc512",
   "metadata": {},
   "outputs": [],
   "source": [
    "with open(\"test2.txt\",\"w+\") as f:\n",
    "    x = f.write(\"this is my first line....\")   # write function used to write one line in file at a time....."
   ]
  },
  {
   "cell_type": "code",
   "execution_count": 20,
   "id": "bc017fbb-55e6-4db4-8e74-cb5f28e7fea4",
   "metadata": {},
   "outputs": [],
   "source": [
    "# if i want to append the list of lines in the file then we can use writelines method..\n",
    "\n",
    "lst=[\"first line\",\"second line\",\"third line\",\"fourth line\"]\n",
    "\n",
    "f = open(\"test2.txt\",\"w+\")\n",
    "f.writelines(lst)"
   ]
  },
  {
   "cell_type": "code",
   "execution_count": 21,
   "id": "f4006ca1-d63b-435b-ba1a-1506ba86c66c",
   "metadata": {},
   "outputs": [
    {
     "data": {
      "text/plain": [
       "0"
      ]
     },
     "execution_count": 21,
     "metadata": {},
     "output_type": "execute_result"
    }
   ],
   "source": [
    "f.seek(0)"
   ]
  },
  {
   "cell_type": "code",
   "execution_count": 22,
   "id": "ab63fa72-575f-43bc-9058-6444a5d73682",
   "metadata": {},
   "outputs": [
    {
     "data": {
      "text/plain": [
       "'first linesecond linethird linefourth line'"
      ]
     },
     "execution_count": 22,
     "metadata": {},
     "output_type": "execute_result"
    }
   ],
   "source": [
    "f.read()"
   ]
  },
  {
   "cell_type": "code",
   "execution_count": 23,
   "id": "d231a4c5-feb0-48ba-b9e9-51c3cd9f655e",
   "metadata": {},
   "outputs": [
    {
     "name": "stdout",
     "output_type": "stream",
     "text": [
      "first linesecond linethird linefourth line\n"
     ]
    }
   ],
   "source": [
    "f.seek(0)\n",
    "for i in f.readlines():\n",
    "    print(i)"
   ]
  }
 ],
 "metadata": {
  "kernelspec": {
   "display_name": "Python 3 (ipykernel)",
   "language": "python",
   "name": "python3"
  },
  "language_info": {
   "codemirror_mode": {
    "name": "ipython",
    "version": 3
   },
   "file_extension": ".py",
   "mimetype": "text/x-python",
   "name": "python",
   "nbconvert_exporter": "python",
   "pygments_lexer": "ipython3",
   "version": "3.10.8"
  }
 },
 "nbformat": 4,
 "nbformat_minor": 5
}
