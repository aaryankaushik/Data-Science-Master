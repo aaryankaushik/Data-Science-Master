{
 "cells": [
  {
   "cell_type": "markdown",
   "id": "564cf24f-4107-421d-9123-c7512fe3348e",
   "metadata": {},
   "source": [
    "# 7 February 2023\n",
    "#### Author: AARYAN KAUSHIK"
   ]
  },
  {
   "cell_type": "markdown",
   "id": "3dc4f592-3565-4852-bfed-e583886fcf52",
   "metadata": {},
   "source": [
    "#### Q1. You are writing code for a company. The requirement of the company is that you create a python function that will check whether the password entered by the user is correct or not. The function should take the password as input and return the string “Valid Password” if the entered password follows the below-given password guidelines else it should return “Invalid Password”.\n",
    "\n",
    "\n",
    "#### Note: \n",
    "\n",
    "#### 1. The Password should contain at least two uppercase letters and at least two lowercase letters.\n",
    "\n",
    "#### 2. The Password should contain at least a number and three special characters.\n",
    "\n",
    "#### 3. The length of the password should be 10 characters long."
   ]
  },
  {
   "cell_type": "code",
   "execution_count": 1,
   "id": "be68bd9a-6622-4845-aa22-526d1011a0de",
   "metadata": {},
   "outputs": [],
   "source": [
    "def check_password(n):\n",
    "        \n",
    "    # two upper case count\n",
    "    password_upper_case = False\n",
    "    \n",
    "    upper_count = 0\n",
    "    for i in n:\n",
    "        if i.isupper():\n",
    "            upper_count = upper_count+1\n",
    "            if upper_count == 2:\n",
    "                password_upper_case = True\n",
    "                \n",
    "                \n",
    "    # two lower case count\n",
    "    password_lower_case = False\n",
    "    \n",
    "    lower_count = 0\n",
    "    for i in n:\n",
    "        if i.islower():\n",
    "            lower_count = lower_count+1\n",
    "            if lower_count == 2:\n",
    "                password_lower_case = True\n",
    "                \n",
    "                \n",
    "    # atleast one integer\n",
    "    contain_int = False\n",
    "    \n",
    "    int_count = 0\n",
    "    for i in n:\n",
    "        if i.isnumeric()==True:\n",
    "            int_count = int_count + 1\n",
    "            contain_int = True\n",
    "            break\n",
    "    \n",
    "    # speical char count\n",
    "    char_lst = \"@_!#$%^&*()<>?/\\|}{~:]\"\n",
    "    \n",
    "    special_char = False\n",
    "    \n",
    "    char_count = 0\n",
    "    for i in n:\n",
    "        if i in char_lst:\n",
    "            char_count = char_count + 1\n",
    "            if char_count == 3:\n",
    "                special_char = True\n",
    "                break\n",
    "                \n",
    "                \n",
    "    # password length\n",
    "    password_length = False\n",
    "    if len(n) >= 10:\n",
    "        password_length = True\n",
    "    \n",
    "    \n",
    "    # checking all criteria..\n",
    "    if password_upper_case and password_lower_case and int_count and special_char and password_length:\n",
    "        return \"valid password\"\n",
    "    else:\n",
    "        return \"invalid password.\""
   ]
  },
  {
   "cell_type": "code",
   "execution_count": 2,
   "id": "12a9baf5-74b9-4bb3-bcb4-3932fbb5070b",
   "metadata": {},
   "outputs": [
    {
     "data": {
      "text/plain": [
       "'valid password'"
      ]
     },
     "execution_count": 2,
     "metadata": {},
     "output_type": "execute_result"
    }
   ],
   "source": [
    "check_password(\"Hello_Python@123$%\")"
   ]
  },
  {
   "cell_type": "code",
   "execution_count": 3,
   "id": "e4de5cb3-401e-40e4-af04-fd9bf35910a5",
   "metadata": {},
   "outputs": [
    {
     "data": {
      "text/plain": [
       "'invalid password.'"
      ]
     },
     "execution_count": 3,
     "metadata": {},
     "output_type": "execute_result"
    }
   ],
   "source": [
    "check_password(\"Hellopython\")"
   ]
  },
  {
   "cell_type": "markdown",
   "id": "91129883-a5cd-4b39-9dec-ddf5565cc8e7",
   "metadata": {},
   "source": [
    "#### Q2. Solve the below-given questions using at least one of the following: \n",
    "\n",
    "#### 1. Lambda function\n",
    "#### 2. Filter function\n",
    "#### 3. Zip function\n",
    "#### 4. List Comprehension\n",
    "\n",
    "#### - Check if the string starts with a particular letter\n",
    "#### - Check if the string is numeric\n",
    "#### - Sort a list of tuples having fruit names and their quantity. [(\"mango\",99),(\"orange\",80), (\"grapes\", 1000)]\n",
    "#### - Find the squares of numbers from 1 to 10\n",
    "#### - Find the cube root of numbers from 1 to 10\n",
    "#### - Check if a given number is even\n",
    "\n",
    "#### - Filter odd numbers from the given list. [1,2,3,4,5,6,7,8,9,10]\n",
    "#### - Sort a list of integers into positive and negative integers lists. [1,2,3,4,5,6,-1,-2,-3,-4,-5,0]"
   ]
  },
  {
   "cell_type": "code",
   "execution_count": 4,
   "id": "ce15897a-6981-4dd6-9025-bd1861210d8a",
   "metadata": {},
   "outputs": [],
   "source": [
    "# Check if the string starts with a particular letter\n",
    "str_with_letter = lambda x : \"Yes, string start with letter..\" if (x[0]).isalpha() else \"No,string do not start with letter.\""
   ]
  },
  {
   "cell_type": "code",
   "execution_count": 5,
   "id": "bc746327-8845-4feb-bb27-c79fd8e82fe3",
   "metadata": {},
   "outputs": [
    {
     "data": {
      "text/plain": [
       "'No,string do not start with letter.'"
      ]
     },
     "execution_count": 5,
     "metadata": {},
     "output_type": "execute_result"
    }
   ],
   "source": [
    "str_with_letter(\"123\")"
   ]
  },
  {
   "cell_type": "code",
   "execution_count": 6,
   "id": "c35e97a2-6dda-481a-871d-3327f772dac9",
   "metadata": {},
   "outputs": [
    {
     "data": {
      "text/plain": [
       "'Yes, string start with letter..'"
      ]
     },
     "execution_count": 6,
     "metadata": {},
     "output_type": "execute_result"
    }
   ],
   "source": [
    "str_with_letter(\"abc123\")"
   ]
  },
  {
   "cell_type": "code",
   "execution_count": 7,
   "id": "5da6386c-e579-4587-bdee-a4c0cc3b9589",
   "metadata": {},
   "outputs": [],
   "source": [
    "# Check if the string is numeric\n",
    "str_isnumeric = lambda x : x.isnumeric()"
   ]
  },
  {
   "cell_type": "code",
   "execution_count": 8,
   "id": "572e5d44-68db-4c71-9118-59f92d6d67a5",
   "metadata": {},
   "outputs": [
    {
     "data": {
      "text/plain": [
       "False"
      ]
     },
     "execution_count": 8,
     "metadata": {},
     "output_type": "execute_result"
    }
   ],
   "source": [
    "str_isnumeric(\"hello world\")"
   ]
  },
  {
   "cell_type": "code",
   "execution_count": 9,
   "id": "151eb00b-ed8a-4a01-b384-1274c7b1c34c",
   "metadata": {},
   "outputs": [
    {
     "data": {
      "text/plain": [
       "True"
      ]
     },
     "execution_count": 9,
     "metadata": {},
     "output_type": "execute_result"
    }
   ],
   "source": [
    "str_isnumeric(\"12345678910\")"
   ]
  },
  {
   "cell_type": "code",
   "execution_count": 10,
   "id": "828f6fdd-ea28-4a8c-a6b8-dbdaddf21d3a",
   "metadata": {},
   "outputs": [],
   "source": [
    "# Sort a list of tuples having fruit names and their quantity. \n",
    "n = [(\"mango\",99),(\"orange\",80), (\"grapes\", 1000)]\n",
    "n.sort(key=lambda x : x[1])"
   ]
  },
  {
   "cell_type": "code",
   "execution_count": 11,
   "id": "87394319-a3ae-43e6-ac60-debf2c871205",
   "metadata": {},
   "outputs": [
    {
     "data": {
      "text/plain": [
       "[('orange', 80), ('mango', 99), ('grapes', 1000)]"
      ]
     },
     "execution_count": 11,
     "metadata": {},
     "output_type": "execute_result"
    }
   ],
   "source": [
    "n"
   ]
  },
  {
   "cell_type": "code",
   "execution_count": 12,
   "id": "295e77cc-2116-47cf-a4e2-2d96c742e2ac",
   "metadata": {},
   "outputs": [],
   "source": [
    "# Find the squares of numbers from 1 to 10\n",
    "num_square = [i**2 for i in range(1,11)]"
   ]
  },
  {
   "cell_type": "code",
   "execution_count": 13,
   "id": "3852a696-b93f-43b2-803f-2a7ff59d32ad",
   "metadata": {},
   "outputs": [
    {
     "data": {
      "text/plain": [
       "[1, 4, 9, 16, 25, 36, 49, 64, 81, 100]"
      ]
     },
     "execution_count": 13,
     "metadata": {},
     "output_type": "execute_result"
    }
   ],
   "source": [
    "num_square"
   ]
  },
  {
   "cell_type": "code",
   "execution_count": 14,
   "id": "1dde7a98-1769-4ff6-ac5e-08067a77eb69",
   "metadata": {},
   "outputs": [],
   "source": [
    "# Find the cube root of numbers from 1 to 10\n",
    "num_cube = [i**3 for i in range(1,11)]"
   ]
  },
  {
   "cell_type": "code",
   "execution_count": 15,
   "id": "24fff159-bbe5-4297-bc30-b15cb55b07ce",
   "metadata": {},
   "outputs": [
    {
     "data": {
      "text/plain": [
       "[1, 8, 27, 64, 125, 216, 343, 512, 729, 1000]"
      ]
     },
     "execution_count": 15,
     "metadata": {},
     "output_type": "execute_result"
    }
   ],
   "source": [
    "num_cube"
   ]
  },
  {
   "cell_type": "code",
   "execution_count": 16,
   "id": "60ac094c-b396-427a-9844-0f6f5ef0ad86",
   "metadata": {},
   "outputs": [],
   "source": [
    "# Check if a given number is even\n",
    "even_check = lambda x : x%2==0"
   ]
  },
  {
   "cell_type": "code",
   "execution_count": 17,
   "id": "5095a8ab-469b-4b2e-819f-e6dc77310f98",
   "metadata": {},
   "outputs": [
    {
     "data": {
      "text/plain": [
       "False"
      ]
     },
     "execution_count": 17,
     "metadata": {},
     "output_type": "execute_result"
    }
   ],
   "source": [
    "even_check(3)"
   ]
  },
  {
   "cell_type": "code",
   "execution_count": 18,
   "id": "19effd56-1814-47b4-b617-a23e6ea5e080",
   "metadata": {},
   "outputs": [
    {
     "data": {
      "text/plain": [
       "True"
      ]
     },
     "execution_count": 18,
     "metadata": {},
     "output_type": "execute_result"
    }
   ],
   "source": [
    "even_check(8)"
   ]
  },
  {
   "cell_type": "code",
   "execution_count": 19,
   "id": "766f7cce-3415-4a87-8919-60c68a91cb34",
   "metadata": {},
   "outputs": [],
   "source": [
    "# Filter odd numbers from the given list. [1,2,3,4,5,6,7,8,9,10]\n",
    "lst = [1,2,3,4,5,6,7,8,9,10]"
   ]
  },
  {
   "cell_type": "code",
   "execution_count": 20,
   "id": "0e933e72-2cc6-49da-b7d6-14754869f4f6",
   "metadata": {},
   "outputs": [
    {
     "data": {
      "text/plain": [
       "[1, 3, 5, 7, 9]"
      ]
     },
     "execution_count": 20,
     "metadata": {},
     "output_type": "execute_result"
    }
   ],
   "source": [
    "list(filter(lambda x : x%2!=0 , lst))"
   ]
  },
  {
   "cell_type": "code",
   "execution_count": 21,
   "id": "c7888406-9b4b-4425-b28c-cb02168c5f0d",
   "metadata": {},
   "outputs": [],
   "source": [
    "# Sort a list of integers into positive and negative integers lists. \n",
    "n = [1,2,3,4,5,6,-1,-2,-3,-4,-5,0]\n",
    "positive_int = list(filter(lambda x : x >=0 , n))\n",
    "negative_int = list(filter(lambda x : x < 0 , n))"
   ]
  },
  {
   "cell_type": "code",
   "execution_count": 22,
   "id": "0de3cca4-3b39-42f2-a23a-37bd6535b727",
   "metadata": {},
   "outputs": [
    {
     "data": {
      "text/plain": [
       "[1, 2, 3, 4, 5, 6, 0]"
      ]
     },
     "execution_count": 22,
     "metadata": {},
     "output_type": "execute_result"
    }
   ],
   "source": [
    "positive_int"
   ]
  },
  {
   "cell_type": "code",
   "execution_count": 23,
   "id": "0acc72cf-5b7d-4e79-9497-ddbede3110cd",
   "metadata": {},
   "outputs": [
    {
     "data": {
      "text/plain": [
       "[-1, -2, -3, -4, -5]"
      ]
     },
     "execution_count": 23,
     "metadata": {},
     "output_type": "execute_result"
    }
   ],
   "source": [
    "negative_int"
   ]
  },
  {
   "cell_type": "code",
   "execution_count": null,
   "id": "f5b11dee-a26a-4990-93c7-42b2518970a2",
   "metadata": {},
   "outputs": [],
   "source": []
  }
 ],
 "metadata": {
  "kernelspec": {
   "display_name": "Python 3 (ipykernel)",
   "language": "python",
   "name": "python3"
  },
  "language_info": {
   "codemirror_mode": {
    "name": "ipython",
    "version": 3
   },
   "file_extension": ".py",
   "mimetype": "text/x-python",
   "name": "python",
   "nbconvert_exporter": "python",
   "pygments_lexer": "ipython3",
   "version": "3.10.8"
  }
 },
 "nbformat": 4,
 "nbformat_minor": 5
}
