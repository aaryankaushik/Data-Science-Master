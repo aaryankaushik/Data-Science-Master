{
 "cells": [
  {
   "cell_type": "markdown",
   "id": "8d6d6abb-afdb-40c8-a35e-d54914fe5328",
   "metadata": {},
   "source": [
    "# 3 February 2023\n",
    "#### Author: AARYAN KAUSHIK"
   ]
  },
  {
   "cell_type": "markdown",
   "id": "4fe432fc-f0ab-460b-a9ce-2ddcaa49e574",
   "metadata": {},
   "source": [
    "#### Q1. Which keyword is used to create a function? Create a function to return a list of odd numbers in the range of 1 to 25.\n",
    "    def key word is used to create function in python"
   ]
  },
  {
   "cell_type": "code",
   "execution_count": 2,
   "id": "de8d41c4-b137-42a1-ba95-a6e6a122cffe",
   "metadata": {},
   "outputs": [
    {
     "data": {
      "text/plain": [
       "[1, 3, 5, 7, 9, 11, 13, 15, 17, 19, 21, 23, 25]"
      ]
     },
     "execution_count": 2,
     "metadata": {},
     "output_type": "execute_result"
    }
   ],
   "source": [
    "### 1\n",
    "def odd_num(n):\n",
    "    lst_odd_num = []\n",
    "    for i in range(1,n+1):\n",
    "        if i%2!=0:\n",
    "            lst_odd_num.append(i)\n",
    "    return lst_odd_num\n",
    "odd_num(25)"
   ]
  },
  {
   "cell_type": "markdown",
   "id": "c99c97cb-a786-4fd2-84c8-a7d426854778",
   "metadata": {},
   "source": [
    "#### Q2. Why *args and **kwargs is used in some functions? Create a function each for *args and **kwargs to demonstrate their use.\n",
    "    *args is used to pass multiple non-keyword arguments in function.\n",
    "    **kwargs is used to pass multiple key-word arguments in function."
   ]
  },
  {
   "cell_type": "code",
   "execution_count": 5,
   "id": "616025c7-b534-41b2-a632-6c5e34d4ad15",
   "metadata": {},
   "outputs": [],
   "source": [
    "### 2\n",
    "def test_1(*args):\n",
    "    for i in args:\n",
    "        print(i)"
   ]
  },
  {
   "cell_type": "code",
   "execution_count": 6,
   "id": "5348e48f-d275-46cc-94c8-e23608a489ae",
   "metadata": {},
   "outputs": [
    {
     "name": "stdout",
     "output_type": "stream",
     "text": [
      "1\n",
      "2.5\n",
      "True\n",
      "(2+6j)\n",
      "Python\n",
      "[1, 2, 3, 4, 5, 6]\n",
      "{'key': 'value'}\n",
      "(1, 2, 3, 4)\n"
     ]
    }
   ],
   "source": [
    "test_1(1,2.5,True,2+6j,\"Python\",[1,2,3,4,5,6],{\"key\":\"value\"},(1,2,3,4))"
   ]
  },
  {
   "cell_type": "code",
   "execution_count": 7,
   "id": "717596d6-a9c0-4fec-89b5-fa703993afc8",
   "metadata": {},
   "outputs": [],
   "source": [
    "### 2\n",
    "def test_2(**kwargs):\n",
    "    for i in kwargs.items():\n",
    "        print(i)"
   ]
  },
  {
   "cell_type": "code",
   "execution_count": 8,
   "id": "2c43634b-3350-4dab-af22-f6763f2fc564",
   "metadata": {},
   "outputs": [
    {
     "name": "stdout",
     "output_type": "stream",
     "text": [
      "('a', 1)\n",
      "('b', 2.5)\n",
      "('c', True)\n",
      "('d', [1, 2, 3, 4, 5])\n",
      "('e', {1, 2, 3, 45})\n"
     ]
    }
   ],
   "source": [
    "test_2(a=1,b=2.5,c=True,d=[1,2,3,4,5],e={1,2,3,45})"
   ]
  },
  {
   "cell_type": "markdown",
   "id": "403a4ca6-4f6a-47fb-86f8-950358d40520",
   "metadata": {},
   "source": [
    "#### Q3. What is an iterator in python? Name the method used to initialise the iterator object and the method used for iteration. Use these methods to print the first five elements of the given list [2, 4, 6, 8, 10, 12, 14, 16, 18, 20].\n",
    "    Iterator in Python is an object that is used to iterate over iterable objects like lists, tuples, dicts, and sets.\n",
    "    The iterator object is initialized using the iter() method.\n",
    "    It uses the next() method for iteration."
   ]
  },
  {
   "cell_type": "code",
   "execution_count": 9,
   "id": "c40a8828-b1b5-4f3e-9351-d44be44f9bbe",
   "metadata": {},
   "outputs": [],
   "source": [
    "l = [2,4,6,8,10,12,14,16,18,20]"
   ]
  },
  {
   "cell_type": "code",
   "execution_count": 10,
   "id": "b5967d86-a321-4d07-b9a7-4b7f39877b55",
   "metadata": {},
   "outputs": [],
   "source": [
    "x = iter(l)"
   ]
  },
  {
   "cell_type": "code",
   "execution_count": 11,
   "id": "8a280933-773f-4272-b321-ada15daf35ff",
   "metadata": {},
   "outputs": [
    {
     "data": {
      "text/plain": [
       "2"
      ]
     },
     "execution_count": 11,
     "metadata": {},
     "output_type": "execute_result"
    }
   ],
   "source": [
    "next(x)"
   ]
  },
  {
   "cell_type": "code",
   "execution_count": 12,
   "id": "1705409e-1193-4f7a-8757-2222cf85bd76",
   "metadata": {},
   "outputs": [
    {
     "data": {
      "text/plain": [
       "4"
      ]
     },
     "execution_count": 12,
     "metadata": {},
     "output_type": "execute_result"
    }
   ],
   "source": [
    "next(x)"
   ]
  },
  {
   "cell_type": "code",
   "execution_count": 13,
   "id": "b866ff4d-2973-408c-a806-a2fbfaac1990",
   "metadata": {},
   "outputs": [
    {
     "name": "stdout",
     "output_type": "stream",
     "text": [
      "2\n",
      "4\n",
      "6\n",
      "8\n",
      "10\n",
      "12\n",
      "14\n",
      "16\n",
      "18\n",
      "20\n"
     ]
    }
   ],
   "source": [
    "### 3 using for loop\n",
    "y = iter(l)\n",
    "\n",
    "for i in y:\n",
    "    print(i)"
   ]
  },
  {
   "cell_type": "markdown",
   "id": "273f2c62-1969-4eba-82a2-2c6b24a0234d",
   "metadata": {},
   "source": [
    "#### Q4. What is a generator function in python? Why yield keyword is used? Give an example of a generator function.\n",
    "    In a generator function, a yield statement is used rather than a return statement.\n",
    "    Here, the yield keyword is used to produce a value from the generator.\n",
    "    When the generator function is called, it does not execute the function body immediately.\n",
    "    Instead, it returns a generator object that can be iterated over to produce the values."
   ]
  },
  {
   "cell_type": "code",
   "execution_count": 14,
   "id": "4556c796-24c6-4aa9-b946-663477d6a1bb",
   "metadata": {},
   "outputs": [],
   "source": [
    "def gen_cube(n):\n",
    "    for i in range(n):\n",
    "        yield i**3"
   ]
  },
  {
   "cell_type": "code",
   "execution_count": 19,
   "id": "14d2d095-1736-4a92-9457-be690743245b",
   "metadata": {},
   "outputs": [
    {
     "data": {
      "text/plain": [
       "generator"
      ]
     },
     "execution_count": 19,
     "metadata": {},
     "output_type": "execute_result"
    }
   ],
   "source": [
    "type(gen_cube(9))"
   ]
  },
  {
   "cell_type": "code",
   "execution_count": 20,
   "id": "6f55d24b-5442-4cbb-9eb0-cab3431c420c",
   "metadata": {},
   "outputs": [
    {
     "data": {
      "text/plain": [
       "<generator object gen_cube at 0x7f95d02f6030>"
      ]
     },
     "execution_count": 20,
     "metadata": {},
     "output_type": "execute_result"
    }
   ],
   "source": [
    "gen_cube(9)"
   ]
  },
  {
   "cell_type": "code",
   "execution_count": 21,
   "id": "9aac52a9-7bac-4d6d-ab54-5e24bed1691c",
   "metadata": {},
   "outputs": [
    {
     "name": "stdout",
     "output_type": "stream",
     "text": [
      "0\n",
      "1\n",
      "8\n",
      "27\n",
      "64\n",
      "125\n",
      "216\n",
      "343\n",
      "512\n"
     ]
    }
   ],
   "source": [
    "### for loop to get the value\n",
    "for i in gen_cube(9):\n",
    "    print(i)"
   ]
  },
  {
   "cell_type": "markdown",
   "id": "afbbfb95-74b1-4419-8ad3-99a3f238ca06",
   "metadata": {},
   "source": [
    "#### Q5. Create a generator function for prime numbers less than 1000. Use the next() method to print the first 20 prime numbers."
   ]
  },
  {
   "cell_type": "code",
   "execution_count": 22,
   "id": "07f0d365-4e24-4986-87cb-2477d2b257ff",
   "metadata": {},
   "outputs": [],
   "source": [
    "def prime_num(n):\n",
    "    for i in range(1,n+1):\n",
    "        for j in range(2,i):\n",
    "            if i%j==0:\n",
    "                break\n",
    "        else:\n",
    "            yield i"
   ]
  },
  {
   "cell_type": "code",
   "execution_count": 23,
   "id": "8e65b1b4-3630-42eb-b26a-c06ed8be1cdf",
   "metadata": {},
   "outputs": [
    {
     "data": {
      "text/plain": [
       "<generator object prime_num at 0x7f95d02f6260>"
      ]
     },
     "execution_count": 23,
     "metadata": {},
     "output_type": "execute_result"
    }
   ],
   "source": [
    "prime_num(1000)"
   ]
  },
  {
   "cell_type": "code",
   "execution_count": 24,
   "id": "252ec1e1-d3ed-4415-b4ee-3c7b2101ff70",
   "metadata": {},
   "outputs": [
    {
     "name": "stdout",
     "output_type": "stream",
     "text": [
      "1\n",
      "2\n",
      "3\n",
      "5\n",
      "7\n",
      "11\n",
      "13\n",
      "17\n",
      "19\n",
      "23\n",
      "29\n",
      "31\n",
      "37\n",
      "41\n",
      "43\n",
      "47\n",
      "53\n",
      "59\n",
      "61\n",
      "67\n",
      "71\n"
     ]
    }
   ],
   "source": [
    "#  for loop to print first 20 prime number\n",
    "count = 0\n",
    "for i in prime_num(1000):\n",
    "    if count<=20:\n",
    "        print(i)\n",
    "    else:\n",
    "        break\n",
    "    count = count +1"
   ]
  },
  {
   "cell_type": "code",
   "execution_count": 25,
   "id": "c1406d40-a7ea-4118-92ac-5d71b0f7e9f0",
   "metadata": {},
   "outputs": [],
   "source": [
    "x=prime_num(1000)"
   ]
  },
  {
   "cell_type": "code",
   "execution_count": 30,
   "id": "4e6c24b8-0057-4f55-87b9-d9ed22979a5f",
   "metadata": {},
   "outputs": [
    {
     "data": {
      "text/plain": [
       "1"
      ]
     },
     "execution_count": 30,
     "metadata": {},
     "output_type": "execute_result"
    }
   ],
   "source": [
    "next(x)"
   ]
  },
  {
   "cell_type": "code",
   "execution_count": 31,
   "id": "d17d51cc-0ec7-42b2-8c92-6ff831821fa8",
   "metadata": {},
   "outputs": [
    {
     "data": {
      "text/plain": [
       "2"
      ]
     },
     "execution_count": 31,
     "metadata": {},
     "output_type": "execute_result"
    }
   ],
   "source": [
    "next(x)"
   ]
  },
  {
   "cell_type": "code",
   "execution_count": 32,
   "id": "a99c85a1-4596-427e-8a04-ac2772f57a63",
   "metadata": {},
   "outputs": [
    {
     "data": {
      "text/plain": [
       "3"
      ]
     },
     "execution_count": 32,
     "metadata": {},
     "output_type": "execute_result"
    }
   ],
   "source": [
    "next(x)"
   ]
  },
  {
   "cell_type": "code",
   "execution_count": 33,
   "id": "ad455306-a2d0-45d7-af57-68b0ee4c0398",
   "metadata": {},
   "outputs": [
    {
     "data": {
      "text/plain": [
       "5"
      ]
     },
     "execution_count": 33,
     "metadata": {},
     "output_type": "execute_result"
    }
   ],
   "source": [
    "next(x)"
   ]
  },
  {
   "cell_type": "code",
   "execution_count": 34,
   "id": "5a1a5253-7fff-4e61-b649-32e4f1990587",
   "metadata": {},
   "outputs": [
    {
     "data": {
      "text/plain": [
       "7"
      ]
     },
     "execution_count": 34,
     "metadata": {},
     "output_type": "execute_result"
    }
   ],
   "source": [
    "next(x)"
   ]
  },
  {
   "cell_type": "code",
   "execution_count": 35,
   "id": "52544e36-e0c5-4aa8-bf75-6b0682b47745",
   "metadata": {},
   "outputs": [
    {
     "data": {
      "text/plain": [
       "11"
      ]
     },
     "execution_count": 35,
     "metadata": {},
     "output_type": "execute_result"
    }
   ],
   "source": [
    "next(x)"
   ]
  },
  {
   "cell_type": "code",
   "execution_count": 36,
   "id": "53ad3070-f91d-4764-89d4-eb5413a82a3d",
   "metadata": {},
   "outputs": [
    {
     "data": {
      "text/plain": [
       "13"
      ]
     },
     "execution_count": 36,
     "metadata": {},
     "output_type": "execute_result"
    }
   ],
   "source": [
    "next(x)"
   ]
  },
  {
   "cell_type": "code",
   "execution_count": 37,
   "id": "0844aed9-0811-4b68-9526-043f9da84b0b",
   "metadata": {},
   "outputs": [
    {
     "data": {
      "text/plain": [
       "17"
      ]
     },
     "execution_count": 37,
     "metadata": {},
     "output_type": "execute_result"
    }
   ],
   "source": [
    "next(x)"
   ]
  },
  {
   "cell_type": "code",
   "execution_count": 38,
   "id": "f97034fb-c148-4a7b-b0c9-4034c0bfab77",
   "metadata": {},
   "outputs": [
    {
     "data": {
      "text/plain": [
       "19"
      ]
     },
     "execution_count": 38,
     "metadata": {},
     "output_type": "execute_result"
    }
   ],
   "source": [
    "next(x)"
   ]
  },
  {
   "cell_type": "code",
   "execution_count": 39,
   "id": "4b1fb807-ae32-4adf-8415-62fb410961fc",
   "metadata": {},
   "outputs": [
    {
     "data": {
      "text/plain": [
       "23"
      ]
     },
     "execution_count": 39,
     "metadata": {},
     "output_type": "execute_result"
    }
   ],
   "source": [
    "next(x)"
   ]
  },
  {
   "cell_type": "code",
   "execution_count": 41,
   "id": "23f57dd3-6e53-4dbe-8147-90b08487fdb4",
   "metadata": {},
   "outputs": [
    {
     "data": {
      "text/plain": [
       "29"
      ]
     },
     "execution_count": 41,
     "metadata": {},
     "output_type": "execute_result"
    }
   ],
   "source": [
    "next(x)"
   ]
  },
  {
   "cell_type": "code",
   "execution_count": 42,
   "id": "8eef8b46-6444-480e-af43-690bcc132afa",
   "metadata": {},
   "outputs": [
    {
     "data": {
      "text/plain": [
       "31"
      ]
     },
     "execution_count": 42,
     "metadata": {},
     "output_type": "execute_result"
    }
   ],
   "source": [
    "next(x)"
   ]
  },
  {
   "cell_type": "code",
   "execution_count": 43,
   "id": "0e3d91ea-82b9-44c4-a299-ee2eb705de5f",
   "metadata": {},
   "outputs": [
    {
     "data": {
      "text/plain": [
       "37"
      ]
     },
     "execution_count": 43,
     "metadata": {},
     "output_type": "execute_result"
    }
   ],
   "source": [
    "next(x)"
   ]
  },
  {
   "cell_type": "code",
   "execution_count": 44,
   "id": "ee047802-2214-421b-9ff1-23fe01a80e85",
   "metadata": {},
   "outputs": [
    {
     "data": {
      "text/plain": [
       "41"
      ]
     },
     "execution_count": 44,
     "metadata": {},
     "output_type": "execute_result"
    }
   ],
   "source": [
    "next(x)"
   ]
  },
  {
   "cell_type": "code",
   "execution_count": 45,
   "id": "84abb193-cb71-4172-a9e8-49ca3a13b623",
   "metadata": {},
   "outputs": [
    {
     "data": {
      "text/plain": [
       "43"
      ]
     },
     "execution_count": 45,
     "metadata": {},
     "output_type": "execute_result"
    }
   ],
   "source": [
    "next(x)"
   ]
  },
  {
   "cell_type": "code",
   "execution_count": 46,
   "id": "ecffa62e-eb74-4b51-8338-7387454704c3",
   "metadata": {},
   "outputs": [
    {
     "data": {
      "text/plain": [
       "47"
      ]
     },
     "execution_count": 46,
     "metadata": {},
     "output_type": "execute_result"
    }
   ],
   "source": [
    "next(x)"
   ]
  },
  {
   "cell_type": "code",
   "execution_count": 47,
   "id": "7ab773c2-9306-45c7-8033-137fe46f48c7",
   "metadata": {},
   "outputs": [
    {
     "data": {
      "text/plain": [
       "53"
      ]
     },
     "execution_count": 47,
     "metadata": {},
     "output_type": "execute_result"
    }
   ],
   "source": [
    "next(x)"
   ]
  },
  {
   "cell_type": "code",
   "execution_count": 48,
   "id": "97b5aa30-e7fe-42e2-8894-1ac938715ad9",
   "metadata": {},
   "outputs": [
    {
     "data": {
      "text/plain": [
       "59"
      ]
     },
     "execution_count": 48,
     "metadata": {},
     "output_type": "execute_result"
    }
   ],
   "source": [
    "next(x)"
   ]
  },
  {
   "cell_type": "code",
   "execution_count": 49,
   "id": "87fc9b3a-a33f-43c6-9f84-c3a015347817",
   "metadata": {},
   "outputs": [
    {
     "data": {
      "text/plain": [
       "61"
      ]
     },
     "execution_count": 49,
     "metadata": {},
     "output_type": "execute_result"
    }
   ],
   "source": [
    "next(x)"
   ]
  },
  {
   "cell_type": "code",
   "execution_count": 50,
   "id": "862cef65-6812-4484-91ac-3b944bb65fc6",
   "metadata": {},
   "outputs": [
    {
     "data": {
      "text/plain": [
       "67"
      ]
     },
     "execution_count": 50,
     "metadata": {},
     "output_type": "execute_result"
    }
   ],
   "source": [
    "next(x)"
   ]
  },
  {
   "cell_type": "code",
   "execution_count": 51,
   "id": "5e2c7dfe-6592-4e00-9bef-ec6f80ed11a8",
   "metadata": {},
   "outputs": [
    {
     "data": {
      "text/plain": [
       "71"
      ]
     },
     "execution_count": 51,
     "metadata": {},
     "output_type": "execute_result"
    }
   ],
   "source": [
    "next(x)"
   ]
  }
 ],
 "metadata": {
  "kernelspec": {
   "display_name": "Python 3 (ipykernel)",
   "language": "python",
   "name": "python3"
  },
  "language_info": {
   "codemirror_mode": {
    "name": "ipython",
    "version": 3
   },
   "file_extension": ".py",
   "mimetype": "text/x-python",
   "name": "python",
   "nbconvert_exporter": "python",
   "pygments_lexer": "ipython3",
   "version": "3.10.8"
  }
 },
 "nbformat": 4,
 "nbformat_minor": 5
}
