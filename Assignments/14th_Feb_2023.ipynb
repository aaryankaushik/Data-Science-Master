{
 "cells": [
  {
   "cell_type": "markdown",
   "id": "fcf21630-1930-41c3-b8f6-8152e65b9285",
   "metadata": {},
   "source": [
    "# 14 February 2023\n",
    "#### Author: AARYAN KAUSHIK"
   ]
  },
  {
   "cell_type": "markdown",
   "id": "b0ef5222-a7e4-4948-b5ca-b14e0f6fc5ac",
   "metadata": {},
   "source": [
    "#### Q1. What is multithreading in python? why is it used? Name the module used to handle threads in python.\n",
    "    we can achieve multitasking using multithreading, However threads do not get executed in parallel.\n",
    "\n",
    "Threads are separate entities of execution flow of different parts of program and it runs independently. So essentially, threads do not execute in parallel, but Python switches from one thread to another thread so fast that it seems they are parallel.\n",
    "\n",
    "why it is used?\n",
    "Multithreading is the way to make the code faster and achieve that optimization using “Threads”. \n",
    "\n",
    "threading module is used to handle the threads in python."
   ]
  },
  {
   "cell_type": "markdown",
   "id": "0aa1fd3d-b566-4d90-a0e0-7674fd504ae3",
   "metadata": {},
   "source": [
    "#### Q2. Why threading module used? write the use of the following functions\n",
    "#### 1. activeCount()\n",
    "#### 2. currentThread()\n",
    "#### 3. enumerate()\n",
    "        threading module is used to handle the threads in python.\n",
    "1. active_count() : It is an inbuilt method of the threading module in Python. It is used to return the number of Thread objects that are active at any instant.\n",
    "2. current_thread() : Return the current Thread object\n",
    "3. enumerate() : to get a list of all running threads"
   ]
  },
  {
   "cell_type": "code",
   "execution_count": 1,
   "id": "55622df6-da12-4ae1-b8a5-30a922eef11b",
   "metadata": {},
   "outputs": [
    {
     "name": "stdout",
     "output_type": "stream",
     "text": [
      "active threads in the starting: 8\n",
      "Number of active threads: 11\n",
      "Value by Thread 3: 3\n",
      "Number of active threads: 10\n",
      "Value by Thread 1: 1\n",
      "Number of active threads: 9\n",
      "Value by Thread 2: 2\n"
     ]
    }
   ],
   "source": [
    "# code to demonstrate the active_count()\n",
    "\n",
    "# number of active threads keep decreasing in value once it gets executed....\n",
    "\n",
    "import time\n",
    "import threading\n",
    "\n",
    "def thread_1(i):\n",
    "    time.sleep(2)\n",
    "    print(\"Number of active threads:\", threading.active_count())   # Return the number of Thread objects currently alive. \n",
    "    print('Value by Thread 1:', i)\n",
    "\n",
    "def thread_2(i):\n",
    "    time.sleep(5)\n",
    "    print(\"Number of active threads:\", threading.active_count())   # Return the number of Thread objects currently alive.\n",
    "    print('Value by Thread 2:', i)\n",
    "    \n",
    "def thread_3(i):\n",
    "    print(\"Number of active threads:\", threading.active_count())   # Return the number of Thread objects currently alive.\n",
    "    print(\"Value by Thread 3:\", i)\n",
    "    \n",
    "thread1 = threading.Thread(target=thread_1, args=(1,))\n",
    "thread2 = threading.Thread(target=thread_2, args=(2,))\n",
    "thread3 = threading.Thread(target=thread_3, args=(3,))\n",
    "\n",
    "print(\"active threads in the starting:\", threading.active_count())\n",
    "\n",
    "thread1.start()\n",
    "thread2.start()\n",
    "thread3.start()"
   ]
  },
  {
   "cell_type": "code",
   "execution_count": 2,
   "id": "8c0f3b61-43cc-4c79-97db-f2bd9a7cdb11",
   "metadata": {},
   "outputs": [
    {
     "name": "stdout",
     "output_type": "stream",
     "text": [
      "Active current thread right now: <_MainThread(MainThread, started 139856541144896)>\n",
      "Active current thread right now: <Thread(Thread-10 (thread_3), started 139856038569536)>\n",
      "Value by Thread 3: 3\n",
      "Active current thread right now: <Thread(Thread-8 (thread_1), started 139856046962240)>\n",
      "Value by Thread 1: 1\n"
     ]
    }
   ],
   "source": [
    "# code to demonstrate the current_thread()\n",
    "\n",
    "def thread_1(i):\n",
    "    time.sleep(2)\n",
    "    print(\"Active current thread right now:\", (threading.current_thread()))\n",
    "    print('Value by Thread 1:', i)\n",
    "\n",
    "def thread_2(i):\n",
    "    time.sleep(5)\n",
    "    print(\"Active current thread right now:\", (threading.current_thread()))\n",
    "    print('Value by Thread 2:', i)\n",
    "    \n",
    "def thread_3(i):\n",
    "    print(\"Active current thread right now:\", (threading.current_thread()))\n",
    "    print(\"Value by Thread 3:\", i)\n",
    "\n",
    "thread1 = threading.Thread(target=thread_1, args=(1,))\n",
    "thread2 = threading.Thread(target=thread_2, args=(2,))\n",
    "thread3 = threading.Thread(target=thread_3, args=(3,))\n",
    "\n",
    "print(\"Active current thread right now:\", (threading.current_thread()))\n",
    "thread1.start()\n",
    "thread2.start()\n",
    "thread3.start()"
   ]
  },
  {
   "cell_type": "code",
   "execution_count": 3,
   "id": "2be56343-8aa8-43ba-9f75-8d6175d5b167",
   "metadata": {},
   "outputs": [
    {
     "name": "stdout",
     "output_type": "stream",
     "text": [
      "MainThread\n",
      "IOPub\n",
      "Heartbeat\n",
      "Thread-3 (_watch_pipe_fd)\n",
      "Thread-4 (_watch_pipe_fd)\n",
      "Control\n",
      "IPythonHistorySavingThread\n",
      "Thread-2\n",
      "Thread-9 (thread_2)\n",
      "Active current thread right now: <Thread(Thread-9 (thread_2), started 139856055354944)>\n",
      "Value by Thread 2: 2\n"
     ]
    }
   ],
   "source": [
    "for thread in threading.enumerate(): \n",
    "    print(thread.name)"
   ]
  },
  {
   "cell_type": "markdown",
   "id": "57f66f8b-5dd5-4772-a9d2-749d1b40553e",
   "metadata": {},
   "source": [
    "#### Q3. Explain the following functions\n",
    "#### 1. run()\n",
    "#### 2. start()\n",
    "#### 3. join()\n",
    "#### 4. isAlive()\n",
    "\n",
    "1. run() : Represent a thread's activity.\n",
    "2. start() : Starts a thread's activity\n",
    "3. join() : Blocks the calling thread till the time the thread whose join() method is called terminates, either normally or through an unhandled exception.\n",
    "4. isAlive() : Checks whether that thread is alive or not."
   ]
  },
  {
   "cell_type": "code",
   "execution_count": 4,
   "id": "63023742-1965-41b9-9aa0-08415e2b40c0",
   "metadata": {},
   "outputs": [
    {
     "name": "stdout",
     "output_type": "stream",
     "text": [
      "Value by Thread 1: 1\n",
      "Value by Thread 2: 2\n"
     ]
    }
   ],
   "source": [
    "# code to demonstrate the run() methode.\n",
    "\n",
    "def thread_1(i):\n",
    "    print('Value by Thread 1:', i)\n",
    "\n",
    "def thread_2(i):\n",
    "    print('Value by Thread 2:', i) \n",
    "    \n",
    "thread1 = threading.Thread(target=thread_1, args=(1,))\n",
    "thread2 = threading.Thread(target=thread_2, args=(2,))\n",
    "\n",
    "thread1.run()\n",
    "thread2.run()"
   ]
  },
  {
   "cell_type": "code",
   "execution_count": 5,
   "id": "e1797fba-aed6-4e7e-9e08-f02ac6c815e2",
   "metadata": {},
   "outputs": [
    {
     "name": "stdout",
     "output_type": "stream",
     "text": [
      "Value by Thread 2: 2\n"
     ]
    }
   ],
   "source": [
    "# code to demonstrate the start() methode.\n",
    "\n",
    "def thread_1(i):\n",
    "    time.sleep(5)\n",
    "    print('Value by Thread 1:', i)\n",
    "\n",
    "def thread_2(i):\n",
    "    print('Value by Thread 2:', i)\n",
    "    \n",
    "thread1 = threading.Thread(target=thread_1, args=(1,))\n",
    "thread2 = threading.Thread(target=thread_2, args=(2,))\n",
    "\n",
    "thread1.start()\n",
    "thread2.start()"
   ]
  },
  {
   "cell_type": "code",
   "execution_count": 6,
   "id": "d558c3ef-53a1-44b0-87ee-d8a70fc8240a",
   "metadata": {},
   "outputs": [
    {
     "name": "stdout",
     "output_type": "stream",
     "text": [
      "Value by Thread 1: 1\n",
      "Value by Thread 1: 1\n",
      "Value by Thread 2: 2\n",
      "Value by Thread 3: 3\n"
     ]
    }
   ],
   "source": [
    "# code to demonstrate the join() methode.\n",
    "\n",
    "def thread_1(i):\n",
    "    time.sleep(2)\n",
    "    print('Value by Thread 1:', i)\n",
    "\n",
    "def thread_2(i):\n",
    "    time.sleep(5)\n",
    "    print('Value by Thread 2:', i)\n",
    "\n",
    "def thread_3(i):\n",
    "    print('Value by Thread 3:', i)    \n",
    "\n",
    "thread1 = threading.Thread(target=thread_1, args=(1,))\n",
    "thread2 = threading.Thread(target=thread_2, args=(2,))\n",
    "thread3 = threading.Thread(target=thread_3, args=(3,))\n",
    "\n",
    "thread1.start()\n",
    "thread1.join()\n",
    "thread2.start()\n",
    "thread2.join()\n",
    "thread3.start()\n",
    "thread3.join()"
   ]
  },
  {
   "cell_type": "code",
   "execution_count": 7,
   "id": "64211d77-50d2-48cd-be8a-da8454dbbb72",
   "metadata": {},
   "outputs": [
    {
     "name": "stdout",
     "output_type": "stream",
     "text": [
      "Is thread1 alive: False\n",
      "Is thread2 alive: False\n",
      "\n",
      "Value by Thread 2: 2\n",
      "Is thread1 alive: True\n",
      "Is thread2 alive: False\n",
      "Value by Thread 1: 1\n"
     ]
    }
   ],
   "source": [
    "# code to demonstrate the isalive() methode..\n",
    "\n",
    "def thread_1(i):\n",
    "    time.sleep(5)\n",
    "    print('Value by Thread 1:', i)\n",
    "\n",
    "def thread_2(i):\n",
    "    print('Value by Thread 2:', i)\n",
    "    \n",
    "thread1 = threading.Thread(target=thread_1, args=(1,))\n",
    "thread2 = threading.Thread(target=thread_2, args=(2,))\n",
    "\n",
    "# Before calling the start(), both threads are not alive\n",
    "print(\"Is thread1 alive:\", thread1.is_alive())\n",
    "print(\"Is thread2 alive:\", thread2.is_alive())\n",
    "print()\n",
    "\n",
    "thread1.start()\n",
    "thread2.start()\n",
    "# Since thread11 is on sleep for 5 seconds, it is alive\n",
    "# while thread 2 is executed instantly\n",
    "\n",
    "print(\"Is thread1 alive:\", thread1.is_alive())\n",
    "print(\"Is thread2 alive:\", thread2.is_alive())"
   ]
  },
  {
   "cell_type": "markdown",
   "id": "c4bd5232-8b7d-4536-b8fb-40a192fe02c9",
   "metadata": {},
   "source": [
    "#### Q4. Write a python program to create two threads. Thread one must print the list of squares and thread two must print the list of cubes."
   ]
  },
  {
   "cell_type": "code",
   "execution_count": 8,
   "id": "60954ea6-f4bf-469d-a088-23e8a543d53d",
   "metadata": {},
   "outputs": [
    {
     "name": "stdout",
     "output_type": "stream",
     "text": [
      "[1, 4, 9, 16, 25, 36, 49, 64, 81, 100]\n",
      "[1, 8, 27, 64, 125, 216, 343, 512, 729, 1000]\n"
     ]
    }
   ],
   "source": [
    "lst = [1,2,3,4,5,6,7,8,9,10]\n",
    "\n",
    "def num_square(lst):\n",
    "    lst1=[]\n",
    "    for i in lst:\n",
    "        lst1.append(i**2)\n",
    "    print(lst1)\n",
    "\n",
    "def num_cube(lst):\n",
    "    lst2=[]\n",
    "    for j in lst:\n",
    "        lst2.append(j**3)\n",
    "    print(lst2)\n",
    "    \n",
    "thread1 = threading.Thread(target=num_square, args=(lst,))\n",
    "thread2 = threading.Thread(target=num_cube, args=(lst,))\n",
    "\n",
    "thread1.start()\n",
    "thread2.start()\n"
   ]
  },
  {
   "cell_type": "markdown",
   "id": "7231e64d-b56a-472b-a5d1-9643311cffe9",
   "metadata": {},
   "source": [
    "#### Q5. State advantages and disadvantages of multithreading.\n",
    "\n",
    "Advantages: \n",
    "    \n",
    "1. Resource Sharing - threads share the memory and the resources of the process. The benefit of sharing code and data is that it allows an application to have several threads of activity within same address space.\n",
    "\n",
    "2. Economy – Allocating memory and resources for process creation is a costly job in terms of time and space. Since, threads share memory with the process it belongs, it is more economical to create and context switch threads.\n",
    "\n",
    "3. Responsiveness – it allows a program to continue running even if a part of it is blocked or is performing a lengthy operation, thereby increasing responsiveness to the user.\n",
    "\n",
    "4. Scalability – The benefits of multi-programming greatly increase in case of multiprocessor architecture, where threads may be running parallel on multiple processors. If there is only one thread then it is not possible to divide the processes into smaller tasks that different processors can perform.\n",
    "\n",
    "Disadvantages: \n",
    "\n",
    "1. Concurrency issues: Concurrent access to shared resources can result in race conditions, deadlocks, and other synchronization problems. For example, two threads may try to modify the same data structure simultaneously, leading to inconsistent results.\n",
    "\n",
    "2. Deadlocks: Deadlocks can occur when two or more threads are waiting for each other to release resources, resulting in a deadlock situation where neither thread can proceed.\n",
    "\n",
    "3. Race conditions: Race conditions occur when the outcome of a program depends on the timing or order of execution of threads. These conditions can be difficult to predict and debug.\n",
    "\n",
    "4. Performance overhead: Managing multiple threads can introduce additional overhead in terms of memory usage, context switching, and scheduling.\n",
    "\n",
    "5. Debugging complexity: Debugging multi-threaded programs can be difficult, as the behavior of threads can be unpredictable and difficult to reproduce.\n",
    "\n",
    "6. Memory consistency issues: Multiple threads may have inconsistent views of memory, leading to issues with memory consistency and data integrity."
   ]
  },
  {
   "cell_type": "markdown",
   "id": "f5f26977-e498-4a17-b42e-344b27cc451b",
   "metadata": {},
   "source": [
    "#### Q6. Explain deadlocks and race conditions.\n",
    "1. Deadlocks: Deadlocks can occur when two or more threads are waiting for each other to release resources, resulting in a deadlock situation where neither thread can proceed.\n",
    "2. Race conditions: Race conditions occur when the outcome of a program depends on the timing or order of execution of threads. These conditions can be difficult to predict and debug."
   ]
  },
  {
   "cell_type": "code",
   "execution_count": null,
   "id": "cdaa7b2a-0581-44ce-aa2e-34e48dd4c568",
   "metadata": {},
   "outputs": [],
   "source": []
  }
 ],
 "metadata": {
  "kernelspec": {
   "display_name": "Python 3 (ipykernel)",
   "language": "python",
   "name": "python3"
  },
  "language_info": {
   "codemirror_mode": {
    "name": "ipython",
    "version": 3
   },
   "file_extension": ".py",
   "mimetype": "text/x-python",
   "name": "python",
   "nbconvert_exporter": "python",
   "pygments_lexer": "ipython3",
   "version": "3.10.8"
  }
 },
 "nbformat": 4,
 "nbformat_minor": 5
}
