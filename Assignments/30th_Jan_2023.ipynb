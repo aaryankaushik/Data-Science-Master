{
 "cells": [
  {
   "cell_type": "markdown",
   "id": "8cd45d88-dd07-4f49-b961-62bc16aafd0d",
   "metadata": {},
   "source": [
    "# 30 January 2023\n",
    "#### Author: AARYAN KAUSHIK"
   ]
  },
  {
   "cell_type": "markdown",
   "id": "4468feea-8395-482b-b2a1-53c5d814cdda",
   "metadata": {},
   "source": [
    "## 1\n",
    "#### Write a programme to accept percentage from the user and display the grade according to the following criteria.\n",
    "\n",
    "|Marks | Grade|\n",
    "|-|-|\n",
    "|**>90**|A|\n",
    "|**>80 and <=90**|B|\n",
    "|**>=60 and <=80**|C| \n",
    "|**<60**|D|"
   ]
  },
  {
   "cell_type": "code",
   "execution_count": 1,
   "id": "4c0cc8b3-8bd2-46b9-9f51-c2daea3b1b09",
   "metadata": {},
   "outputs": [
    {
     "name": "stdin",
     "output_type": "stream",
     "text": [
      "Enter Percentage:  80\n"
     ]
    },
    {
     "name": "stdout",
     "output_type": "stream",
     "text": [
      "C\n"
     ]
    }
   ],
   "source": [
    "###1\n",
    "user_input = int(input(\"Enter Percentage: \"))\n",
    "if user_input > 90:\n",
    "    print(\"A\")\n",
    "elif user_input > 80 and user_input <= 90:\n",
    "    print(\"B\")\n",
    "elif user_input >= 60 and user_input <= 80:\n",
    "    print(\"C\")\n",
    "else:\n",
    "    print(\"D\")"
   ]
  },
  {
   "cell_type": "markdown",
   "id": "550013df-5b48-4b93-b201-afb03b4ded00",
   "metadata": {},
   "source": [
    "## 2 \n",
    "#### Wite a programme to accept cost price of a bike and display the road tax to be paid according to the following criteria.\n",
    "\n",
    "|Tax | Cost Price (Rs.)|\n",
    "|-|-|\n",
    "|**15%**|>100000|\n",
    "|**10%**|>50000 and <=100000|\n",
    "|**5%**|<=50000| "
   ]
  },
  {
   "cell_type": "code",
   "execution_count": 2,
   "id": "562d5f00-930e-4c83-b5ca-d47d37fbb1ab",
   "metadata": {},
   "outputs": [
    {
     "name": "stdin",
     "output_type": "stream",
     "text": [
      "Enter the bike price 78000\n"
     ]
    },
    {
     "name": "stdout",
     "output_type": "stream",
     "text": [
      "Tax 10%\n"
     ]
    }
   ],
   "source": [
    "###2\n",
    "bike_price = int(input(\"Enter the bike price\"))\n",
    "if bike_price > 100000:\n",
    "    print(\"Tax 15%\")\n",
    "elif bike_price > 50000 and bike_price <= 100000:\n",
    "    print(\"Tax 10%\")\n",
    "else:\n",
    "    print(\"Tax 5%\")"
   ]
  },
  {
   "cell_type": "markdown",
   "id": "4335ed7a-b2b8-4f40-a72e-37f97e498015",
   "metadata": {},
   "source": [
    "## 3\n",
    "#### Accept any city from user and display monumnet of that city.\n",
    "\n",
    "|City | Monument |\n",
    "|-|-|\n",
    "|**Delhi**|Red Fort|\n",
    "|**Agra**|Taj Mahal|\n",
    "|**Jaipur**|Jal Mahal| "
   ]
  },
  {
   "cell_type": "code",
   "execution_count": 3,
   "id": "5c4706cc-0d5c-4847-b10a-c0bb993b123e",
   "metadata": {},
   "outputs": [
    {
     "name": "stdin",
     "output_type": "stream",
     "text": [
      "Enter city Delhi/Agra/Jaipur:  agra\n"
     ]
    },
    {
     "name": "stdout",
     "output_type": "stream",
     "text": [
      "Taj Mahal\n"
     ]
    }
   ],
   "source": [
    "###3\n",
    "accept_city = input(\"Enter city Delhi/Agra/Jaipur: \")\n",
    "if accept_city == \"Delhi\" or accept_city == \"delhi\":\n",
    "    print(\"Red Fort\")\n",
    "elif accept_city == \"Agra\" or accept_city == \"agra\":\n",
    "    print(\"Taj Mahal\")\n",
    "elif accept_city == \"Jaipur\" or accept_city == \"jaipur\":\n",
    "    print(\"Jal Mahal\")\n",
    "else:\n",
    "    print(\"enter correct city name from the option\")"
   ]
  },
  {
   "cell_type": "markdown",
   "id": "3aeb579b-cbdb-4323-9762-d8c72b8d5510",
   "metadata": {},
   "source": [
    "## 4 \n",
    "#### Check how many times a given number can be divided by 3 before it is less than or equal to 10"
   ]
  },
  {
   "cell_type": "code",
   "execution_count": 4,
   "id": "7cdd4cc0-f163-4f4b-b88d-0322774a5a1c",
   "metadata": {},
   "outputs": [
    {
     "name": "stdin",
     "output_type": "stream",
     "text": [
      "Enter the number:  200\n"
     ]
    },
    {
     "name": "stdout",
     "output_type": "stream",
     "text": [
      "This nuber can be divided 2 times\n"
     ]
    }
   ],
   "source": [
    "div_num = int(input(\"Enter the number: \"))\n",
    "\n",
    "count = 0\n",
    "while div_num/3>=10:\n",
    "    div_num = div_num/3\n",
    "    count=count+1\n",
    "\n",
    "print(f\"This nuber can be divided {count} times\")"
   ]
  },
  {
   "cell_type": "markdown",
   "id": "06e3352a-02a4-42f1-a4cb-4ada77b4ceb7",
   "metadata": {},
   "source": [
    "## 5\n",
    "#### Why and when to use while loop in python and give detailed description with example.\n",
    "\n",
    "The for statement iterates through a collection or iterable object or generator function. The while statement simply loops until a condition is False."
   ]
  },
  {
   "cell_type": "code",
   "execution_count": 5,
   "id": "57baa528-29a7-472d-a3e4-fc2c3178b0a6",
   "metadata": {},
   "outputs": [
    {
     "name": "stdout",
     "output_type": "stream",
     "text": [
      "0\n",
      "1\n",
      "2\n",
      "3\n",
      "4\n",
      "5\n",
      "6\n",
      "7\n",
      "8\n",
      "9\n",
      "10\n"
     ]
    }
   ],
   "source": [
    "###5\n",
    "n = 0\n",
    "while n<=10: # end when it reach 10 because the condition says it should be less than equal 10\n",
    "    print(n)\n",
    "    n=n+1  # increase n by 1."
   ]
  },
  {
   "cell_type": "markdown",
   "id": "9ef201cd-0ea9-4279-bd17-52c88cdc6eba",
   "metadata": {},
   "source": [
    "## 6 \n",
    "#### Use nested while loop to print 3 different pattern."
   ]
  },
  {
   "cell_type": "code",
   "execution_count": 6,
   "id": "a7574d24-0791-4933-9720-e3e6cf426eb3",
   "metadata": {},
   "outputs": [
    {
     "name": "stdout",
     "output_type": "stream",
     "text": [
      "* * * * * * * * * * \n",
      "  * * * * * * * * * \n",
      "    * * * * * * * * \n",
      "      * * * * * * * \n",
      "        * * * * * * \n",
      "          * * * * * \n",
      "            * * * * \n",
      "              * * * \n",
      "                * * \n",
      "                  * \n"
     ]
    }
   ],
   "source": [
    "#### 1st pattern\n",
    "rows = 10\n",
    "i = rows\n",
    "while i >= 1:\n",
    "    j = rows\n",
    "    while j > i:\n",
    "        # display space\n",
    "        print(' ', end=' ')\n",
    "        j -= 1\n",
    "    k = 1\n",
    "    while k <= i:\n",
    "        print('*', end=' ')\n",
    "        k += 1\n",
    "    print()\n",
    "    i -= 1"
   ]
  },
  {
   "cell_type": "code",
   "execution_count": 7,
   "id": "56ae5754-f3bb-482c-8d13-5ade3444b904",
   "metadata": {},
   "outputs": [
    {
     "name": "stdout",
     "output_type": "stream",
     "text": [
      "                  * \n",
      "                * * \n",
      "              * * * \n",
      "            * * * * \n",
      "          * * * * * \n",
      "        * * * * * * \n",
      "      * * * * * * * \n",
      "    * * * * * * * * \n",
      "  * * * * * * * * * \n",
      "* * * * * * * * * * \n"
     ]
    }
   ],
   "source": [
    "#### 2nd pattern\n",
    "rows = 10\n",
    "i = 1\n",
    "while i <= rows:\n",
    "    j = i\n",
    "    while j < rows:\n",
    "        # display space\n",
    "        print(' ', end=' ')\n",
    "        j += 1\n",
    "    k = 1\n",
    "    while k <= i:\n",
    "        print('*', end=' ')\n",
    "        k += 1\n",
    "    print()\n",
    "    i += 1"
   ]
  },
  {
   "cell_type": "code",
   "execution_count": 8,
   "id": "dcf16bc0-9ae8-4724-a040-4b156fd72d95",
   "metadata": {},
   "outputs": [
    {
     "name": "stdout",
     "output_type": "stream",
     "text": [
      "         * \n",
      "        * * \n",
      "       * * * \n",
      "      * * * * \n",
      "     * * * * * \n",
      "    * * * * * * \n",
      "   * * * * * * * \n",
      "  * * * * * * * * \n",
      " * * * * * * * * * \n",
      "* * * * * * * * * * \n"
     ]
    }
   ],
   "source": [
    "#### 3rd pattern\n",
    "i = rows - 1\n",
    "while i >= 0:\n",
    "    j = 0\n",
    "    while j < i:\n",
    "        print('', end=' ')\n",
    "        j += 1\n",
    "    k = i\n",
    "    while k <= rows - 1:\n",
    "        print('*', end=' ')\n",
    "        k += 1\n",
    "    print('')\n",
    "    i -= 1"
   ]
  },
  {
   "cell_type": "markdown",
   "id": "7f2daccb-a431-4c10-8dc9-476d1a79f655",
   "metadata": {},
   "source": [
    "## 7 \n",
    "#### Reverse a while loop to display numbers from 10 to 1"
   ]
  },
  {
   "cell_type": "code",
   "execution_count": 9,
   "id": "984ea7e6-d839-4a37-a876-3b4452840393",
   "metadata": {},
   "outputs": [
    {
     "name": "stdin",
     "output_type": "stream",
     "text": [
      "Enter any number to reverse:  10\n"
     ]
    },
    {
     "name": "stdout",
     "output_type": "stream",
     "text": [
      "10,9,8,7,6,5,4,3,2,1,"
     ]
    }
   ],
   "source": [
    "rev_num = int(input(\"Enter any number to reverse: \"))\n",
    "while rev_num>0:\n",
    "    print(rev_num,end=\",\")\n",
    "    rev_num=rev_num-1"
   ]
  },
  {
   "cell_type": "code",
   "execution_count": null,
   "id": "5390fa49-d507-47fb-995b-afb09e8ecafc",
   "metadata": {},
   "outputs": [],
   "source": []
  }
 ],
 "metadata": {
  "kernelspec": {
   "display_name": "Python 3 (ipykernel)",
   "language": "python",
   "name": "python3"
  },
  "language_info": {
   "codemirror_mode": {
    "name": "ipython",
    "version": 3
   },
   "file_extension": ".py",
   "mimetype": "text/x-python",
   "name": "python",
   "nbconvert_exporter": "python",
   "pygments_lexer": "ipython3",
   "version": "3.10.8"
  }
 },
 "nbformat": 4,
 "nbformat_minor": 5
}
