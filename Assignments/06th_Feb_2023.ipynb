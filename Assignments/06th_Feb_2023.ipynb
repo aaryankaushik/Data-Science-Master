{
 "cells": [
  {
   "cell_type": "markdown",
   "id": "b8307a98-98df-4b58-9e22-19d6d3b1acd3",
   "metadata": {},
   "source": [
    "# 6 February 2023\n",
    "#### Author: AARYAN KAUSHIK"
   ]
  },
  {
   "cell_type": "markdown",
   "id": "aab69fe5-04c1-48e2-8b58-22ff7ce18df6",
   "metadata": {},
   "source": [
    "#### Q1. Create a function which will take a list as an argument and return the product of all the numbers after creating a flat list.\n",
    "\n",
    "#### Use the below-given list as an argument for your function.\n",
    "\n",
    "\n",
    "#### list1 = [1,2,3,4, [44,55,66, True], False, (34,56,78,89,34), {1,2,3,3,2,1}, {1:34, \"key2\": [55, 67, 78, 89], 4: (45, 22, 61, 34)}, [56, 'data science'], 'Machine Learning']\n",
    "\n",
    "\n",
    "#### Note: you must extract numeric keys and values of the dictionary also."
   ]
  },
  {
   "cell_type": "code",
   "execution_count": 1,
   "id": "ac55cc38-426e-4020-a8ec-a3c63fbfdb74",
   "metadata": {},
   "outputs": [],
   "source": [
    "def give_int(n):\n",
    "    \n",
    "    lst = []   # empty list to store int numbers\n",
    "    \n",
    "    for i in n:  # looping through each eliment of the list\n",
    "        if type(i)==int:   \n",
    "            lst.append(i)  # int values will be stored in lst directly\n",
    "            \n",
    "        elif type(i) in [list,set,tuple]:   # if eliment is list,set or tuple..then it will loop though internally those element...\n",
    "            for j in i:\n",
    "                if type(j)==int:\n",
    "                    lst.append(j)\n",
    "                    \n",
    "        elif type(i)==dict:   # this condition is for dictionary..\n",
    "            \n",
    "            for x,y in i.items():\n",
    "                if type(x)==int:\n",
    "                    lst.append(x)\n",
    "                    if type(y)==int:\n",
    "                        lst.append(y)\n",
    "                if type(x) in [list,set,tuple]:\n",
    "                    for i in x:\n",
    "                        if type(i)==int:\n",
    "                            lst.append(i)\n",
    "                if type(y) in [list,set,tuple]:    \n",
    "                    for i in y:\n",
    "                        if type(i)==int:\n",
    "                            lst.append(i)\n",
    "    return lst"
   ]
  },
  {
   "cell_type": "code",
   "execution_count": 2,
   "id": "99b1ef90-ee4c-4fcc-b5ed-0097463882d3",
   "metadata": {},
   "outputs": [],
   "source": [
    "list1 = [1,2,3,4, [44,55,66, True], False, (34,56,78,89,34), {1,2,3,3,2,1}, {1:34, \"key2\": [55, 67, 78, 89], 4: (45,22, 61, 34)}, [56, 'data science'], 'Machine Learning']"
   ]
  },
  {
   "cell_type": "code",
   "execution_count": 3,
   "id": "c7025cb4-a795-477a-9f4d-6c0cfb2410d1",
   "metadata": {},
   "outputs": [
    {
     "name": "stdout",
     "output_type": "stream",
     "text": [
      "[1, 2, 3, 4, 44, 55, 66, 34, 56, 78, 89, 34, 1, 2, 3, 1, 34, 55, 67, 78, 89, 4, 45, 22, 61, 34, 56]\n"
     ]
    }
   ],
   "source": [
    "print(give_int(list1))"
   ]
  },
  {
   "cell_type": "markdown",
   "id": "c7057448-a26c-44d0-aa27-f3c266846177",
   "metadata": {},
   "source": [
    "#### Q2. Write a python program for encrypting a message sent to you by your friend. The logic of encryption should be such that, for a the output should be z. For b, the output should be y. For c, the output should be x respectively. Also, the whitespace should be replaced with a dollar sign. Keep the punctuation marks unchanged.\n",
    "\n",
    "\n",
    "#### Input Sentence: I want to become a Data Scientist.\n",
    "\n",
    "\n",
    "#### Encrypt the above input sentence using the program you just created.\n",
    "\n",
    "\n",
    "#### Note: Convert the given input sentence into lowercase before encrypting. The final output should be lowercase."
   ]
  },
  {
   "cell_type": "code",
   "execution_count": 4,
   "id": "92e98718-8e85-4adf-8bf4-c225a6928bbf",
   "metadata": {},
   "outputs": [],
   "source": [
    "lst_1 = \"abcdefghijklmnopqrstuvwxyz\"\n",
    "lst_2 = lst_1[::-1]"
   ]
  },
  {
   "cell_type": "code",
   "execution_count": 5,
   "id": "8deb834e-67e6-43da-8ec3-95448f70a8ff",
   "metadata": {},
   "outputs": [
    {
     "data": {
      "text/plain": [
       "'abcdefghijklmnopqrstuvwxyz'"
      ]
     },
     "execution_count": 5,
     "metadata": {},
     "output_type": "execute_result"
    }
   ],
   "source": [
    "lst_1"
   ]
  },
  {
   "cell_type": "code",
   "execution_count": 6,
   "id": "14a1cb23-8499-4d77-ad33-af1791e72604",
   "metadata": {},
   "outputs": [
    {
     "data": {
      "text/plain": [
       "'zyxwvutsrqponmlkjihgfedcba'"
      ]
     },
     "execution_count": 6,
     "metadata": {},
     "output_type": "execute_result"
    }
   ],
   "source": [
    "lst_2"
   ]
  },
  {
   "cell_type": "code",
   "execution_count": 7,
   "id": "44312a26-c2fc-4fcf-890a-491129928eef",
   "metadata": {},
   "outputs": [],
   "source": [
    "def encrypt_msg(n):\n",
    "    \n",
    "    msg = \"\"\n",
    "    \n",
    "    for i in n:\n",
    "        if i==\" \":\n",
    "            msg = msg + \"$\"\n",
    "        elif i==\".\":\n",
    "            msg = msg + \".\"\n",
    "        else:\n",
    "            x = lst_1.index(i.lower())\n",
    "            msg = msg + lst_2[x]\n",
    "    return msg"
   ]
  },
  {
   "cell_type": "code",
   "execution_count": 8,
   "id": "9e028c93-157f-48c6-9f84-f536ef01acd4",
   "metadata": {},
   "outputs": [
    {
     "data": {
      "text/plain": [
       "'r$dzmg$gl$yvxlnv$z$wzgz$hxrvmgrhg.'"
      ]
     },
     "execution_count": 8,
     "metadata": {},
     "output_type": "execute_result"
    }
   ],
   "source": [
    "n = \"I want to become a Data Scientist.\"\n",
    "encrypt_msg(n)"
   ]
  }
 ],
 "metadata": {
  "kernelspec": {
   "display_name": "Python 3 (ipykernel)",
   "language": "python",
   "name": "python3"
  },
  "language_info": {
   "codemirror_mode": {
    "name": "ipython",
    "version": 3
   },
   "file_extension": ".py",
   "mimetype": "text/x-python",
   "name": "python",
   "nbconvert_exporter": "python",
   "pygments_lexer": "ipython3",
   "version": "3.10.8"
  }
 },
 "nbformat": 4,
 "nbformat_minor": 5
}
