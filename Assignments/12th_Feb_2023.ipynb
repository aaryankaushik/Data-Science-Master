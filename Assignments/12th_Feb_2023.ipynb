{
 "cells": [
  {
   "cell_type": "markdown",
   "id": "162484a0-7422-445e-a694-22f757181bf0",
   "metadata": {},
   "source": [
    "# 10 February 2023\n",
    "#### Author: AARYAN KAUSHIK"
   ]
  },
  {
   "cell_type": "markdown",
   "id": "838ab977-9593-4149-bdce-d25e62e4aa29",
   "metadata": {},
   "source": [
    "#### Q.1 What is an Exception in python ? write the difference between exception and syntex error..\n",
    "    There are two types of error in python.\n",
    "    1. Syntax errors\n",
    "    2. Exceptions. "
   ]
  },
  {
   "cell_type": "code",
   "execution_count": 1,
   "id": "665dcbd0-31a5-465e-8784-907dc49242df",
   "metadata": {},
   "outputs": [
    {
     "ename": "SyntaxError",
     "evalue": "expected ':' (1317173723.py, line 3)",
     "output_type": "error",
     "traceback": [
      "\u001b[0;36m  Cell \u001b[0;32mIn[1], line 3\u001b[0;36m\u001b[0m\n\u001b[0;31m    for i in range(10)   # this will give me syntax error as i have not put colon after the for loop..\u001b[0m\n\u001b[0m                         ^\u001b[0m\n\u001b[0;31mSyntaxError\u001b[0m\u001b[0;31m:\u001b[0m expected ':'\n"
     ]
    }
   ],
   "source": [
    "# Errors are the problems in a program due to which the program will stop the execution. this is the sample code for syntax error..\n",
    "\n",
    "for i in range(10)   # this will give me syntax error as i have not put colon after the for loop..\n",
    "    print(i)"
   ]
  },
  {
   "cell_type": "code",
   "execution_count": 2,
   "id": "a506e087-25e7-45a7-9682-57c75e49c39d",
   "metadata": {},
   "outputs": [
    {
     "ename": "ZeroDivisionError",
     "evalue": "division by zero",
     "output_type": "error",
     "traceback": [
      "\u001b[0;31m---------------------------------------------------------------------------\u001b[0m",
      "\u001b[0;31mZeroDivisionError\u001b[0m                         Traceback (most recent call last)",
      "Cell \u001b[0;32mIn[2], line 7\u001b[0m\n\u001b[1;32m      1\u001b[0m \u001b[38;5;66;03m# Here Even if a code is syntactically correct, it may cause an error when an attempt is made to execute it.\u001b[39;00m\n\u001b[1;32m      2\u001b[0m \n\u001b[1;32m      3\u001b[0m \u001b[38;5;66;03m# exceptions are raised when some internal events occur which changes the normal flow of the program. \u001b[39;00m\n\u001b[1;32m      4\u001b[0m \u001b[38;5;66;03m# there are many types of exception like ZeroDivisionError, NameError and TypeError\u001b[39;00m\n\u001b[1;32m      6\u001b[0m a \u001b[38;5;241m=\u001b[39m \u001b[38;5;241m10\u001b[39m\n\u001b[0;32m----> 7\u001b[0m b \u001b[38;5;241m=\u001b[39m \u001b[43ma\u001b[49m\u001b[43m \u001b[49m\u001b[38;5;241;43m/\u001b[39;49m\u001b[43m \u001b[49m\u001b[38;5;241;43m0\u001b[39;49m\n",
      "\u001b[0;31mZeroDivisionError\u001b[0m: division by zero"
     ]
    }
   ],
   "source": [
    "# Here Even if a code is syntactically correct, it may cause an error when an attempt is made to execute it.\n",
    "\n",
    "# exceptions are raised when some internal events occur which changes the normal flow of the program. \n",
    "# there are many types of exception like ZeroDivisionError, NameError and TypeError\n",
    "\n",
    "a = 10\n",
    "b = a / 0"
   ]
  },
  {
   "cell_type": "markdown",
   "id": "ddf4560c-53bb-4749-9777-f04e0b5baf6e",
   "metadata": {},
   "source": [
    "#### Q.2 What happenes when execution not handled ? explain with an example.\n",
    "    When an exception occurred,and if we don’t handle it, the program terminates abruptly and the code after that line will not get executed"
   ]
  },
  {
   "cell_type": "code",
   "execution_count": 3,
   "id": "483bfe41-ab46-4f8b-8a3a-4fe5d3817a31",
   "metadata": {},
   "outputs": [
    {
     "ename": "TypeError",
     "evalue": "unsupported operand type(s) for +: 'int' and 'str'",
     "output_type": "error",
     "traceback": [
      "\u001b[0;31m---------------------------------------------------------------------------\u001b[0m",
      "\u001b[0;31mTypeError\u001b[0m                                 Traceback (most recent call last)",
      "Cell \u001b[0;32mIn[3], line 6\u001b[0m\n\u001b[1;32m      3\u001b[0m a \u001b[38;5;241m=\u001b[39m \u001b[38;5;241m10\u001b[39m\n\u001b[1;32m      4\u001b[0m b \u001b[38;5;241m=\u001b[39m \u001b[38;5;124m\"\u001b[39m\u001b[38;5;124mpython course\u001b[39m\u001b[38;5;124m\"\u001b[39m\n\u001b[0;32m----> 6\u001b[0m \u001b[43ma\u001b[49m\u001b[38;5;241;43m+\u001b[39;49m\u001b[43mb\u001b[49m  \u001b[38;5;66;03m# practically this is not possible and it will give me error.....\u001b[39;00m\n\u001b[1;32m      8\u001b[0m \u001b[38;5;28mprint\u001b[39m(\u001b[38;5;124m\"\u001b[39m\u001b[38;5;124mthis is my line after code which is going to give me error.. \u001b[39m\u001b[38;5;124m\"\u001b[39m)   \u001b[38;5;66;03m# here we can see that this last line will not get executed..\u001b[39;00m\n",
      "\u001b[0;31mTypeError\u001b[0m: unsupported operand type(s) for +: 'int' and 'str'"
     ]
    }
   ],
   "source": [
    "# here is the code to demonstrate the consequnces if exception not handled.\n",
    "\n",
    "a = 10\n",
    "b = \"python course\"\n",
    "\n",
    "a+b  # practically this is not possible and it will give me error.....\n",
    "\n",
    "print(\"this is my line after code which is going to give me error.. \")   # here we can see that this last line will not get executed.."
   ]
  },
  {
   "cell_type": "markdown",
   "id": "5e91588f-b2b7-488c-888c-f9f47ac2cef3",
   "metadata": {},
   "source": [
    "#### Q.3 which python function is used to catch and handle the exception? explain with an example...\n",
    "    Try and except statements are used to catch and handle exceptions in Python."
   ]
  },
  {
   "cell_type": "code",
   "execution_count": 4,
   "id": "ef105ed7-a024-439c-8be4-e34ebd79a035",
   "metadata": {},
   "outputs": [
    {
     "name": "stdout",
     "output_type": "stream",
     "text": [
      "list index out of range\n"
     ]
    }
   ],
   "source": [
    "# here is the code.\n",
    "\n",
    "l = [1,2,3,4]  # here i have defined a list having four element\n",
    "\n",
    "try:\n",
    "    print(l[10])   # try to access the element which is not present at that index..\n",
    "except Exception as e:\n",
    "    print(e)"
   ]
  },
  {
   "cell_type": "markdown",
   "id": "8d8bdedd-d179-4de9-9418-8fba16702e1b",
   "metadata": {},
   "source": [
    "#### Q.4 Explain with an example..\n",
    "    1. try and else\n",
    "    2. finally\n",
    "    3. raise"
   ]
  },
  {
   "cell_type": "code",
   "execution_count": 5,
   "id": "a739f351-bacc-4710-96f3-7eb505e3f7ba",
   "metadata": {},
   "outputs": [
    {
     "name": "stdout",
     "output_type": "stream",
     "text": [
      "this is the error [Errno 2] No such file or directory: 'abcd.txt'\n",
      "this will always get executed...\n"
     ]
    }
   ],
   "source": [
    "# here to the code to explain try and else block\n",
    "\n",
    "try:\n",
    "    f = open(\"abcd.txt\",\"r\")  # trying open the file which is not present..\n",
    "    f.close\n",
    "    \n",
    "except Exception as e:   # if try blocl throw error the it will come to except block\n",
    "    print(\"this is the error\",e)\n",
    "    \n",
    "else:   # since try block give error else block will not get executed\n",
    "    print(\"this will get executed only if try block gets executed succesfully..\")\n",
    "    \n",
    "finally:\n",
    "    print(\"this will always get executed...\")"
   ]
  },
  {
   "cell_type": "markdown",
   "id": "2a74b254-cda5-454a-9d3e-47e94b281996",
   "metadata": {},
   "source": [
    "#### Q.5 Create a custom exception class. use this class to handle the exception.."
   ]
  },
  {
   "cell_type": "code",
   "execution_count": 6,
   "id": "f6828e81-2602-41e7-83fb-ff92de8e6bfb",
   "metadata": {},
   "outputs": [],
   "source": [
    "# this is custom class to validate the age..\n",
    "\n",
    "class validate_age(Exception):\n",
    "    \n",
    "    def __init__(self,msg):\n",
    "        self.msg=msg"
   ]
  },
  {
   "cell_type": "code",
   "execution_count": 7,
   "id": "c396d733-6b2f-4e49-887f-eadda5a1667d",
   "metadata": {},
   "outputs": [],
   "source": [
    "# this is defined function to validate age input..\n",
    "\n",
    "def validate_age_input(age):\n",
    "    if age<0:\n",
    "        raise validate_age(\"age can not be less than zero..\")\n",
    "    elif age>200:\n",
    "        raise validate_age(\"age is too high...\")\n",
    "    else:\n",
    "        print(\"age is valid..\")"
   ]
  },
  {
   "cell_type": "code",
   "execution_count": 9,
   "id": "ed517b6a-9467-4961-862d-f9ca23c18725",
   "metadata": {},
   "outputs": [
    {
     "name": "stdin",
     "output_type": "stream",
     "text": [
      "enter your age:  0\n"
     ]
    },
    {
     "name": "stdout",
     "output_type": "stream",
     "text": [
      "age is valid..\n"
     ]
    }
   ],
   "source": [
    "# this is try block to handle the exception..\n",
    "\n",
    "try:\n",
    "    age = int(input(\"enter your age: \"))\n",
    "    validate_age_input(age)\n",
    "except validate_age as e:\n",
    "    print(e)"
   ]
  },
  {
   "cell_type": "code",
   "execution_count": 10,
   "id": "01113257-d3b1-45a3-a9e6-94c67bdd1ebb",
   "metadata": {},
   "outputs": [
    {
     "name": "stdin",
     "output_type": "stream",
     "text": [
      "enter your age:  800\n"
     ]
    },
    {
     "name": "stdout",
     "output_type": "stream",
     "text": [
      "age is too high...\n"
     ]
    }
   ],
   "source": [
    "# this is try block to handle the exception..\n",
    "\n",
    "try:\n",
    "    age = int(input(\"enter your age: \"))\n",
    "    validate_age_input(age)\n",
    "except validate_age as e:\n",
    "    print(e)"
   ]
  },
  {
   "cell_type": "code",
   "execution_count": 11,
   "id": "071420f2-0633-4dcf-b96d-0289f247a870",
   "metadata": {},
   "outputs": [
    {
     "name": "stdin",
     "output_type": "stream",
     "text": [
      "enter your age:  34\n"
     ]
    },
    {
     "name": "stdout",
     "output_type": "stream",
     "text": [
      "age is valid..\n"
     ]
    }
   ],
   "source": [
    "# this is try block to handle the exception..\n",
    "\n",
    "try:\n",
    "    age = int(input(\"enter your age: \"))\n",
    "    validate_age_input(age)\n",
    "except validate_age as e:\n",
    "    print(e)\n",
    "    "
   ]
  },
  {
   "cell_type": "code",
   "execution_count": null,
   "id": "8cfbbcf6-61f0-48a4-87f0-b47c231fda2e",
   "metadata": {},
   "outputs": [],
   "source": []
  }
 ],
 "metadata": {
  "kernelspec": {
   "display_name": "Python 3 (ipykernel)",
   "language": "python",
   "name": "python3"
  },
  "language_info": {
   "codemirror_mode": {
    "name": "ipython",
    "version": 3
   },
   "file_extension": ".py",
   "mimetype": "text/x-python",
   "name": "python",
   "nbconvert_exporter": "python",
   "pygments_lexer": "ipython3",
   "version": "3.10.8"
  }
 },
 "nbformat": 4,
 "nbformat_minor": 5
}
